{
 "cells": [
  {
   "cell_type": "markdown",
   "metadata": {},
   "source": [
    "# Porto Taxi Preprocessing"
   ]
  },
  {
   "cell_type": "markdown",
   "metadata": {
    "id": "6AzopIrsEO3h"
   },
   "source": [
    "Import dependencies required."
   ]
  },
  {
   "cell_type": "code",
   "execution_count": 1,
   "metadata": {
    "executionInfo": {
     "elapsed": 1205,
     "status": "ok",
     "timestamp": 1714542619713,
     "user": {
      "displayName": "toran jung shahi",
      "userId": "05569312742364291561"
     },
     "user_tz": -600
    },
    "id": "hN2yjon6EK_r"
   },
   "outputs": [],
   "source": [
    "import os\n",
    "from pathlib import Path #OS independent path objects\n",
    "import datetime as dt\n",
    "import numpy as np\n",
    "import pandas as pd\n",
    "import matplotlib.pyplot as plt\n",
    "import plotly.express as px\n",
    "from tqdm import tqdm"
   ]
  },
  {
   "cell_type": "markdown",
   "metadata": {
    "id": "toowpoVaEenC"
   },
   "source": [
    "Load data, expects data to be in DATASETS folder of current working directory with /Porto taxi/train.csv/train.csv subfolders."
   ]
  },
  {
   "cell_type": "code",
   "execution_count": 2,
   "metadata": {
    "executionInfo": {
     "elapsed": 8,
     "status": "ok",
     "timestamp": 1714542619713,
     "user": {
      "displayName": "toran jung shahi",
      "userId": "05569312742364291561"
     },
     "user_tz": -600
    },
    "id": "w6BarSzVEcqm"
   },
   "outputs": [],
   "source": [
    "rel_path = Path('DATASETS/Porto taxi/train.csv/train.csv')\n",
    "working_dir = Path('/content/drive/MyDrive/COMP9900')"
   ]
  },
  {
   "cell_type": "code",
   "execution_count": 3,
   "metadata": {
    "colab": {
     "base_uri": "https://localhost:8080/"
    },
    "executionInfo": {
     "elapsed": 24721,
     "status": "ok",
     "timestamp": 1714542644428,
     "user": {
      "displayName": "toran jung shahi",
      "userId": "05569312742364291561"
     },
     "user_tz": -600
    },
    "id": "dJPkw1PpXJ98",
    "outputId": "b51aea81-d17b-4997-da51-dd90487a84a6"
   },
   "outputs": [
    {
     "name": "stdout",
     "output_type": "stream",
     "text": [
      "Mounted at /content/drive\n"
     ]
    }
   ],
   "source": [
    "from google.colab import drive\n",
    "drive.mount('/content/drive')"
   ]
  },
  {
   "cell_type": "code",
   "execution_count": 4,
   "metadata": {
    "colab": {
     "base_uri": "https://localhost:8080/"
    },
    "executionInfo": {
     "elapsed": 34,
     "status": "ok",
     "timestamp": 1714542644429,
     "user": {
      "displayName": "toran jung shahi",
      "userId": "05569312742364291561"
     },
     "user_tz": -600
    },
    "id": "u57BeHU1Iox3",
    "outputId": "2fdd9301-9b87-45ea-cb13-68450eae2392"
   },
   "outputs": [
    {
     "name": "stdout",
     "output_type": "stream",
     "text": [
      "/content/drive/MyDrive/COMP9900\n"
     ]
    }
   ],
   "source": [
    "# cd to working dir applicable only for google colab env\n",
    "%cd '/content/drive/MyDrive/COMP9900'"
   ]
  },
  {
   "cell_type": "code",
   "execution_count": 5,
   "metadata": {
    "executionInfo": {
     "elapsed": 24,
     "status": "ok",
     "timestamp": 1714542644429,
     "user": {
      "displayName": "toran jung shahi",
      "userId": "05569312742364291561"
     },
     "user_tz": -600
    },
    "id": "LBklHAg4Fw16"
   },
   "outputs": [],
   "source": [
    "#create absolute path to dataset\n",
    "abs_path = os.getcwd() / rel_path"
   ]
  },
  {
   "cell_type": "code",
   "execution_count": 6,
   "metadata": {
    "colab": {
     "base_uri": "https://localhost:8080/"
    },
    "executionInfo": {
     "elapsed": 22,
     "status": "ok",
     "timestamp": 1714542644430,
     "user": {
      "displayName": "toran jung shahi",
      "userId": "05569312742364291561"
     },
     "user_tz": -600
    },
    "id": "uEBML8CbHPDM",
    "outputId": "74919d59-ae1b-4fc0-cba5-ae5ff3ea9449"
   },
   "outputs": [
    {
     "data": {
      "text/plain": [
       "PosixPath('/content/drive/MyDrive/COMP9900/DATASETS/Porto taxi/train.csv/train.csv')"
      ]
     },
     "execution_count": 6,
     "metadata": {},
     "output_type": "execute_result"
    }
   ],
   "source": [
    "#check absolute path to dataset\n",
    "abs_path"
   ]
  },
  {
   "cell_type": "markdown",
   "metadata": {
    "id": "HnRnKgbDyIOy"
   },
   "source": [
    "The Porto Taxi Dataset contains the trajectory records from 444 taxis in the city of Porto,\n",
    "Portugal, over the time-span of a year (from 01/07/2013 to 30/06/2014). There are 1,710,670\n",
    "records in total, where each record contains the trajectory of a particular taxi trip. The tra-\n",
    "jectory is represented as a list of GPS coordinates that are claimed to have been captured at\n",
    "an interval of approximately 15 seconds. The dataset comes from the ECML/PKDD 15: Taxi\n",
    "Trajectory Prediction challenge [8] hosted on Kaggle, which originally ran in 2015. For this project we have only used columns 'TAXI_ID', 'TIMESTAMP', 'MISSING_DATA' and 'POLYLINE'.\n"
   ]
  },
  {
   "cell_type": "code",
   "execution_count": 7,
   "metadata": {
    "colab": {
     "base_uri": "https://localhost:8080/"
    },
    "executionInfo": {
     "elapsed": 48979,
     "status": "ok",
     "timestamp": 1714542693396,
     "user": {
      "displayName": "toran jung shahi",
      "userId": "05569312742364291561"
     },
     "user_tz": -600
    },
    "id": "an1ERz6f3MWV",
    "outputId": "af9a4461-7ead-41fa-b38c-e4483131505f"
   },
   "outputs": [
    {
     "name": "stderr",
     "output_type": "stream",
     "text": [
      "LOADING DATA: 172it [00:47,  3.63it/s]\n"
     ]
    }
   ],
   "source": [
    "columns_to_load = [4,5,7,8]\n",
    "data = pd.concat([chunk for chunk in tqdm(pd.read_csv(abs_path, usecols = columns_to_load,chunksize=10000), desc='LOADING DATA')])\n",
    "data.columns = ['TAXI_ID','TIMESTAMP','MISSING_DATA','POLYLINE']"
   ]
  },
  {
   "cell_type": "markdown",
   "metadata": {
    "id": "YHOf2Vt0CNGk"
   },
   "source": [
    "Here, we can see that the whole dataset contains about 1.72 million trip records."
   ]
  },
  {
   "cell_type": "code",
   "execution_count": 8,
   "metadata": {
    "executionInfo": {
     "elapsed": 497,
     "status": "ok",
     "timestamp": 1714542693883,
     "user": {
      "displayName": "toran jung shahi",
      "userId": "05569312742364291561"
     },
     "user_tz": -600
    },
    "id": "v1mNoAlzKF_5"
   },
   "outputs": [],
   "source": [
    "data.drop(data[data[\"MISSING_DATA\"]==True].index, axis=0, inplace=True) #Drop rows that has missing data"
   ]
  },
  {
   "cell_type": "code",
   "execution_count": 9,
   "metadata": {
    "executionInfo": {
     "elapsed": 10,
     "status": "ok",
     "timestamp": 1714542693884,
     "user": {
      "displayName": "toran jung shahi",
      "userId": "05569312742364291561"
     },
     "user_tz": -600
    },
    "id": "FlJpfjJ6-GMZ"
   },
   "outputs": [],
   "source": [
    "#Now, lets drop MISSING_DATA column as it is not required.\n",
    "data = data.drop('MISSING_DATA',axis = 1)"
   ]
  },
  {
   "cell_type": "code",
   "execution_count": 10,
   "metadata": {
    "colab": {
     "base_uri": "https://localhost:8080/"
    },
    "executionInfo": {
     "elapsed": 1431,
     "status": "ok",
     "timestamp": 1714542695307,
     "user": {
      "displayName": "toran jung shahi",
      "userId": "05569312742364291561"
     },
     "user_tz": -600
    },
    "id": "lFWp0c3Ryt5o",
    "outputId": "bcf6c836-a9f4-43ac-8d0f-0bbe5409beb4"
   },
   "outputs": [
    {
     "name": "stdout",
     "output_type": "stream",
     "text": [
      "<class 'pandas.core.frame.DataFrame'>\n",
      "Index: 1704685 entries, 0 to 1710669\n",
      "Data columns (total 3 columns):\n",
      " #   Column     Dtype \n",
      "---  ------     ----- \n",
      " 0   TAXI_ID    int64 \n",
      " 1   TIMESTAMP  int64 \n",
      " 2   POLYLINE   object\n",
      "dtypes: int64(2), object(1)\n",
      "memory usage: 52.0+ MB\n"
     ]
    }
   ],
   "source": [
    "#drop trips that has no GPS co-ordinates recorded.\n",
    "data.drop(data[data.POLYLINE == '[]'].index,axis = 0,inplace = True)\n",
    "#Since a taxi cannot be at two locations at same time or do two trips at the same time, lets drop such duplicates.\n",
    "data.drop_duplicates(subset=['TAXI_ID','TIMESTAMP'],inplace = True)\n",
    "data.info()"
   ]
  },
  {
   "cell_type": "code",
   "execution_count": 11,
   "metadata": {
    "colab": {
     "base_uri": "https://localhost:8080/",
     "height": 699
    },
    "executionInfo": {
     "elapsed": 2696,
     "status": "ok",
     "timestamp": 1714542697997,
     "user": {
      "displayName": "toran jung shahi",
      "userId": "05569312742364291561"
     },
     "user_tz": -600
    },
    "id": "9fYE-Ay8okGs",
    "outputId": "48ec6686-fd13-4c14-ce10-731b3ff0da61"
   },
   "outputs": [
    {
     "data": {
      "image/png": "[encoded data removed]",
      "text/plain": [
       "<Figure size 1000x700 with 1 Axes>"
      ]
     },
     "metadata": {},
     "output_type": "display_data"
    }
   ],
   "source": [
    "#create new copy of the dataset and find most active month over the year\n",
    "copied_data = data.copy()\n",
    "\n",
    "#tag each trip with respective month of the year\n",
    "copied_data['MONTH'] = copied_data.TIMESTAMP.apply(lambda x: dt.datetime.fromtimestamp(x).month)\n",
    "\n",
    "#Map integer value of the month to name of the months.\n",
    "keys_month = np.arange(1,13)\n",
    "values_month = ['January','February', 'March', 'April', 'May', 'June', 'July', 'August', 'September', 'October', 'November', 'December']\n",
    "month_names = dict(zip(keys_month,values_month))\n",
    "\n",
    "#Plot number of trips taken each month\n",
    "plt.figure(figsize=(10,7))\n",
    "my_colors = 'b'\n",
    "ax = plt.bar(copied_data.MONTH.value_counts().keys()\n",
    "        , copied_data.MONTH.value_counts().values\n",
    "        , color = my_colors)\n",
    "plt.xticks(copied_data.MONTH.value_counts().keys()\n",
    "           , copied_data.MONTH.map(month_names).value_counts().keys()\n",
    "           , rotation = 45\n",
    "           , size = 14)\n",
    "plt.xlabel('Months', size = 14)\n",
    "plt.ylabel('Number of trips', size = 14)\n",
    "plt.show()"
   ]
  },
  {
   "cell_type": "markdown",
   "metadata": {
    "id": "iFIRpGE_rR6A"
   },
   "source": [
    "From above bar plot, we can see that **May** has highest number of trips of more than 160000. Therefore, we will keep the trips that are made during May and will discard rest."
   ]
  },
  {
   "cell_type": "code",
   "execution_count": 12,
   "metadata": {
    "executionInfo": {
     "elapsed": 28,
     "status": "ok",
     "timestamp": 1714542697998,
     "user": {
      "displayName": "toran jung shahi",
      "userId": "05569312742364291561"
     },
     "user_tz": -600
    },
    "id": "-nwdN1_R7ldd"
   },
   "outputs": [],
   "source": [
    "val = dict(copied_data.MONTH.value_counts().items()) #create dictionary from series object\n",
    "month = max(val,key=val.get) #get month that has highest number of trips\n",
    "#Take data for the month that has highest number of trips, May for this dataset\n",
    "months_data = copied_data[copied_data['MONTH']==month]"
   ]
  },
  {
   "cell_type": "code",
   "execution_count": 13,
   "metadata": {
    "colab": {
     "base_uri": "https://localhost:8080/"
    },
    "executionInfo": {
     "elapsed": 27,
     "status": "ok",
     "timestamp": 1714542697998,
     "user": {
      "displayName": "toran jung shahi",
      "userId": "05569312742364291561"
     },
     "user_tz": -600
    },
    "id": "xqIDhVx64daC",
    "outputId": "9c2a0768-bb02-4905-d015-2700a3f748a2"
   },
   "outputs": [
    {
     "name": "stdout",
     "output_type": "stream",
     "text": [
      "<class 'pandas.core.frame.DataFrame'>\n",
      "Index: 161482 entries, 1395045 to 1710652\n",
      "Data columns (total 4 columns):\n",
      " #   Column     Non-Null Count   Dtype \n",
      "---  ------     --------------   ----- \n",
      " 0   TAXI_ID    161482 non-null  int64 \n",
      " 1   TIMESTAMP  161482 non-null  int64 \n",
      " 2   POLYLINE   161482 non-null  object\n",
      " 3   MONTH      161482 non-null  int64 \n",
      "dtypes: int64(3), object(1)\n",
      "memory usage: 6.2+ MB\n"
     ]
    }
   ],
   "source": [
    "months_data.info()"
   ]
  },
  {
   "cell_type": "code",
   "execution_count": 14,
   "metadata": {
    "colab": {
     "base_uri": "https://localhost:8080/"
    },
    "executionInfo": {
     "elapsed": 22,
     "status": "ok",
     "timestamp": 1714542697999,
     "user": {
      "displayName": "toran jung shahi",
      "userId": "05569312742364291561"
     },
     "user_tz": -600
    },
    "id": "_LK1UOY_TtR6",
    "outputId": "ce069ad2-481a-44b9-e1f6-3677c19bb53d"
   },
   "outputs": [
    {
     "name": "stdout",
     "output_type": "stream",
     "text": [
      "Number of trips, Min:  11 , Max:  844 ,Mean:  372.0783410138249 \n",
      "Modes:\n",
      " 0    303\n",
      "1    316\n",
      "2    330\n",
      "3    497\n",
      "4    504\n",
      "5    555\n",
      "Name: counts, dtype: int64\n"
     ]
    }
   ],
   "source": [
    "#Get the trip statistics.\n",
    "freq = (months_data['TAXI_ID']\n",
    "                .value_counts()\n",
    "              .reset_index(name='counts')\n",
    "              .rename({'index': 'TAXI_ID'}, axis=1)\n",
    "              .sort_values('counts', ascending=True))\n",
    "print('Number of trips, Min: ',freq['counts'].min(),', Max: ',freq['counts'].max(),',Mean: ', freq['counts'].mean(),'\\nModes:\\n',freq['counts'].mode())"
   ]
  },
  {
   "cell_type": "code",
   "execution_count": 15,
   "metadata": {
    "colab": {
     "base_uri": "https://localhost:8080/"
    },
    "executionInfo": {
     "elapsed": 4491,
     "status": "ok",
     "timestamp": 1714542702473,
     "user": {
      "displayName": "toran jung shahi",
      "userId": "05569312742364291561"
     },
     "user_tz": -600
    },
    "id": "VudBK75pxYqz",
    "outputId": "d3e671e8-418f-416e-a2f0-3d9248692930"
   },
   "outputs": [
    {
     "name": "stderr",
     "output_type": "stream",
     "text": [
      "<ipython-input-15-eddd11253288>:4: SettingWithCopyWarning: \n",
      "A value is trying to be set on a copy of a slice from a DataFrame\n",
      "\n",
      "See the caveats in the documentation: https://pandas.pydata.org/pandas-docs/stable/user_guide/indexing.html#returning-a-view-versus-a-copy\n",
      "  months_data.drop(months_data.loc[months_data['TAXI_ID']== taxi].index,inplace = True)\n"
     ]
    },
    {
     "name": "stdout",
     "output_type": "stream",
     "text": [
      "Number of taxis left : 277 \n",
      "\n"
     ]
    }
   ],
   "source": [
    "#drop taxi that has less than mean number of trips. This helps to limit the interpolation for time slots that has missing location records.\n",
    "taxi_id = freq[freq['counts']<=freq['counts'].mode().iloc[0]]['TAXI_ID'] #get TAXI_ID of taxis which do less than mean number of trips.\n",
    "for taxi in taxi_id:\n",
    "  months_data.drop(months_data.loc[months_data['TAXI_ID']== taxi].index,inplace = True)\n",
    "n_of_taxis = months_data.TAXI_ID.unique().size\n",
    "print('Number of taxis left :',n_of_taxis,'\\n')"
   ]
  },
  {
   "cell_type": "code",
   "execution_count": 16,
   "metadata": {
    "colab": {
     "base_uri": "https://localhost:8080/"
    },
    "executionInfo": {
     "elapsed": 65,
     "status": "ok",
     "timestamp": 1714542702475,
     "user": {
      "displayName": "toran jung shahi",
      "userId": "05569312742364291561"
     },
     "user_tz": -600
    },
    "id": "DplSfNJ5BLcz",
    "outputId": "61a52fbc-83ea-4365-d557-416ee97905e4"
   },
   "outputs": [
    {
     "data": {
      "text/plain": [
       "(Timestamp('2014-05-01 00:00:27'), Timestamp('2014-05-31 23:59:50'))"
      ]
     },
     "execution_count": 16,
     "metadata": {},
     "output_type": "execute_result"
    }
   ],
   "source": [
    "#Let's convert Unix timestamp to standard date and time\n",
    "months_data.loc[:,'TIMESTAMP'] = pd.to_datetime(months_data['TIMESTAMP'],unit='s',errors = 'coerce')\n",
    "#check the range of timestamp in the subset of dataset\n",
    "months_data.TIMESTAMP.min(), months_data.TIMESTAMP.max()"
   ]
  },
  {
   "cell_type": "code",
   "execution_count": 17,
   "metadata": {
    "colab": {
     "base_uri": "https://localhost:8080/"
    },
    "executionInfo": {
     "elapsed": 39476,
     "status": "ok",
     "timestamp": 1714542741895,
     "user": {
      "displayName": "toran jung shahi",
      "userId": "05569312742364291561"
     },
     "user_tz": -600
    },
    "id": "z7-q3eUi83eF",
    "outputId": "d03a1e86-3be4-41e7-f1d3-bed6e40e0209"
   },
   "outputs": [
    {
     "name": "stderr",
     "output_type": "stream",
     "text": [
      "<ipython-input-17-37c18be3736f>:2: SettingWithCopyWarning: \n",
      "A value is trying to be set on a copy of a slice from a DataFrame.\n",
      "Try using .loc[row_indexer,col_indexer] = value instead\n",
      "\n",
      "See the caveats in the documentation: https://pandas.pydata.org/pandas-docs/stable/user_guide/indexing.html#returning-a-view-versus-a-copy\n",
      "  months_data.loc[:,'PICK_UP_LOCATION'] = months_data.loc[:,'POLYLINE'].apply(lambda x: eval(x.split()[0])[0]) #applies eval() to convert string to int,takes about a min to complete.\n",
      "<ipython-input-17-37c18be3736f>:3: SettingWithCopyWarning: \n",
      "A value is trying to be set on a copy of a slice from a DataFrame.\n",
      "Try using .loc[row_indexer,col_indexer] = value instead\n",
      "\n",
      "See the caveats in the documentation: https://pandas.pydata.org/pandas-docs/stable/user_guide/indexing.html#returning-a-view-versus-a-copy\n",
      "  months_data.loc[:,'PICK_UP_LON'] = months_data.loc[:,'PICK_UP_LOCATION'].apply(lambda x:x[0]) #get longitude of trip start location\n",
      "<ipython-input-17-37c18be3736f>:4: SettingWithCopyWarning: \n",
      "A value is trying to be set on a copy of a slice from a DataFrame.\n",
      "Try using .loc[row_indexer,col_indexer] = value instead\n",
      "\n",
      "See the caveats in the documentation: https://pandas.pydata.org/pandas-docs/stable/user_guide/indexing.html#returning-a-view-versus-a-copy\n",
      "  months_data.loc[:,'PICK_UP_LAT'] = months_data.loc[:,'PICK_UP_LOCATION'].apply(lambda x:x[1]) #get latitude of trip start location\n"
     ]
    }
   ],
   "source": [
    "#lets add start location and end location of each trip on months_data for visualisation on a map\n",
    "months_data.loc[:,'PICK_UP_LOCATION'] = months_data.loc[:,'POLYLINE'].apply(lambda x: eval(x.split()[0])[0]) #applies eval() to convert string to int,takes about a min to complete.\n",
    "months_data.loc[:,'PICK_UP_LON'] = months_data.loc[:,'PICK_UP_LOCATION'].apply(lambda x:x[0]) #get longitude of trip start location\n",
    "months_data.loc[:,'PICK_UP_LAT'] = months_data.loc[:,'PICK_UP_LOCATION'].apply(lambda x:x[1]) #get latitude of trip start location\n"
   ]
  },
  {
   "cell_type": "code",
   "execution_count": 18,
   "metadata": {
    "colab": {
     "base_uri": "https://localhost:8080/",
     "height": 617,
     "output_embedded_package_id": "1sF43_DBSCyFlKloJ9IcTFUmeBsurC6ex"
    },
    "executionInfo": {
     "elapsed": 33478,
     "status": "ok",
     "timestamp": 1714542775365,
     "user": {
      "displayName": "toran jung shahi",
      "userId": "05569312742364291561"
     },
     "user_tz": -600
    },
    "id": "8Gum3F-BTyIj",
    "outputId": "a486c71b-aa98-4ef1-c34d-1352c8d7fae2"
   },
   "outputs": [
    {
     "data": {
      "text/plain": [
       "Output hidden; open in https://colab.research.google.com to view."
      ]
     },
     "metadata": {},
     "output_type": "display_data"
    }
   ],
   "source": [
    "#Uses plotly library to visualise distribution of pickup locations of all the trips.\n",
    "def plot_data(taxi_location):\n",
    "  color_scale = [(0, 'orange'), (1,'red')]\n",
    "\n",
    "  fig = px.scatter_mapbox(taxi_location,\n",
    "                          lat=\"PICK_UP_LAT\",\n",
    "                          lon=\"PICK_UP_LON\",\n",
    "                          hover_name=\"TAXI_ID\",\n",
    "                          hover_data=[\"TIMESTAMP\"],\n",
    "                          color_continuous_scale=color_scale,\n",
    "                          zoom=9,\n",
    "                          height=600,\n",
    "                          width=800)\n",
    "\n",
    "  fig.update_layout(mapbox_style=\"open-street-map\")\n",
    "  fig.update_layout(margin={\"r\":0,\"t\":0,\"l\":0,\"b\":0})\n",
    "  fig.show()\n",
    "plot_data(months_data)"
   ]
  },
  {
   "cell_type": "markdown",
   "metadata": {
    "id": "FRFZXFx0IfF5"
   },
   "source": [
    "Above map shows the pick up locations of each trip made during the month of May. Hovering over the locations shows TAXI_ID, latitude & longitude of the pick up location and trip start timestamp."
   ]
  },
  {
   "cell_type": "code",
   "execution_count": 19,
   "metadata": {
    "colab": {
     "base_uri": "https://localhost:8080/"
    },
    "executionInfo": {
     "elapsed": 18,
     "status": "ok",
     "timestamp": 1714542775366,
     "user": {
      "displayName": "toran jung shahi",
      "userId": "05569312742364291561"
     },
     "user_tz": -600
    },
    "id": "yaaWQosuGaDQ",
    "outputId": "d5011ac0-91b2-43d2-9032-cd907913118f"
   },
   "outputs": [
    {
     "name": "stdout",
     "output_type": "stream",
     "text": [
      "<class 'pandas.core.frame.DataFrame'>\n",
      "Index: 127201 entries, 1395045 to 1568837\n",
      "Data columns (total 7 columns):\n",
      " #   Column            Non-Null Count   Dtype         \n",
      "---  ------            --------------   -----         \n",
      " 0   TAXI_ID           127201 non-null  int64         \n",
      " 1   TIMESTAMP         127201 non-null  datetime64[ns]\n",
      " 2   POLYLINE          127201 non-null  object        \n",
      " 3   MONTH             127201 non-null  int64         \n",
      " 4   PICK_UP_LOCATION  127201 non-null  object        \n",
      " 5   PICK_UP_LON       127201 non-null  float64       \n",
      " 6   PICK_UP_LAT       127201 non-null  float64       \n",
      "dtypes: datetime64[ns](1), float64(2), int64(2), object(2)\n",
      "memory usage: 7.8+ MB\n"
     ]
    }
   ],
   "source": [
    "#Lets drop 'PICK_UP_LON', 'PICK_UP_LAT','PICK_UP_LOCATION','MONTH'\n",
    "months_data.drop(labels = ['PICK_UP_LON', 'PICK_UP_LAT','PICK_UP_LOCATION','MONTH'], axis=1)\n",
    "months_data.info()"
   ]
  },
  {
   "cell_type": "code",
   "execution_count": 20,
   "metadata": {
    "colab": {
     "base_uri": "https://localhost:8080/",
     "height": 206
    },
    "executionInfo": {
     "elapsed": 14,
     "status": "ok",
     "timestamp": 1714542775367,
     "user": {
      "displayName": "toran jung shahi",
      "userId": "05569312742364291561"
     },
     "user_tz": -600
    },
    "id": "9ru0THHVk0x4",
    "outputId": "e127fbcb-c99c-4b63-eb6e-292d4d903218"
   },
   "outputs": [
    {
     "data": {
      "application/vnd.google.colaboratory.intrinsic+json": {
       "type": "dataframe",
       "variable_name": "months_data"
      },
      "text/html": [
       "\n",
       "  <div id=\"df-c9d36ce6-d066-4720-8019-ed2c381533f5\" class=\"colab-df-container\">\n",
       "    <div>\n",
       "<style scoped>\n",
       "    .dataframe tbody tr th:only-of-type {\n",
       "        vertical-align: middle;\n",
       "    }\n",
       "\n",
       "    .dataframe tbody tr th {\n",
       "        vertical-align: top;\n",
       "    }\n",
       "\n",
       "    .dataframe thead th {\n",
       "        text-align: right;\n",
       "    }\n",
       "</style>\n",
       "<table border=\"1\" class=\"dataframe\">\n",
       "  <thead>\n",
       "    <tr style=\"text-align: right;\">\n",
       "      <th></th>\n",
       "      <th>TAXI_ID</th>\n",
       "      <th>TIMESTAMP</th>\n",
       "      <th>POLYLINE</th>\n",
       "      <th>MONTH</th>\n",
       "      <th>PICK_UP_LOCATION</th>\n",
       "      <th>PICK_UP_LON</th>\n",
       "      <th>PICK_UP_LAT</th>\n",
       "    </tr>\n",
       "  </thead>\n",
       "  <tbody>\n",
       "    <tr>\n",
       "      <th>1395045</th>\n",
       "      <td>20000268</td>\n",
       "      <td>2014-05-01 00:00:38</td>\n",
       "      <td>[-8.615565, 41.140737, -8.615574, 41.140737, -...</td>\n",
       "      <td>5</td>\n",
       "      <td>[-8.615565, 41.140737]</td>\n",
       "      <td>-8.615565</td>\n",
       "      <td>41.140737</td>\n",
       "    </tr>\n",
       "    <tr>\n",
       "      <th>1395076</th>\n",
       "      <td>20000167</td>\n",
       "      <td>2014-05-01 00:02:44</td>\n",
       "      <td>[-8.610039, 41.155425, -8.609967, 41.15529, -8...</td>\n",
       "      <td>5</td>\n",
       "      <td>[-8.610039, 41.155425]</td>\n",
       "      <td>-8.610039</td>\n",
       "      <td>41.155425</td>\n",
       "    </tr>\n",
       "    <tr>\n",
       "      <th>1395079</th>\n",
       "      <td>20000667</td>\n",
       "      <td>2014-05-01 00:03:49</td>\n",
       "      <td>[-8.615502, 41.147289, -8.615736, 41.147316, -...</td>\n",
       "      <td>5</td>\n",
       "      <td>[-8.615502, 41.147289]</td>\n",
       "      <td>-8.615502</td>\n",
       "      <td>41.147289</td>\n",
       "    </tr>\n",
       "    <tr>\n",
       "      <th>1395095</th>\n",
       "      <td>20000112</td>\n",
       "      <td>2014-05-01 00:08:42</td>\n",
       "      <td>[-8.612541, 41.146137, -8.612496, 41.146092, -...</td>\n",
       "      <td>5</td>\n",
       "      <td>[-8.612541, 41.146137]</td>\n",
       "      <td>-8.612541</td>\n",
       "      <td>41.146137</td>\n",
       "    </tr>\n",
       "    <tr>\n",
       "      <th>1395105</th>\n",
       "      <td>20000337</td>\n",
       "      <td>2014-05-01 00:10:40</td>\n",
       "      <td>[-8.645049, 41.177061, -8.644824, 41.176872, -...</td>\n",
       "      <td>5</td>\n",
       "      <td>[-8.645049, 41.177061]</td>\n",
       "      <td>-8.645049</td>\n",
       "      <td>41.177061</td>\n",
       "    </tr>\n",
       "  </tbody>\n",
       "</table>\n",
       "</div>\n",
       "    <div class=\"colab-df-buttons\">\n",
       "\n",
       "  <div class=\"colab-df-container\">\n",
       "    <button class=\"colab-df-convert\" onclick=\"convertToInteractive('df-c9d36ce6-d066-4720-8019-ed2c381533f5')\"\n",
       "            title=\"Convert this dataframe to an interactive table.\"\n",
       "            style=\"display:none;\">\n",
       "\n",
       "  <svg xmlns=\"http://www.w3.org/2000/svg\" height=\"24px\" viewBox=\"0 -960 960 960\">\n",
       "    <path d=\"M120-120v-720h720v720H120Zm60-500h600v-160H180v160Zm220 220h160v-160H400v160Zm0 220h160v-160H400v160ZM180-400h160v-160H180v160Zm440 0h160v-160H620v160ZM180-180h160v-160H180v160Zm440 0h160v-160H620v160Z\"/>\n",
       "  </svg>\n",
       "    </button>\n",
       "\n",
       "  <style>\n",
       "    .colab-df-container {\n",
       "      display:flex;\n",
       "      gap: 12px;\n",
       "    }\n",
       "\n",
       "    .colab-df-convert {\n",
       "      background-color: #E8F0FE;\n",
       "      border: none;\n",
       "      border-radius: 50%;\n",
       "      cursor: pointer;\n",
       "      display: none;\n",
       "      fill: #1967D2;\n",
       "      height: 32px;\n",
       "      padding: 0 0 0 0;\n",
       "      width: 32px;\n",
       "    }\n",
       "\n",
       "    .colab-df-convert:hover {\n",
       "      background-color: #E2EBFA;\n",
       "      box-shadow: 0px 1px 2px rgba(60, 64, 67, 0.3), 0px 1px 3px 1px rgba(60, 64, 67, 0.15);\n",
       "      fill: #174EA6;\n",
       "    }\n",
       "\n",
       "    .colab-df-buttons div {\n",
       "      margin-bottom: 4px;\n",
       "    }\n",
       "\n",
       "    [theme=dark] .colab-df-convert {\n",
       "      background-color: #3B4455;\n",
       "      fill: #D2E3FC;\n",
       "    }\n",
       "\n",
       "    [theme=dark] .colab-df-convert:hover {\n",
       "      background-color: #434B5C;\n",
       "      box-shadow: 0px 1px 3px 1px rgba(0, 0, 0, 0.15);\n",
       "      filter: drop-shadow(0px 1px 2px rgba(0, 0, 0, 0.3));\n",
       "      fill: #FFFFFF;\n",
       "    }\n",
       "  </style>\n",
       "\n",
       "    <script>\n",
       "      const buttonEl =\n",
       "        document.querySelector('#df-c9d36ce6-d066-4720-8019-ed2c381533f5 button.colab-df-convert');\n",
       "      buttonEl.style.display =\n",
       "        google.colab.kernel.accessAllowed ? 'block' : 'none';\n",
       "\n",
       "      async function convertToInteractive(key) {\n",
       "        const element = document.querySelector('#df-c9d36ce6-d066-4720-8019-ed2c381533f5');\n",
       "        const dataTable =\n",
       "          await google.colab.kernel.invokeFunction('convertToInteractive',\n",
       "                                                    [key], {});\n",
       "        if (!dataTable) return;\n",
       "\n",
       "        const docLinkHtml = 'Like what you see? Visit the ' +\n",
       "          '<a target=\"_blank\" href=https://colab.research.google.com/notebooks/data_table.ipynb>data table notebook</a>'\n",
       "          + ' to learn more about interactive tables.';\n",
       "        element.innerHTML = '';\n",
       "        dataTable['output_type'] = 'display_data';\n",
       "        await google.colab.output.renderOutput(dataTable, element);\n",
       "        const docLink = document.createElement('div');\n",
       "        docLink.innerHTML = docLinkHtml;\n",
       "        element.appendChild(docLink);\n",
       "      }\n",
       "    </script>\n",
       "  </div>\n",
       "\n",
       "\n",
       "<div id=\"df-7b1cc323-fa6f-492f-9ff4-dc45e2ee44d8\">\n",
       "  <button class=\"colab-df-quickchart\" onclick=\"quickchart('df-7b1cc323-fa6f-492f-9ff4-dc45e2ee44d8')\"\n",
       "            title=\"Suggest charts\"\n",
       "            style=\"display:none;\">\n",
       "\n",
       "<svg xmlns=\"http://www.w3.org/2000/svg\" height=\"24px\"viewBox=\"0 0 24 24\"\n",
       "     width=\"24px\">\n",
       "    <g>\n",
       "        <path d=\"M19 3H5c-1.1 0-2 .9-2 2v14c0 1.1.9 2 2 2h14c1.1 0 2-.9 2-2V5c0-1.1-.9-2-2-2zM9 17H7v-7h2v7zm4 0h-2V7h2v10zm4 0h-2v-4h2v4z\"/>\n",
       "    </g>\n",
       "</svg>\n",
       "  </button>\n",
       "\n",
       "<style>\n",
       "  .colab-df-quickchart {\n",
       "      --bg-color: #E8F0FE;\n",
       "      --fill-color: #1967D2;\n",
       "      --hover-bg-color: #E2EBFA;\n",
       "      --hover-fill-color: #174EA6;\n",
       "      --disabled-fill-color: #AAA;\n",
       "      --disabled-bg-color: #DDD;\n",
       "  }\n",
       "\n",
       "  [theme=dark] .colab-df-quickchart {\n",
       "      --bg-color: #3B4455;\n",
       "      --fill-color: #D2E3FC;\n",
       "      --hover-bg-color: #434B5C;\n",
       "      --hover-fill-color: #FFFFFF;\n",
       "      --disabled-bg-color: #3B4455;\n",
       "      --disabled-fill-color: #666;\n",
       "  }\n",
       "\n",
       "  .colab-df-quickchart {\n",
       "    background-color: var(--bg-color);\n",
       "    border: none;\n",
       "    border-radius: 50%;\n",
       "    cursor: pointer;\n",
       "    display: none;\n",
       "    fill: var(--fill-color);\n",
       "    height: 32px;\n",
       "    padding: 0;\n",
       "    width: 32px;\n",
       "  }\n",
       "\n",
       "  .colab-df-quickchart:hover {\n",
       "    background-color: var(--hover-bg-color);\n",
       "    box-shadow: 0 1px 2px rgba(60, 64, 67, 0.3), 0 1px 3px 1px rgba(60, 64, 67, 0.15);\n",
       "    fill: var(--button-hover-fill-color);\n",
       "  }\n",
       "\n",
       "  .colab-df-quickchart-complete:disabled,\n",
       "  .colab-df-quickchart-complete:disabled:hover {\n",
       "    background-color: var(--disabled-bg-color);\n",
       "    fill: var(--disabled-fill-color);\n",
       "    box-shadow: none;\n",
       "  }\n",
       "\n",
       "  .colab-df-spinner {\n",
       "    border: 2px solid var(--fill-color);\n",
       "    border-color: transparent;\n",
       "    border-bottom-color: var(--fill-color);\n",
       "    animation:\n",
       "      spin 1s steps(1) infinite;\n",
       "  }\n",
       "\n",
       "  @keyframes spin {\n",
       "    0% {\n",
       "      border-color: transparent;\n",
       "      border-bottom-color: var(--fill-color);\n",
       "      border-left-color: var(--fill-color);\n",
       "    }\n",
       "    20% {\n",
       "      border-color: transparent;\n",
       "      border-left-color: var(--fill-color);\n",
       "      border-top-color: var(--fill-color);\n",
       "    }\n",
       "    30% {\n",
       "      border-color: transparent;\n",
       "      border-left-color: var(--fill-color);\n",
       "      border-top-color: var(--fill-color);\n",
       "      border-right-color: var(--fill-color);\n",
       "    }\n",
       "    40% {\n",
       "      border-color: transparent;\n",
       "      border-right-color: var(--fill-color);\n",
       "      border-top-color: var(--fill-color);\n",
       "    }\n",
       "    60% {\n",
       "      border-color: transparent;\n",
       "      border-right-color: var(--fill-color);\n",
       "    }\n",
       "    80% {\n",
       "      border-color: transparent;\n",
       "      border-right-color: var(--fill-color);\n",
       "      border-bottom-color: var(--fill-color);\n",
       "    }\n",
       "    90% {\n",
       "      border-color: transparent;\n",
       "      border-bottom-color: var(--fill-color);\n",
       "    }\n",
       "  }\n",
       "</style>\n",
       "\n",
       "  <script>\n",
       "    async function quickchart(key) {\n",
       "      const quickchartButtonEl =\n",
       "        document.querySelector('#' + key + ' button');\n",
       "      quickchartButtonEl.disabled = true;  // To prevent multiple clicks.\n",
       "      quickchartButtonEl.classList.add('colab-df-spinner');\n",
       "      try {\n",
       "        const charts = await google.colab.kernel.invokeFunction(\n",
       "            'suggestCharts', [key], {});\n",
       "      } catch (error) {\n",
       "        console.error('Error during call to suggestCharts:', error);\n",
       "      }\n",
       "      quickchartButtonEl.classList.remove('colab-df-spinner');\n",
       "      quickchartButtonEl.classList.add('colab-df-quickchart-complete');\n",
       "    }\n",
       "    (() => {\n",
       "      let quickchartButtonEl =\n",
       "        document.querySelector('#df-7b1cc323-fa6f-492f-9ff4-dc45e2ee44d8 button');\n",
       "      quickchartButtonEl.style.display =\n",
       "        google.colab.kernel.accessAllowed ? 'block' : 'none';\n",
       "    })();\n",
       "  </script>\n",
       "</div>\n",
       "\n",
       "    </div>\n",
       "  </div>\n"
      ],
      "text/plain": [
       "          TAXI_ID           TIMESTAMP  \\\n",
       "1395045  20000268 2014-05-01 00:00:38   \n",
       "1395076  20000167 2014-05-01 00:02:44   \n",
       "1395079  20000667 2014-05-01 00:03:49   \n",
       "1395095  20000112 2014-05-01 00:08:42   \n",
       "1395105  20000337 2014-05-01 00:10:40   \n",
       "\n",
       "                                                  POLYLINE  MONTH  \\\n",
       "1395045  [-8.615565, 41.140737, -8.615574, 41.140737, -...      5   \n",
       "1395076  [-8.610039, 41.155425, -8.609967, 41.15529, -8...      5   \n",
       "1395079  [-8.615502, 41.147289, -8.615736, 41.147316, -...      5   \n",
       "1395095  [-8.612541, 41.146137, -8.612496, 41.146092, -...      5   \n",
       "1395105  [-8.645049, 41.177061, -8.644824, 41.176872, -...      5   \n",
       "\n",
       "               PICK_UP_LOCATION  PICK_UP_LON  PICK_UP_LAT  \n",
       "1395045  [-8.615565, 41.140737]    -8.615565    41.140737  \n",
       "1395076  [-8.610039, 41.155425]    -8.610039    41.155425  \n",
       "1395079  [-8.615502, 41.147289]    -8.615502    41.147289  \n",
       "1395095  [-8.612541, 41.146137]    -8.612541    41.146137  \n",
       "1395105  [-8.645049, 41.177061]    -8.645049    41.177061  "
      ]
     },
     "execution_count": 20,
     "metadata": {},
     "output_type": "execute_result"
    }
   ],
   "source": [
    "#Convert POLYLINE list of lists to list of lat and lon\n",
    "months_data.loc[:,\"POLYLINE\"] = months_data[\"POLYLINE\"].str.replace(\"[\", \"\")\n",
    "months_data.loc[:,\"POLYLINE\"] = months_data[\"POLYLINE\"].str.replace(\"]\", \"\")\n",
    "months_data.loc[:,\"POLYLINE\"] = months_data[\"POLYLINE\"].apply(lambda x: x.split(\",\"))\n",
    "months_data.head()"
   ]
  },
  {
   "cell_type": "code",
   "execution_count": 21,
   "metadata": {
    "colab": {
     "base_uri": "https://localhost:8080/",
     "height": 582
    },
    "executionInfo": {
     "elapsed": 23842,
     "status": "ok",
     "timestamp": 1714542799199,
     "user": {
      "displayName": "toran jung shahi",
      "userId": "05569312742364291561"
     },
     "user_tz": -600
    },
    "id": "79vIcxnpmNK_",
    "outputId": "590bf6fb-4c11-4c93-927d-dd496b44c739"
   },
   "outputs": [
    {
     "name": "stderr",
     "output_type": "stream",
     "text": [
      "<ipython-input-21-3a4d86bcd497>:3: SettingWithCopyWarning:\n",
      "\n",
      "\n",
      "A value is trying to be set on a copy of a slice from a DataFrame.\n",
      "Try using .loc[row_indexer,col_indexer] = value instead\n",
      "\n",
      "See the caveats in the documentation: https://pandas.pydata.org/pandas-docs/stable/user_guide/indexing.html#returning-a-view-versus-a-copy\n",
      "\n",
      "<ipython-input-21-3a4d86bcd497>:20: SettingWithCopyWarning:\n",
      "\n",
      "\n",
      "A value is trying to be set on a copy of a slice from a DataFrame.\n",
      "Try using .loc[row_indexer,col_indexer] = value instead\n",
      "\n",
      "See the caveats in the documentation: https://pandas.pydata.org/pandas-docs/stable/user_guide/indexing.html#returning-a-view-versus-a-copy\n",
      "\n"
     ]
    },
    {
     "data": {
      "application/vnd.google.colaboratory.intrinsic+json": {
       "type": "dataframe",
       "variable_name": "months_data"
      },
      "text/html": [
       "\n",
       "  <div id=\"df-72f1f249-acf0-4feb-ba93-c8b005980249\" class=\"colab-df-container\">\n",
       "    <div>\n",
       "<style scoped>\n",
       "    .dataframe tbody tr th:only-of-type {\n",
       "        vertical-align: middle;\n",
       "    }\n",
       "\n",
       "    .dataframe tbody tr th {\n",
       "        vertical-align: top;\n",
       "    }\n",
       "\n",
       "    .dataframe thead th {\n",
       "        text-align: right;\n",
       "    }\n",
       "</style>\n",
       "<table border=\"1\" class=\"dataframe\">\n",
       "  <thead>\n",
       "    <tr style=\"text-align: right;\">\n",
       "      <th></th>\n",
       "      <th>TAXI_ID</th>\n",
       "      <th>TIMESTAMP</th>\n",
       "      <th>POLYLINE</th>\n",
       "      <th>MONTH</th>\n",
       "      <th>PICK_UP_LOCATION</th>\n",
       "      <th>PICK_UP_LON</th>\n",
       "      <th>PICK_UP_LAT</th>\n",
       "      <th>GEOMETRY</th>\n",
       "      <th>GEOLEN</th>\n",
       "    </tr>\n",
       "  </thead>\n",
       "  <tbody>\n",
       "    <tr>\n",
       "      <th>1395045</th>\n",
       "      <td>20000268</td>\n",
       "      <td>2014-05-01 00:00:38</td>\n",
       "      <td>[-8.615565, 41.140737, -8.615574, 41.140737, -...</td>\n",
       "      <td>5</td>\n",
       "      <td>[-8.615565, 41.140737]</td>\n",
       "      <td>-8.615565</td>\n",
       "      <td>41.140737</td>\n",
       "      <td>[(-8.615565, 41.140737), (-8.615574, 41.140737...</td>\n",
       "      <td>21</td>\n",
       "    </tr>\n",
       "    <tr>\n",
       "      <th>1395076</th>\n",
       "      <td>20000167</td>\n",
       "      <td>2014-05-01 00:02:44</td>\n",
       "      <td>[-8.610039, 41.155425, -8.609967, 41.15529, -8...</td>\n",
       "      <td>5</td>\n",
       "      <td>[-8.610039, 41.155425]</td>\n",
       "      <td>-8.610039</td>\n",
       "      <td>41.155425</td>\n",
       "      <td>[(-8.610039, 41.155425), (-8.609967, 41.15529)...</td>\n",
       "      <td>21</td>\n",
       "    </tr>\n",
       "    <tr>\n",
       "      <th>1395079</th>\n",
       "      <td>20000667</td>\n",
       "      <td>2014-05-01 00:03:49</td>\n",
       "      <td>[-8.615502, 41.147289, -8.615736, 41.147316, -...</td>\n",
       "      <td>5</td>\n",
       "      <td>[-8.615502, 41.147289]</td>\n",
       "      <td>-8.615502</td>\n",
       "      <td>41.147289</td>\n",
       "      <td>[(-8.615502, 41.147289), (-8.615736, 41.147316...</td>\n",
       "      <td>27</td>\n",
       "    </tr>\n",
       "    <tr>\n",
       "      <th>1395095</th>\n",
       "      <td>20000112</td>\n",
       "      <td>2014-05-01 00:08:42</td>\n",
       "      <td>[-8.612541, 41.146137, -8.612496, 41.146092, -...</td>\n",
       "      <td>5</td>\n",
       "      <td>[-8.612541, 41.146137]</td>\n",
       "      <td>-8.612541</td>\n",
       "      <td>41.146137</td>\n",
       "      <td>[(-8.612541, 41.146137), (-8.612496, 41.146092...</td>\n",
       "      <td>39</td>\n",
       "    </tr>\n",
       "    <tr>\n",
       "      <th>1395105</th>\n",
       "      <td>20000337</td>\n",
       "      <td>2014-05-01 00:10:40</td>\n",
       "      <td>[-8.645049, 41.177061, -8.644824, 41.176872, -...</td>\n",
       "      <td>5</td>\n",
       "      <td>[-8.645049, 41.177061]</td>\n",
       "      <td>-8.645049</td>\n",
       "      <td>41.177061</td>\n",
       "      <td>[(-8.645049, 41.177061), (-8.644824, 41.176872...</td>\n",
       "      <td>49</td>\n",
       "    </tr>\n",
       "  </tbody>\n",
       "</table>\n",
       "</div>\n",
       "    <div class=\"colab-df-buttons\">\n",
       "\n",
       "  <div class=\"colab-df-container\">\n",
       "    <button class=\"colab-df-convert\" onclick=\"convertToInteractive('df-72f1f249-acf0-4feb-ba93-c8b005980249')\"\n",
       "            title=\"Convert this dataframe to an interactive table.\"\n",
       "            style=\"display:none;\">\n",
       "\n",
       "  <svg xmlns=\"http://www.w3.org/2000/svg\" height=\"24px\" viewBox=\"0 -960 960 960\">\n",
       "    <path d=\"M120-120v-720h720v720H120Zm60-500h600v-160H180v160Zm220 220h160v-160H400v160Zm0 220h160v-160H400v160ZM180-400h160v-160H180v160Zm440 0h160v-160H620v160ZM180-180h160v-160H180v160Zm440 0h160v-160H620v160Z\"/>\n",
       "  </svg>\n",
       "    </button>\n",
       "\n",
       "  <style>\n",
       "    .colab-df-container {\n",
       "      display:flex;\n",
       "      gap: 12px;\n",
       "    }\n",
       "\n",
       "    .colab-df-convert {\n",
       "      background-color: #E8F0FE;\n",
       "      border: none;\n",
       "      border-radius: 50%;\n",
       "      cursor: pointer;\n",
       "      display: none;\n",
       "      fill: #1967D2;\n",
       "      height: 32px;\n",
       "      padding: 0 0 0 0;\n",
       "      width: 32px;\n",
       "    }\n",
       "\n",
       "    .colab-df-convert:hover {\n",
       "      background-color: #E2EBFA;\n",
       "      box-shadow: 0px 1px 2px rgba(60, 64, 67, 0.3), 0px 1px 3px 1px rgba(60, 64, 67, 0.15);\n",
       "      fill: #174EA6;\n",
       "    }\n",
       "\n",
       "    .colab-df-buttons div {\n",
       "      margin-bottom: 4px;\n",
       "    }\n",
       "\n",
       "    [theme=dark] .colab-df-convert {\n",
       "      background-color: #3B4455;\n",
       "      fill: #D2E3FC;\n",
       "    }\n",
       "\n",
       "    [theme=dark] .colab-df-convert:hover {\n",
       "      background-color: #434B5C;\n",
       "      box-shadow: 0px 1px 3px 1px rgba(0, 0, 0, 0.15);\n",
       "      filter: drop-shadow(0px 1px 2px rgba(0, 0, 0, 0.3));\n",
       "      fill: #FFFFFF;\n",
       "    }\n",
       "  </style>\n",
       "\n",
       "    <script>\n",
       "      const buttonEl =\n",
       "        document.querySelector('#df-72f1f249-acf0-4feb-ba93-c8b005980249 button.colab-df-convert');\n",
       "      buttonEl.style.display =\n",
       "        google.colab.kernel.accessAllowed ? 'block' : 'none';\n",
       "\n",
       "      async function convertToInteractive(key) {\n",
       "        const element = document.querySelector('#df-72f1f249-acf0-4feb-ba93-c8b005980249');\n",
       "        const dataTable =\n",
       "          await google.colab.kernel.invokeFunction('convertToInteractive',\n",
       "                                                    [key], {});\n",
       "        if (!dataTable) return;\n",
       "\n",
       "        const docLinkHtml = 'Like what you see? Visit the ' +\n",
       "          '<a target=\"_blank\" href=https://colab.research.google.com/notebooks/data_table.ipynb>data table notebook</a>'\n",
       "          + ' to learn more about interactive tables.';\n",
       "        element.innerHTML = '';\n",
       "        dataTable['output_type'] = 'display_data';\n",
       "        await google.colab.output.renderOutput(dataTable, element);\n",
       "        const docLink = document.createElement('div');\n",
       "        docLink.innerHTML = docLinkHtml;\n",
       "        element.appendChild(docLink);\n",
       "      }\n",
       "    </script>\n",
       "  </div>\n",
       "\n",
       "\n",
       "<div id=\"df-b1c07f34-bd77-4ce4-ac7b-db91275e14bd\">\n",
       "  <button class=\"colab-df-quickchart\" onclick=\"quickchart('df-b1c07f34-bd77-4ce4-ac7b-db91275e14bd')\"\n",
       "            title=\"Suggest charts\"\n",
       "            style=\"display:none;\">\n",
       "\n",
       "<svg xmlns=\"http://www.w3.org/2000/svg\" height=\"24px\"viewBox=\"0 0 24 24\"\n",
       "     width=\"24px\">\n",
       "    <g>\n",
       "        <path d=\"M19 3H5c-1.1 0-2 .9-2 2v14c0 1.1.9 2 2 2h14c1.1 0 2-.9 2-2V5c0-1.1-.9-2-2-2zM9 17H7v-7h2v7zm4 0h-2V7h2v10zm4 0h-2v-4h2v4z\"/>\n",
       "    </g>\n",
       "</svg>\n",
       "  </button>\n",
       "\n",
       "<style>\n",
       "  .colab-df-quickchart {\n",
       "      --bg-color: #E8F0FE;\n",
       "      --fill-color: #1967D2;\n",
       "      --hover-bg-color: #E2EBFA;\n",
       "      --hover-fill-color: #174EA6;\n",
       "      --disabled-fill-color: #AAA;\n",
       "      --disabled-bg-color: #DDD;\n",
       "  }\n",
       "\n",
       "  [theme=dark] .colab-df-quickchart {\n",
       "      --bg-color: #3B4455;\n",
       "      --fill-color: #D2E3FC;\n",
       "      --hover-bg-color: #434B5C;\n",
       "      --hover-fill-color: #FFFFFF;\n",
       "      --disabled-bg-color: #3B4455;\n",
       "      --disabled-fill-color: #666;\n",
       "  }\n",
       "\n",
       "  .colab-df-quickchart {\n",
       "    background-color: var(--bg-color);\n",
       "    border: none;\n",
       "    border-radius: 50%;\n",
       "    cursor: pointer;\n",
       "    display: none;\n",
       "    fill: var(--fill-color);\n",
       "    height: 32px;\n",
       "    padding: 0;\n",
       "    width: 32px;\n",
       "  }\n",
       "\n",
       "  .colab-df-quickchart:hover {\n",
       "    background-color: var(--hover-bg-color);\n",
       "    box-shadow: 0 1px 2px rgba(60, 64, 67, 0.3), 0 1px 3px 1px rgba(60, 64, 67, 0.15);\n",
       "    fill: var(--button-hover-fill-color);\n",
       "  }\n",
       "\n",
       "  .colab-df-quickchart-complete:disabled,\n",
       "  .colab-df-quickchart-complete:disabled:hover {\n",
       "    background-color: var(--disabled-bg-color);\n",
       "    fill: var(--disabled-fill-color);\n",
       "    box-shadow: none;\n",
       "  }\n",
       "\n",
       "  .colab-df-spinner {\n",
       "    border: 2px solid var(--fill-color);\n",
       "    border-color: transparent;\n",
       "    border-bottom-color: var(--fill-color);\n",
       "    animation:\n",
       "      spin 1s steps(1) infinite;\n",
       "  }\n",
       "\n",
       "  @keyframes spin {\n",
       "    0% {\n",
       "      border-color: transparent;\n",
       "      border-bottom-color: var(--fill-color);\n",
       "      border-left-color: var(--fill-color);\n",
       "    }\n",
       "    20% {\n",
       "      border-color: transparent;\n",
       "      border-left-color: var(--fill-color);\n",
       "      border-top-color: var(--fill-color);\n",
       "    }\n",
       "    30% {\n",
       "      border-color: transparent;\n",
       "      border-left-color: var(--fill-color);\n",
       "      border-top-color: var(--fill-color);\n",
       "      border-right-color: var(--fill-color);\n",
       "    }\n",
       "    40% {\n",
       "      border-color: transparent;\n",
       "      border-right-color: var(--fill-color);\n",
       "      border-top-color: var(--fill-color);\n",
       "    }\n",
       "    60% {\n",
       "      border-color: transparent;\n",
       "      border-right-color: var(--fill-color);\n",
       "    }\n",
       "    80% {\n",
       "      border-color: transparent;\n",
       "      border-right-color: var(--fill-color);\n",
       "      border-bottom-color: var(--fill-color);\n",
       "    }\n",
       "    90% {\n",
       "      border-color: transparent;\n",
       "      border-bottom-color: var(--fill-color);\n",
       "    }\n",
       "  }\n",
       "</style>\n",
       "\n",
       "  <script>\n",
       "    async function quickchart(key) {\n",
       "      const quickchartButtonEl =\n",
       "        document.querySelector('#' + key + ' button');\n",
       "      quickchartButtonEl.disabled = true;  // To prevent multiple clicks.\n",
       "      quickchartButtonEl.classList.add('colab-df-spinner');\n",
       "      try {\n",
       "        const charts = await google.colab.kernel.invokeFunction(\n",
       "            'suggestCharts', [key], {});\n",
       "      } catch (error) {\n",
       "        console.error('Error during call to suggestCharts:', error);\n",
       "      }\n",
       "      quickchartButtonEl.classList.remove('colab-df-spinner');\n",
       "      quickchartButtonEl.classList.add('colab-df-quickchart-complete');\n",
       "    }\n",
       "    (() => {\n",
       "      let quickchartButtonEl =\n",
       "        document.querySelector('#df-b1c07f34-bd77-4ce4-ac7b-db91275e14bd button');\n",
       "      quickchartButtonEl.style.display =\n",
       "        google.colab.kernel.accessAllowed ? 'block' : 'none';\n",
       "    })();\n",
       "  </script>\n",
       "</div>\n",
       "\n",
       "    </div>\n",
       "  </div>\n"
      ],
      "text/plain": [
       "          TAXI_ID           TIMESTAMP  \\\n",
       "1395045  20000268 2014-05-01 00:00:38   \n",
       "1395076  20000167 2014-05-01 00:02:44   \n",
       "1395079  20000667 2014-05-01 00:03:49   \n",
       "1395095  20000112 2014-05-01 00:08:42   \n",
       "1395105  20000337 2014-05-01 00:10:40   \n",
       "\n",
       "                                                  POLYLINE  MONTH  \\\n",
       "1395045  [-8.615565, 41.140737, -8.615574, 41.140737, -...      5   \n",
       "1395076  [-8.610039, 41.155425, -8.609967, 41.15529, -8...      5   \n",
       "1395079  [-8.615502, 41.147289, -8.615736, 41.147316, -...      5   \n",
       "1395095  [-8.612541, 41.146137, -8.612496, 41.146092, -...      5   \n",
       "1395105  [-8.645049, 41.177061, -8.644824, 41.176872, -...      5   \n",
       "\n",
       "               PICK_UP_LOCATION  PICK_UP_LON  PICK_UP_LAT  \\\n",
       "1395045  [-8.615565, 41.140737]    -8.615565    41.140737   \n",
       "1395076  [-8.610039, 41.155425]    -8.610039    41.155425   \n",
       "1395079  [-8.615502, 41.147289]    -8.615502    41.147289   \n",
       "1395095  [-8.612541, 41.146137]    -8.612541    41.146137   \n",
       "1395105  [-8.645049, 41.177061]    -8.645049    41.177061   \n",
       "\n",
       "                                                  GEOMETRY  GEOLEN  \n",
       "1395045  [(-8.615565, 41.140737), (-8.615574, 41.140737...      21  \n",
       "1395076  [(-8.610039, 41.155425), (-8.609967, 41.15529)...      21  \n",
       "1395079  [(-8.615502, 41.147289), (-8.615736, 41.147316...      27  \n",
       "1395095  [(-8.612541, 41.146137), (-8.612496, 41.146092...      39  \n",
       "1395105  [(-8.645049, 41.177061), (-8.644824, 41.176872...      49  "
      ]
     },
     "execution_count": 21,
     "metadata": {},
     "output_type": "execute_result"
    }
   ],
   "source": [
    "#convert POLYLINE to geometry that contains tuples of lat & lon\n",
    "temp_all = []\n",
    "months_data.loc[:,\"GEOMETRY\"] = \"\"\n",
    "months_data.loc[:,\"GEOMETRY\"] = months_data.loc[:,\"GEOMETRY\"].astype(\"object\")\n",
    "for index, row in months_data.iterrows():\n",
    "    temp = []\n",
    "    i = 1\n",
    "    temp_coords = row[\"POLYLINE\"]\n",
    "    for coord in temp_coords:\n",
    "        if i % 2 == 0:\n",
    "            b = float(coord)\n",
    "            temp.append((a, b))\n",
    "        else:\n",
    "            a = float(coord)\n",
    "        i += 1\n",
    "\n",
    "    temp_all.append(temp)\n",
    "    months_data.at[index, 'GEOMETRY'] = temp\n",
    "\n",
    "months_data.loc[:,'GEOLEN'] = months_data.loc[:,'GEOMETRY'].apply(lambda x : len(x))\n",
    "months_data.head()"
   ]
  },
  {
   "cell_type": "code",
   "execution_count": 22,
   "metadata": {
    "colab": {
     "base_uri": "https://localhost:8080/"
    },
    "executionInfo": {
     "elapsed": 27,
     "status": "ok",
     "timestamp": 1714542799200,
     "user": {
      "displayName": "toran jung shahi",
      "userId": "05569312742364291561"
     },
     "user_tz": -600
    },
    "id": "j_XRlT8xjlEp",
    "outputId": "71ecdbc1-34e6-4bb1-f407-c71fec5ead2c"
   },
   "outputs": [
    {
     "data": {
      "text/plain": [
       "(Timestamp('2014-05-01 00:00:00'), Timestamp('2014-05-31 23:59:00'))"
      ]
     },
     "execution_count": 22,
     "metadata": {},
     "output_type": "execute_result"
    }
   ],
   "source": [
    "#Create timestamps of 10 min time steps\n",
    "start,end = months_data.TIMESTAMP.min(), months_data.TIMESTAMP.max()\n",
    "start,end = start.replace(second = 0,minute = 0,hour =0),end.replace(second = 0) #round seconds to zero\n",
    "start,end"
   ]
  },
  {
   "cell_type": "code",
   "execution_count": 23,
   "metadata": {
    "colab": {
     "base_uri": "https://localhost:8080/"
    },
    "executionInfo": {
     "elapsed": 20,
     "status": "ok",
     "timestamp": 1714542799201,
     "user": {
      "displayName": "toran jung shahi",
      "userId": "05569312742364291561"
     },
     "user_tz": -600
    },
    "id": "PfDV8DZLjouZ",
    "outputId": "aec6f51d-a7a1-4b16-f4f4-0303286464c7"
   },
   "outputs": [
    {
     "data": {
      "text/plain": [
       "DatetimeIndex(['2014-05-01 00:00:00', '2014-05-01 00:10:00',\n",
       "               '2014-05-01 00:20:00', '2014-05-01 00:30:00',\n",
       "               '2014-05-01 00:40:00', '2014-05-01 00:50:00',\n",
       "               '2014-05-01 01:00:00', '2014-05-01 01:10:00',\n",
       "               '2014-05-01 01:20:00', '2014-05-01 01:30:00',\n",
       "               ...\n",
       "               '2014-05-30 22:30:00', '2014-05-30 22:40:00',\n",
       "               '2014-05-30 22:50:00', '2014-05-30 23:00:00',\n",
       "               '2014-05-30 23:10:00', '2014-05-30 23:20:00',\n",
       "               '2014-05-30 23:30:00', '2014-05-30 23:40:00',\n",
       "               '2014-05-30 23:50:00', '2014-05-31 00:00:00'],\n",
       "              dtype='datetime64[ns]', length=4321, freq='10T')"
      ]
     },
     "execution_count": 23,
     "metadata": {},
     "output_type": "execute_result"
    }
   ],
   "source": [
    "time_step = pd.date_range(start,end,freq ='10min',normalize =True)\n",
    "time_step"
   ]
  },
  {
   "cell_type": "code",
   "execution_count": 24,
   "metadata": {
    "colab": {
     "base_uri": "https://localhost:8080/",
     "height": 524
    },
    "executionInfo": {
     "elapsed": 101266,
     "status": "ok",
     "timestamp": 1714542900454,
     "user": {
      "displayName": "toran jung shahi",
      "userId": "05569312742364291561"
     },
     "user_tz": -600
    },
    "id": "EaLXFi19iX1L",
    "outputId": "36639d11-4350-4798-af1f-92ca47716478"
   },
   "outputs": [
    {
     "name": "stderr",
     "output_type": "stream",
     "text": [
      "<ipython-input-24-babe6b66b568>:5: SettingWithCopyWarning:\n",
      "\n",
      "\n",
      "A value is trying to be set on a copy of a slice from a DataFrame.\n",
      "Try using .loc[row_indexer,col_indexer] = value instead\n",
      "\n",
      "See the caveats in the documentation: https://pandas.pydata.org/pandas-docs/stable/user_guide/indexing.html#returning-a-view-versus-a-copy\n",
      "\n"
     ]
    },
    {
     "data": {
      "application/vnd.google.colaboratory.intrinsic+json": {
       "type": "dataframe",
       "variable_name": "months_data"
      },
      "text/html": [
       "\n",
       "  <div id=\"df-36204146-223f-4b5e-975f-a16e4b7997cb\" class=\"colab-df-container\">\n",
       "    <div>\n",
       "<style scoped>\n",
       "    .dataframe tbody tr th:only-of-type {\n",
       "        vertical-align: middle;\n",
       "    }\n",
       "\n",
       "    .dataframe tbody tr th {\n",
       "        vertical-align: top;\n",
       "    }\n",
       "\n",
       "    .dataframe thead th {\n",
       "        text-align: right;\n",
       "    }\n",
       "</style>\n",
       "<table border=\"1\" class=\"dataframe\">\n",
       "  <thead>\n",
       "    <tr style=\"text-align: right;\">\n",
       "      <th></th>\n",
       "      <th>TAXI_ID</th>\n",
       "      <th>TIMESTAMP</th>\n",
       "      <th>POLYLINE</th>\n",
       "      <th>MONTH</th>\n",
       "      <th>PICK_UP_LOCATION</th>\n",
       "      <th>PICK_UP_LON</th>\n",
       "      <th>PICK_UP_LAT</th>\n",
       "      <th>GEOMETRY</th>\n",
       "      <th>GEOLEN</th>\n",
       "      <th>new_timestamp</th>\n",
       "    </tr>\n",
       "  </thead>\n",
       "  <tbody>\n",
       "    <tr>\n",
       "      <th>1395045</th>\n",
       "      <td>20000268</td>\n",
       "      <td>2014-05-01 00:00:38</td>\n",
       "      <td>[-8.615565, 41.140737, -8.615574, 41.140737, -...</td>\n",
       "      <td>5</td>\n",
       "      <td>[-8.615565, 41.140737]</td>\n",
       "      <td>-8.615565</td>\n",
       "      <td>41.140737</td>\n",
       "      <td>[(-8.615565, 41.140737), (-8.615574, 41.140737...</td>\n",
       "      <td>21</td>\n",
       "      <td>[2014-05-01 00:00:38, 2014-05-01 00:00:53, 201...</td>\n",
       "    </tr>\n",
       "    <tr>\n",
       "      <th>1395076</th>\n",
       "      <td>20000167</td>\n",
       "      <td>2014-05-01 00:02:44</td>\n",
       "      <td>[-8.610039, 41.155425, -8.609967, 41.15529, -8...</td>\n",
       "      <td>5</td>\n",
       "      <td>[-8.610039, 41.155425]</td>\n",
       "      <td>-8.610039</td>\n",
       "      <td>41.155425</td>\n",
       "      <td>[(-8.610039, 41.155425), (-8.609967, 41.15529)...</td>\n",
       "      <td>21</td>\n",
       "      <td>[2014-05-01 00:02:44, 2014-05-01 00:02:59, 201...</td>\n",
       "    </tr>\n",
       "    <tr>\n",
       "      <th>1395079</th>\n",
       "      <td>20000667</td>\n",
       "      <td>2014-05-01 00:03:49</td>\n",
       "      <td>[-8.615502, 41.147289, -8.615736, 41.147316, -...</td>\n",
       "      <td>5</td>\n",
       "      <td>[-8.615502, 41.147289]</td>\n",
       "      <td>-8.615502</td>\n",
       "      <td>41.147289</td>\n",
       "      <td>[(-8.615502, 41.147289), (-8.615736, 41.147316...</td>\n",
       "      <td>27</td>\n",
       "      <td>[2014-05-01 00:03:49, 2014-05-01 00:04:04, 201...</td>\n",
       "    </tr>\n",
       "    <tr>\n",
       "      <th>1395095</th>\n",
       "      <td>20000112</td>\n",
       "      <td>2014-05-01 00:08:42</td>\n",
       "      <td>[-8.612541, 41.146137, -8.612496, 41.146092, -...</td>\n",
       "      <td>5</td>\n",
       "      <td>[-8.612541, 41.146137]</td>\n",
       "      <td>-8.612541</td>\n",
       "      <td>41.146137</td>\n",
       "      <td>[(-8.612541, 41.146137), (-8.612496, 41.146092...</td>\n",
       "      <td>39</td>\n",
       "      <td>[2014-05-01 00:08:42, 2014-05-01 00:08:57, 201...</td>\n",
       "    </tr>\n",
       "    <tr>\n",
       "      <th>1395105</th>\n",
       "      <td>20000337</td>\n",
       "      <td>2014-05-01 00:10:40</td>\n",
       "      <td>[-8.645049, 41.177061, -8.644824, 41.176872, -...</td>\n",
       "      <td>5</td>\n",
       "      <td>[-8.645049, 41.177061]</td>\n",
       "      <td>-8.645049</td>\n",
       "      <td>41.177061</td>\n",
       "      <td>[(-8.645049, 41.177061), (-8.644824, 41.176872...</td>\n",
       "      <td>49</td>\n",
       "      <td>[2014-05-01 00:10:40, 2014-05-01 00:10:55, 201...</td>\n",
       "    </tr>\n",
       "  </tbody>\n",
       "</table>\n",
       "</div>\n",
       "    <div class=\"colab-df-buttons\">\n",
       "\n",
       "  <div class=\"colab-df-container\">\n",
       "    <button class=\"colab-df-convert\" onclick=\"convertToInteractive('df-36204146-223f-4b5e-975f-a16e4b7997cb')\"\n",
       "            title=\"Convert this dataframe to an interactive table.\"\n",
       "            style=\"display:none;\">\n",
       "\n",
       "  <svg xmlns=\"http://www.w3.org/2000/svg\" height=\"24px\" viewBox=\"0 -960 960 960\">\n",
       "    <path d=\"M120-120v-720h720v720H120Zm60-500h600v-160H180v160Zm220 220h160v-160H400v160Zm0 220h160v-160H400v160ZM180-400h160v-160H180v160Zm440 0h160v-160H620v160ZM180-180h160v-160H180v160Zm440 0h160v-160H620v160Z\"/>\n",
       "  </svg>\n",
       "    </button>\n",
       "\n",
       "  <style>\n",
       "    .colab-df-container {\n",
       "      display:flex;\n",
       "      gap: 12px;\n",
       "    }\n",
       "\n",
       "    .colab-df-convert {\n",
       "      background-color: #E8F0FE;\n",
       "      border: none;\n",
       "      border-radius: 50%;\n",
       "      cursor: pointer;\n",
       "      display: none;\n",
       "      fill: #1967D2;\n",
       "      height: 32px;\n",
       "      padding: 0 0 0 0;\n",
       "      width: 32px;\n",
       "    }\n",
       "\n",
       "    .colab-df-convert:hover {\n",
       "      background-color: #E2EBFA;\n",
       "      box-shadow: 0px 1px 2px rgba(60, 64, 67, 0.3), 0px 1px 3px 1px rgba(60, 64, 67, 0.15);\n",
       "      fill: #174EA6;\n",
       "    }\n",
       "\n",
       "    .colab-df-buttons div {\n",
       "      margin-bottom: 4px;\n",
       "    }\n",
       "\n",
       "    [theme=dark] .colab-df-convert {\n",
       "      background-color: #3B4455;\n",
       "      fill: #D2E3FC;\n",
       "    }\n",
       "\n",
       "    [theme=dark] .colab-df-convert:hover {\n",
       "      background-color: #434B5C;\n",
       "      box-shadow: 0px 1px 3px 1px rgba(0, 0, 0, 0.15);\n",
       "      filter: drop-shadow(0px 1px 2px rgba(0, 0, 0, 0.3));\n",
       "      fill: #FFFFFF;\n",
       "    }\n",
       "  </style>\n",
       "\n",
       "    <script>\n",
       "      const buttonEl =\n",
       "        document.querySelector('#df-36204146-223f-4b5e-975f-a16e4b7997cb button.colab-df-convert');\n",
       "      buttonEl.style.display =\n",
       "        google.colab.kernel.accessAllowed ? 'block' : 'none';\n",
       "\n",
       "      async function convertToInteractive(key) {\n",
       "        const element = document.querySelector('#df-36204146-223f-4b5e-975f-a16e4b7997cb');\n",
       "        const dataTable =\n",
       "          await google.colab.kernel.invokeFunction('convertToInteractive',\n",
       "                                                    [key], {});\n",
       "        if (!dataTable) return;\n",
       "\n",
       "        const docLinkHtml = 'Like what you see? Visit the ' +\n",
       "          '<a target=\"_blank\" href=https://colab.research.google.com/notebooks/data_table.ipynb>data table notebook</a>'\n",
       "          + ' to learn more about interactive tables.';\n",
       "        element.innerHTML = '';\n",
       "        dataTable['output_type'] = 'display_data';\n",
       "        await google.colab.output.renderOutput(dataTable, element);\n",
       "        const docLink = document.createElement('div');\n",
       "        docLink.innerHTML = docLinkHtml;\n",
       "        element.appendChild(docLink);\n",
       "      }\n",
       "    </script>\n",
       "  </div>\n",
       "\n",
       "\n",
       "<div id=\"df-f3f861c4-124d-42ed-81b9-a0f4b5395b78\">\n",
       "  <button class=\"colab-df-quickchart\" onclick=\"quickchart('df-f3f861c4-124d-42ed-81b9-a0f4b5395b78')\"\n",
       "            title=\"Suggest charts\"\n",
       "            style=\"display:none;\">\n",
       "\n",
       "<svg xmlns=\"http://www.w3.org/2000/svg\" height=\"24px\"viewBox=\"0 0 24 24\"\n",
       "     width=\"24px\">\n",
       "    <g>\n",
       "        <path d=\"M19 3H5c-1.1 0-2 .9-2 2v14c0 1.1.9 2 2 2h14c1.1 0 2-.9 2-2V5c0-1.1-.9-2-2-2zM9 17H7v-7h2v7zm4 0h-2V7h2v10zm4 0h-2v-4h2v4z\"/>\n",
       "    </g>\n",
       "</svg>\n",
       "  </button>\n",
       "\n",
       "<style>\n",
       "  .colab-df-quickchart {\n",
       "      --bg-color: #E8F0FE;\n",
       "      --fill-color: #1967D2;\n",
       "      --hover-bg-color: #E2EBFA;\n",
       "      --hover-fill-color: #174EA6;\n",
       "      --disabled-fill-color: #AAA;\n",
       "      --disabled-bg-color: #DDD;\n",
       "  }\n",
       "\n",
       "  [theme=dark] .colab-df-quickchart {\n",
       "      --bg-color: #3B4455;\n",
       "      --fill-color: #D2E3FC;\n",
       "      --hover-bg-color: #434B5C;\n",
       "      --hover-fill-color: #FFFFFF;\n",
       "      --disabled-bg-color: #3B4455;\n",
       "      --disabled-fill-color: #666;\n",
       "  }\n",
       "\n",
       "  .colab-df-quickchart {\n",
       "    background-color: var(--bg-color);\n",
       "    border: none;\n",
       "    border-radius: 50%;\n",
       "    cursor: pointer;\n",
       "    display: none;\n",
       "    fill: var(--fill-color);\n",
       "    height: 32px;\n",
       "    padding: 0;\n",
       "    width: 32px;\n",
       "  }\n",
       "\n",
       "  .colab-df-quickchart:hover {\n",
       "    background-color: var(--hover-bg-color);\n",
       "    box-shadow: 0 1px 2px rgba(60, 64, 67, 0.3), 0 1px 3px 1px rgba(60, 64, 67, 0.15);\n",
       "    fill: var(--button-hover-fill-color);\n",
       "  }\n",
       "\n",
       "  .colab-df-quickchart-complete:disabled,\n",
       "  .colab-df-quickchart-complete:disabled:hover {\n",
       "    background-color: var(--disabled-bg-color);\n",
       "    fill: var(--disabled-fill-color);\n",
       "    box-shadow: none;\n",
       "  }\n",
       "\n",
       "  .colab-df-spinner {\n",
       "    border: 2px solid var(--fill-color);\n",
       "    border-color: transparent;\n",
       "    border-bottom-color: var(--fill-color);\n",
       "    animation:\n",
       "      spin 1s steps(1) infinite;\n",
       "  }\n",
       "\n",
       "  @keyframes spin {\n",
       "    0% {\n",
       "      border-color: transparent;\n",
       "      border-bottom-color: var(--fill-color);\n",
       "      border-left-color: var(--fill-color);\n",
       "    }\n",
       "    20% {\n",
       "      border-color: transparent;\n",
       "      border-left-color: var(--fill-color);\n",
       "      border-top-color: var(--fill-color);\n",
       "    }\n",
       "    30% {\n",
       "      border-color: transparent;\n",
       "      border-left-color: var(--fill-color);\n",
       "      border-top-color: var(--fill-color);\n",
       "      border-right-color: var(--fill-color);\n",
       "    }\n",
       "    40% {\n",
       "      border-color: transparent;\n",
       "      border-right-color: var(--fill-color);\n",
       "      border-top-color: var(--fill-color);\n",
       "    }\n",
       "    60% {\n",
       "      border-color: transparent;\n",
       "      border-right-color: var(--fill-color);\n",
       "    }\n",
       "    80% {\n",
       "      border-color: transparent;\n",
       "      border-right-color: var(--fill-color);\n",
       "      border-bottom-color: var(--fill-color);\n",
       "    }\n",
       "    90% {\n",
       "      border-color: transparent;\n",
       "      border-bottom-color: var(--fill-color);\n",
       "    }\n",
       "  }\n",
       "</style>\n",
       "\n",
       "  <script>\n",
       "    async function quickchart(key) {\n",
       "      const quickchartButtonEl =\n",
       "        document.querySelector('#' + key + ' button');\n",
       "      quickchartButtonEl.disabled = true;  // To prevent multiple clicks.\n",
       "      quickchartButtonEl.classList.add('colab-df-spinner');\n",
       "      try {\n",
       "        const charts = await google.colab.kernel.invokeFunction(\n",
       "            'suggestCharts', [key], {});\n",
       "      } catch (error) {\n",
       "        console.error('Error during call to suggestCharts:', error);\n",
       "      }\n",
       "      quickchartButtonEl.classList.remove('colab-df-spinner');\n",
       "      quickchartButtonEl.classList.add('colab-df-quickchart-complete');\n",
       "    }\n",
       "    (() => {\n",
       "      let quickchartButtonEl =\n",
       "        document.querySelector('#df-f3f861c4-124d-42ed-81b9-a0f4b5395b78 button');\n",
       "      quickchartButtonEl.style.display =\n",
       "        google.colab.kernel.accessAllowed ? 'block' : 'none';\n",
       "    })();\n",
       "  </script>\n",
       "</div>\n",
       "\n",
       "    </div>\n",
       "  </div>\n"
      ],
      "text/plain": [
       "          TAXI_ID           TIMESTAMP  \\\n",
       "1395045  20000268 2014-05-01 00:00:38   \n",
       "1395076  20000167 2014-05-01 00:02:44   \n",
       "1395079  20000667 2014-05-01 00:03:49   \n",
       "1395095  20000112 2014-05-01 00:08:42   \n",
       "1395105  20000337 2014-05-01 00:10:40   \n",
       "\n",
       "                                                  POLYLINE  MONTH  \\\n",
       "1395045  [-8.615565, 41.140737, -8.615574, 41.140737, -...      5   \n",
       "1395076  [-8.610039, 41.155425, -8.609967, 41.15529, -8...      5   \n",
       "1395079  [-8.615502, 41.147289, -8.615736, 41.147316, -...      5   \n",
       "1395095  [-8.612541, 41.146137, -8.612496, 41.146092, -...      5   \n",
       "1395105  [-8.645049, 41.177061, -8.644824, 41.176872, -...      5   \n",
       "\n",
       "               PICK_UP_LOCATION  PICK_UP_LON  PICK_UP_LAT  \\\n",
       "1395045  [-8.615565, 41.140737]    -8.615565    41.140737   \n",
       "1395076  [-8.610039, 41.155425]    -8.610039    41.155425   \n",
       "1395079  [-8.615502, 41.147289]    -8.615502    41.147289   \n",
       "1395095  [-8.612541, 41.146137]    -8.612541    41.146137   \n",
       "1395105  [-8.645049, 41.177061]    -8.645049    41.177061   \n",
       "\n",
       "                                                  GEOMETRY  GEOLEN  \\\n",
       "1395045  [(-8.615565, 41.140737), (-8.615574, 41.140737...      21   \n",
       "1395076  [(-8.610039, 41.155425), (-8.609967, 41.15529)...      21   \n",
       "1395079  [(-8.615502, 41.147289), (-8.615736, 41.147316...      27   \n",
       "1395095  [(-8.612541, 41.146137), (-8.612496, 41.146092...      39   \n",
       "1395105  [(-8.645049, 41.177061), (-8.644824, 41.176872...      49   \n",
       "\n",
       "                                             new_timestamp  \n",
       "1395045  [2014-05-01 00:00:38, 2014-05-01 00:00:53, 201...  \n",
       "1395076  [2014-05-01 00:02:44, 2014-05-01 00:02:59, 201...  \n",
       "1395079  [2014-05-01 00:03:49, 2014-05-01 00:04:04, 201...  \n",
       "1395095  [2014-05-01 00:08:42, 2014-05-01 00:08:57, 201...  \n",
       "1395105  [2014-05-01 00:10:40, 2014-05-01 00:10:55, 201...  "
      ]
     },
     "execution_count": 24,
     "metadata": {},
     "output_type": "execute_result"
    }
   ],
   "source": [
    "#create datetime object of 15 seconds\n",
    "interval = dt.timedelta(seconds = 15)\n",
    "\n",
    "#create list of timestamp that adds 15 seconds to each trip's start timestamp\n",
    "months_data.loc[:,\"new_timestamp\"] = \"\"\n",
    "months_data.loc[:,\"new_timestamp\"] = months_data.loc[:,\"new_timestamp\"].astype(\"object\")\n",
    "for index, row in months_data.iterrows():\n",
    "    mul_seq = [y for y in range(row['GEOLEN'])]\n",
    "    t_seq = [interval * y for y in mul_seq]\n",
    "    new_timestamp = [row['TIMESTAMP'] + time for time in t_seq]\n",
    "    months_data.at[index,'new_timestamp'] = new_timestamp\n",
    "months_data.head()"
   ]
  },
  {
   "cell_type": "code",
   "execution_count": 25,
   "metadata": {
    "executionInfo": {
     "elapsed": 16262,
     "status": "ok",
     "timestamp": 1714542916712,
     "user": {
      "displayName": "toran jung shahi",
      "userId": "05569312742364291561"
     },
     "user_tz": -600
    },
    "id": "WWrvJWjK5ahR"
   },
   "outputs": [],
   "source": [
    "#Explode 'GEOMETRY' column to series of 15 seconds interval locations for sampling\n",
    "df_exploded = months_data.explode(['GEOMETRY','new_timestamp']).reset_index(drop = True)"
   ]
  },
  {
   "cell_type": "code",
   "execution_count": 26,
   "metadata": {
    "executionInfo": {
     "elapsed": 516,
     "status": "ok",
     "timestamp": 1714542917219,
     "user": {
      "displayName": "toran jung shahi",
      "userId": "05569312742364291561"
     },
     "user_tz": -600
    },
    "id": "0BJG_dpwN6C8"
   },
   "outputs": [],
   "source": [
    "#drop old 'TIMESTAMP' column\n",
    "df_exploded.drop('TIMESTAMP',axis = 1,inplace = True)"
   ]
  },
  {
   "cell_type": "code",
   "execution_count": 27,
   "metadata": {
    "executionInfo": {
     "elapsed": 11,
     "status": "ok",
     "timestamp": 1714542917220,
     "user": {
      "displayName": "toran jung shahi",
      "userId": "05569312742364291561"
     },
     "user_tz": -600
    },
    "id": "Sf5CoaLj936T"
   },
   "outputs": [],
   "source": [
    "#Convert trajectories to cartesian, taken from https://github.com/erik-buchholz/RAoPT\n",
    "def convert_coord(latitudes: np.ndarray, longitudes: np.ndarray) -> (np.ndarray, np.ndarray):\n",
    "    R_e = 6317  #Average radius of earth in KM\n",
    "    alpha = np.radians(latitudes)\n",
    "    beta = np.radians(longitudes)\n",
    "    x = R_e * np.cos(alpha) * np.cos(beta)\n",
    "    y = R_e * np.cos(alpha) * np.sin(beta)\n",
    "    return x, y\n"
   ]
  },
  {
   "cell_type": "code",
   "execution_count": 28,
   "metadata": {
    "executionInfo": {
     "elapsed": 21787,
     "status": "ok",
     "timestamp": 1714542938998,
     "user": {
      "displayName": "toran jung shahi",
      "userId": "05569312742364291561"
     },
     "user_tz": -600
    },
    "id": "5zJe7KgbjfE8"
   },
   "outputs": [],
   "source": [
    "#Create list of user trajectories. Each trajectory is a dataframe\n",
    "users = []\n",
    "for taxi in df_exploded.TAXI_ID.unique():\n",
    "  user = df_exploded.loc[df_exploded.TAXI_ID == taxi].copy()\n",
    "  user.sort_values(by = 'new_timestamp')\n",
    "  user.reset_index(drop = True, inplace = True)\n",
    "  user.loc[:,'lon'], user.loc[:,'lat'] = zip(*user['GEOMETRY'])\n",
    "  # Unwrap the angles\n",
    "  user.loc[:,'lon'] = np.rad2deg(np.unwrap(np.deg2rad(user.loc[:,'lon'])))\n",
    "  user.loc[:,'lat'] = np.rad2deg(np.unwrap(np.deg2rad(user.loc[:,'lat'])))\n",
    "  #Sample dataframe\n",
    "  conversion = {'lon':'first','lat':'first'}\n",
    "  user_sampled = user.resample('10T',on = 'new_timestamp').agg(conversion)\n",
    "\n",
    "  #Check if all timesteps are contained in each user, if not add and fill values with nan\n",
    "  user_sampled = user_sampled.reindex(time_step,fill_value = np.nan)\n",
    "\n",
    "  #nearest interpolation\n",
    "  user_sampled.loc[:,'lon'] = user_sampled.loc[:,'lon'].interpolate(method='nearest')\n",
    "  user_sampled.loc[:,'lat'] = user_sampled.loc[:,'lat'].interpolate(method='nearest')\n",
    "\n",
    "  #forward and backward fill if no nearest values available in original data frame\n",
    "  user_sampled.loc[:,'lon'] = user_sampled.loc[:,'lon'].ffill().bfill()\n",
    "  user_sampled.loc[:,'lat'] = user_sampled.loc[:,'lat'].ffill().bfill()\n",
    "  #convert to cartesian\n",
    "  user_sampled.loc[:,'X'],user_sampled.loc[:,'Y'] = convert_coord(user_sampled['lat'].to_numpy(), user_sampled['lon'].to_numpy())\n",
    "  user_sampled.loc[:,'TAXI_ID'] = taxi\n",
    "  users.append(user_sampled)\n"
   ]
  },
  {
   "cell_type": "code",
   "execution_count": 29,
   "metadata": {
    "colab": {
     "base_uri": "https://localhost:8080/"
    },
    "executionInfo": {
     "elapsed": 535,
     "status": "ok",
     "timestamp": 1714542939483,
     "user": {
      "displayName": "toran jung shahi",
      "userId": "05569312742364291561"
     },
     "user_tz": -600
    },
    "id": "fxIpTOy_ObP9",
    "outputId": "2f8c928a-0a0a-4ed3-fb17-654a59eb17d8"
   },
   "outputs": [
    {
     "name": "stdout",
     "output_type": "stream",
     "text": [
      "One percentile of X: 4696 99th Percentile of X: 4707\n",
      "X-Min: 4494 , X-Max: 4880\n",
      "One percentile of Y: -718 99th Percentile of Y: -705\n",
      "Y-Min: -860 , Y-Max: -256\n",
      "length: 11 Width: 13\n"
     ]
    }
   ],
   "source": [
    "# Calculate percentiles for X\n",
    "X_1 = round(pd.concat(users)['X'].quantile(0.01))\n",
    "X_99 = round(pd.concat(users)['X'].quantile(0.995))\n",
    "X_min,X_max = round(pd.concat(users)['X'].min()),round(pd.concat(users)['X'].max())\n",
    "\n",
    "#Calculate percentiles for Y\n",
    "Y_1 = round(pd.concat(users)['Y'].quantile(0.01))\n",
    "Y_99 = round(pd.concat(users)['Y'].quantile(0.995))\n",
    "Y_min,Y_max = round(pd.concat(users)['Y'].min()),round(pd.concat(users)['Y'].max())\n",
    "\n",
    "print('One percentile of X:',X_1,'99th Percentile of X:',X_99)\n",
    "print('X-Min:',X_min,', X-Max:',X_max)\n",
    "print('One percentile of Y:',Y_1,'99th Percentile of Y:',Y_99)\n",
    "print('Y-Min:',Y_min,', Y-Max:',Y_max)\n",
    "length, width = abs(X_99 - X_1),abs(Y_99 - Y_1)\n",
    "print('length:',length, 'Width:',width)"
   ]
  },
  {
   "cell_type": "code",
   "execution_count": 30,
   "metadata": {
    "colab": {
     "base_uri": "https://localhost:8080/"
    },
    "executionInfo": {
     "elapsed": 15,
     "status": "ok",
     "timestamp": 1714542939483,
     "user": {
      "displayName": "toran jung shahi",
      "userId": "05569312742364291561"
     },
     "user_tz": -600
    },
    "id": "tUlPd4m-dAkh",
    "outputId": "0bc187d9-d4dc-4afd-951f-2291265d1b13"
   },
   "outputs": [
    {
     "name": "stdout",
     "output_type": "stream",
     "text": [
      "Original dimensions: (14, 14)\n",
      "The bounding box is: X_low = 4694.5, X_high = 4708.5, Y_low = -718.5 and Y_high = -704.5 \n"
     ]
    }
   ],
   "source": [
    "#Make square bounding box and divisible into equal grids\n",
    "\n",
    "def make_equal_and_even(a, b):\n",
    "    # Base case: If a and b are equal, return them\n",
    "    if a == b:\n",
    "        return a, b\n",
    "\n",
    "    # Choose one integer to modify\n",
    "    if a < b:\n",
    "        a += 1\n",
    "    else:\n",
    "        b += 1\n",
    "\n",
    "    # Make the modified integer even\n",
    "    if a % 2 != 0:\n",
    "        a += 1\n",
    "    if b % 2 != 0:\n",
    "        b += 1\n",
    "\n",
    "    # Recursive case: Call the function with modified values\n",
    "    return make_equal_and_even(a, b)\n",
    "\n",
    "(a,b) = make_equal_and_even(length,width)\n",
    "print('Original dimensions:',(a,b))\n",
    "X_low = X_1 - (a - length )/2\n",
    "X_high = X_99 + (a - length)/2\n",
    "Y_low = Y_1 - (b - width)/2\n",
    "Y_high = Y_99 + (b - width)/2\n",
    "print(f'The bounding box is: X_low = {X_low}, X_high = {X_high}, Y_low = {Y_low} and Y_high = {Y_high} ')"
   ]
  },
  {
   "cell_type": "code",
   "execution_count": 31,
   "metadata": {
    "colab": {
     "base_uri": "https://localhost:8080/"
    },
    "executionInfo": {
     "elapsed": 331,
     "status": "ok",
     "timestamp": 1714542939807,
     "user": {
      "displayName": "toran jung shahi",
      "userId": "05569312742364291561"
     },
     "user_tz": -600
    },
    "id": "9oQvHpSZsRdD",
    "outputId": "89fcae08-bb0f-4cb8-d59c-2ed306df293b"
   },
   "outputs": [
    {
     "name": "stdout",
     "output_type": "stream",
     "text": [
      "Max - X:  4708.5 , Min - X:  4694.5 , Max - Y:  -704.5 , Min - Y:  -718.5\n"
     ]
    }
   ],
   "source": [
    "#pad the values exceeding boundary to boundary values.\n",
    "ts_data = pd.concat(users)\n",
    "ts_data.loc[ts_data['Y'] > Y_high,'Y'] = Y_high\n",
    "ts_data.loc[ts_data['Y'] < Y_low,'Y'] = Y_low\n",
    "ts_data.loc[ts_data['X'] < X_low,'X'] = X_low\n",
    "ts_data.loc[ts_data['X'] > X_high,'X'] = X_high\n",
    "\n",
    "#Sanity check for max and min values\n",
    "print('Max - X: ',ts_data.X.max(),', Min - X: ',ts_data.X.min(),', Max - Y: ' ,ts_data.Y.max(),', Min - Y: ',ts_data.Y.min())"
   ]
  },
  {
   "cell_type": "code",
   "execution_count": 32,
   "metadata": {
    "executionInfo": {
     "elapsed": 10,
     "status": "ok",
     "timestamp": 1714542939808,
     "user": {
      "displayName": "toran jung shahi",
      "userId": "05569312742364291561"
     },
     "user_tz": -600
    },
    "id": "Nd4jmp6HRqvJ"
   },
   "outputs": [],
   "source": [
    "cell_dia = 2 #set cell diameter\n",
    "#create zeroes numpy array of size final_length x final_width\n",
    "flength , fwidth = abs(X_high - X_low),abs(Y_high - Y_low)\n",
    "shape = (int(flength/cell_dia),int(fwidth/cell_dia)) #shape of array\n",
    "dtype = [('x','f4'),('y','f4')] #create datatype of array elements as tuple of floats\n",
    "cells = np.zeros(shape,dtype = dtype)\n",
    "\n",
    "#fill cells with their location as centre of each grid\n",
    "grid_map = {}\n",
    "x_start,y_start = X_low + cell_dia/2,Y_low +cell_dia/2\n",
    "for i in range(int(flength/cell_dia)):\n",
    "  cells[i,:]['x'] = x_start\n",
    "  for j in range(int(fwidth/cell_dia)):\n",
    "    cells[i,j]['y'] = y_start\n",
    "    y_start += cell_dia\n",
    "    grid_map[tuple(cells[i,j])] = (i,j)\n",
    "  y_start = Y_low +cell_dia/2\n",
    "  x_start += cell_dia\n"
   ]
  },
  {
   "cell_type": "code",
   "execution_count": 33,
   "metadata": {
    "executionInfo": {
     "elapsed": 10,
     "status": "ok",
     "timestamp": 1714542939809,
     "user": {
      "displayName": "toran jung shahi",
      "userId": "05569312742364291561"
     },
     "user_tz": -600
    },
    "id": "5QpuWLzj4WPg"
   },
   "outputs": [],
   "source": [
    "#Get base station location\n",
    "xcenter = cells[:,:]['x']\n",
    "ycenter = cells[:,:]['y']"
   ]
  },
  {
   "cell_type": "code",
   "execution_count": 34,
   "metadata": {
    "colab": {
     "base_uri": "https://localhost:8080/",
     "height": 311
    },
    "executionInfo": {
     "elapsed": 4528,
     "status": "ok",
     "timestamp": 1714542944329,
     "user": {
      "displayName": "toran jung shahi",
      "userId": "05569312742364291561"
     },
     "user_tz": -600
    },
    "id": "1sZnZdFdP8OJ",
    "outputId": "1e8f709e-2f48-4dbb-d17d-7725d0b36659"
   },
   "outputs": [
    {
     "data": {
      "image/png": "[encoded data removed]",
      "text/plain": [
       "<Figure size 490x300 with 1 Axes>"
      ]
     },
     "metadata": {},
     "output_type": "display_data"
    }
   ],
   "source": [
    "#Plot taxi locations and base station location on grid\n",
    "fig = plt.figure(figsize = (4.9,3))\n",
    "ax = fig.gca()\n",
    "xticks =np.arange(X_low,X_high+cell_dia,cell_dia) #from lowest value of x to highest value of x with steps of cell_dia\n",
    "yticks = np.arange(Y_low,Y_high+cell_dia,cell_dia) #from lowest value of y to highest value of y with steps of cell_dia\n",
    "ax.set_xticks(xticks)\n",
    "ax.set_yticks(yticks)\n",
    "ax.set_xlabel('Latitude')\n",
    "ax.set_ylabel('Longitude')\n",
    "plt.scatter(x= ts_data.X,y=ts_data.Y,marker = 'd')\n",
    "plt.scatter(x = xcenter,y = ycenter,color = 'r',alpha = .5)\n",
    "plt.grid(color='g', linestyle='--', linewidth=1)\n",
    "plt.show()"
   ]
  },
  {
   "cell_type": "code",
   "execution_count": 35,
   "metadata": {
    "executionInfo": {
     "elapsed": 5460,
     "status": "ok",
     "timestamp": 1714542949777,
     "user": {
      "displayName": "toran jung shahi",
      "userId": "05569312742364291561"
     },
     "user_tz": -600
    },
    "id": "0M3ZVhAu3PyZ"
   },
   "outputs": [],
   "source": [
    "#Maps x,y value of user to x,y value of base station\n",
    "def find_cell(value,xticks,cell_dia):\n",
    "  if value == xticks[-1]: #if the value is highest/last element in the list\n",
    "    return (xticks[-1] - cell_dia/2)\n",
    "  else:\n",
    "    i = next(j for j,e in enumerate(xticks) if e > value) #get the integer location where the value should be inserted.\n",
    "    return (xticks[i-1] + cell_dia/2)\n",
    "\n",
    "ts_data.loc[:,\"xcell\"] = 0.0\n",
    "ts_data.loc[:,\"ycell\"] = 0.0\n",
    "ts_data.loc[:,\"xcell\"] = ts_data.loc[:,\"X\"].apply(find_cell,args = (xticks,cell_dia))\n",
    "ts_data.loc[:,\"ycell\"] = ts_data.loc[:,\"Y\"].apply(find_cell,args = (yticks,cell_dia))"
   ]
  },
  {
   "cell_type": "code",
   "execution_count": 36,
   "metadata": {
    "executionInfo": {
     "elapsed": 520,
     "status": "ok",
     "timestamp": 1714542950250,
     "user": {
      "displayName": "toran jung shahi",
      "userId": "05569312742364291561"
     },
     "user_tz": -600
    },
    "id": "OfV1eGVcjbtP"
   },
   "outputs": [],
   "source": [
    "#create tuple (xcell,ycell) as tower from columns xcell and ycell\n",
    "ts_data['tower'] = list(zip(ts_data['xcell'],ts_data['ycell']))\n",
    "ts_data.drop(['xcell','ycell'],axis = 1,inplace = True)"
   ]
  },
  {
   "cell_type": "code",
   "execution_count": 37,
   "metadata": {
    "executionInfo": {
     "elapsed": 5033,
     "status": "ok",
     "timestamp": 1714542955278,
     "user": {
      "displayName": "toran jung shahi",
      "userId": "05569312742364291561"
     },
     "user_tz": -600
    },
    "id": "hEThKZmbKxa-"
   },
   "outputs": [],
   "source": [
    "#get mapping of cell id to tower location\n",
    "ts_data['cell_id'] = ts_data['tower'].apply(lambda x: grid_map[x])"
   ]
  },
  {
   "cell_type": "code",
   "execution_count": 38,
   "metadata": {
    "colab": {
     "base_uri": "https://localhost:8080/",
     "height": 206
    },
    "executionInfo": {
     "elapsed": 16,
     "status": "ok",
     "timestamp": 1714542955280,
     "user": {
      "displayName": "toran jung shahi",
      "userId": "05569312742364291561"
     },
     "user_tz": -600
    },
    "id": "DGXUR-dtXuFy",
    "outputId": "b8ec61d0-535d-4284-ced5-af0f171e3888"
   },
   "outputs": [
    {
     "data": {
      "application/vnd.google.colaboratory.intrinsic+json": {
       "type": "dataframe",
       "variable_name": "ts_data"
      },
      "text/html": [
       "\n",
       "  <div id=\"df-be3dfbb9-96cb-4fe3-b3a6-ab7099bff8be\" class=\"colab-df-container\">\n",
       "    <div>\n",
       "<style scoped>\n",
       "    .dataframe tbody tr th:only-of-type {\n",
       "        vertical-align: middle;\n",
       "    }\n",
       "\n",
       "    .dataframe tbody tr th {\n",
       "        vertical-align: top;\n",
       "    }\n",
       "\n",
       "    .dataframe thead th {\n",
       "        text-align: right;\n",
       "    }\n",
       "</style>\n",
       "<table border=\"1\" class=\"dataframe\">\n",
       "  <thead>\n",
       "    <tr style=\"text-align: right;\">\n",
       "      <th></th>\n",
       "      <th>lon</th>\n",
       "      <th>lat</th>\n",
       "      <th>X</th>\n",
       "      <th>Y</th>\n",
       "      <th>TAXI_ID</th>\n",
       "      <th>tower</th>\n",
       "      <th>cell_id</th>\n",
       "    </tr>\n",
       "  </thead>\n",
       "  <tbody>\n",
       "    <tr>\n",
       "      <th>2014-05-01 00:00:00</th>\n",
       "      <td>-8.615565</td>\n",
       "      <td>41.140737</td>\n",
       "      <td>4703.623474</td>\n",
       "      <td>-712.663238</td>\n",
       "      <td>20000268</td>\n",
       "      <td>(4703.5, -713.5)</td>\n",
       "      <td>(4, 2)</td>\n",
       "    </tr>\n",
       "    <tr>\n",
       "      <th>2014-05-01 00:10:00</th>\n",
       "      <td>-8.613918</td>\n",
       "      <td>41.142942</td>\n",
       "      <td>4703.485816</td>\n",
       "      <td>-712.504073</td>\n",
       "      <td>20000268</td>\n",
       "      <td>(4703.5, -713.5)</td>\n",
       "      <td>(4, 2)</td>\n",
       "    </tr>\n",
       "    <tr>\n",
       "      <th>2014-05-01 00:20:00</th>\n",
       "      <td>-8.613918</td>\n",
       "      <td>41.142942</td>\n",
       "      <td>4703.485816</td>\n",
       "      <td>-712.504073</td>\n",
       "      <td>20000268</td>\n",
       "      <td>(4703.5, -713.5)</td>\n",
       "      <td>(4, 2)</td>\n",
       "    </tr>\n",
       "    <tr>\n",
       "      <th>2014-05-01 00:30:00</th>\n",
       "      <td>-8.613918</td>\n",
       "      <td>41.142942</td>\n",
       "      <td>4703.485816</td>\n",
       "      <td>-712.504073</td>\n",
       "      <td>20000268</td>\n",
       "      <td>(4703.5, -713.5)</td>\n",
       "      <td>(4, 2)</td>\n",
       "    </tr>\n",
       "    <tr>\n",
       "      <th>2014-05-01 00:40:00</th>\n",
       "      <td>-8.613918</td>\n",
       "      <td>41.142942</td>\n",
       "      <td>4703.485816</td>\n",
       "      <td>-712.504073</td>\n",
       "      <td>20000268</td>\n",
       "      <td>(4703.5, -713.5)</td>\n",
       "      <td>(4, 2)</td>\n",
       "    </tr>\n",
       "  </tbody>\n",
       "</table>\n",
       "</div>\n",
       "    <div class=\"colab-df-buttons\">\n",
       "\n",
       "  <div class=\"colab-df-container\">\n",
       "    <button class=\"colab-df-convert\" onclick=\"convertToInteractive('df-be3dfbb9-96cb-4fe3-b3a6-ab7099bff8be')\"\n",
       "            title=\"Convert this dataframe to an interactive table.\"\n",
       "            style=\"display:none;\">\n",
       "\n",
       "  <svg xmlns=\"http://www.w3.org/2000/svg\" height=\"24px\" viewBox=\"0 -960 960 960\">\n",
       "    <path d=\"M120-120v-720h720v720H120Zm60-500h600v-160H180v160Zm220 220h160v-160H400v160Zm0 220h160v-160H400v160ZM180-400h160v-160H180v160Zm440 0h160v-160H620v160ZM180-180h160v-160H180v160Zm440 0h160v-160H620v160Z\"/>\n",
       "  </svg>\n",
       "    </button>\n",
       "\n",
       "  <style>\n",
       "    .colab-df-container {\n",
       "      display:flex;\n",
       "      gap: 12px;\n",
       "    }\n",
       "\n",
       "    .colab-df-convert {\n",
       "      background-color: #E8F0FE;\n",
       "      border: none;\n",
       "      border-radius: 50%;\n",
       "      cursor: pointer;\n",
       "      display: none;\n",
       "      fill: #1967D2;\n",
       "      height: 32px;\n",
       "      padding: 0 0 0 0;\n",
       "      width: 32px;\n",
       "    }\n",
       "\n",
       "    .colab-df-convert:hover {\n",
       "      background-color: #E2EBFA;\n",
       "      box-shadow: 0px 1px 2px rgba(60, 64, 67, 0.3), 0px 1px 3px 1px rgba(60, 64, 67, 0.15);\n",
       "      fill: #174EA6;\n",
       "    }\n",
       "\n",
       "    .colab-df-buttons div {\n",
       "      margin-bottom: 4px;\n",
       "    }\n",
       "\n",
       "    [theme=dark] .colab-df-convert {\n",
       "      background-color: #3B4455;\n",
       "      fill: #D2E3FC;\n",
       "    }\n",
       "\n",
       "    [theme=dark] .colab-df-convert:hover {\n",
       "      background-color: #434B5C;\n",
       "      box-shadow: 0px 1px 3px 1px rgba(0, 0, 0, 0.15);\n",
       "      filter: drop-shadow(0px 1px 2px rgba(0, 0, 0, 0.3));\n",
       "      fill: #FFFFFF;\n",
       "    }\n",
       "  </style>\n",
       "\n",
       "    <script>\n",
       "      const buttonEl =\n",
       "        document.querySelector('#df-be3dfbb9-96cb-4fe3-b3a6-ab7099bff8be button.colab-df-convert');\n",
       "      buttonEl.style.display =\n",
       "        google.colab.kernel.accessAllowed ? 'block' : 'none';\n",
       "\n",
       "      async function convertToInteractive(key) {\n",
       "        const element = document.querySelector('#df-be3dfbb9-96cb-4fe3-b3a6-ab7099bff8be');\n",
       "        const dataTable =\n",
       "          await google.colab.kernel.invokeFunction('convertToInteractive',\n",
       "                                                    [key], {});\n",
       "        if (!dataTable) return;\n",
       "\n",
       "        const docLinkHtml = 'Like what you see? Visit the ' +\n",
       "          '<a target=\"_blank\" href=https://colab.research.google.com/notebooks/data_table.ipynb>data table notebook</a>'\n",
       "          + ' to learn more about interactive tables.';\n",
       "        element.innerHTML = '';\n",
       "        dataTable['output_type'] = 'display_data';\n",
       "        await google.colab.output.renderOutput(dataTable, element);\n",
       "        const docLink = document.createElement('div');\n",
       "        docLink.innerHTML = docLinkHtml;\n",
       "        element.appendChild(docLink);\n",
       "      }\n",
       "    </script>\n",
       "  </div>\n",
       "\n",
       "\n",
       "<div id=\"df-55255b24-09d1-44f2-9087-f312931ddd9c\">\n",
       "  <button class=\"colab-df-quickchart\" onclick=\"quickchart('df-55255b24-09d1-44f2-9087-f312931ddd9c')\"\n",
       "            title=\"Suggest charts\"\n",
       "            style=\"display:none;\">\n",
       "\n",
       "<svg xmlns=\"http://www.w3.org/2000/svg\" height=\"24px\"viewBox=\"0 0 24 24\"\n",
       "     width=\"24px\">\n",
       "    <g>\n",
       "        <path d=\"M19 3H5c-1.1 0-2 .9-2 2v14c0 1.1.9 2 2 2h14c1.1 0 2-.9 2-2V5c0-1.1-.9-2-2-2zM9 17H7v-7h2v7zm4 0h-2V7h2v10zm4 0h-2v-4h2v4z\"/>\n",
       "    </g>\n",
       "</svg>\n",
       "  </button>\n",
       "\n",
       "<style>\n",
       "  .colab-df-quickchart {\n",
       "      --bg-color: #E8F0FE;\n",
       "      --fill-color: #1967D2;\n",
       "      --hover-bg-color: #E2EBFA;\n",
       "      --hover-fill-color: #174EA6;\n",
       "      --disabled-fill-color: #AAA;\n",
       "      --disabled-bg-color: #DDD;\n",
       "  }\n",
       "\n",
       "  [theme=dark] .colab-df-quickchart {\n",
       "      --bg-color: #3B4455;\n",
       "      --fill-color: #D2E3FC;\n",
       "      --hover-bg-color: #434B5C;\n",
       "      --hover-fill-color: #FFFFFF;\n",
       "      --disabled-bg-color: #3B4455;\n",
       "      --disabled-fill-color: #666;\n",
       "  }\n",
       "\n",
       "  .colab-df-quickchart {\n",
       "    background-color: var(--bg-color);\n",
       "    border: none;\n",
       "    border-radius: 50%;\n",
       "    cursor: pointer;\n",
       "    display: none;\n",
       "    fill: var(--fill-color);\n",
       "    height: 32px;\n",
       "    padding: 0;\n",
       "    width: 32px;\n",
       "  }\n",
       "\n",
       "  .colab-df-quickchart:hover {\n",
       "    background-color: var(--hover-bg-color);\n",
       "    box-shadow: 0 1px 2px rgba(60, 64, 67, 0.3), 0 1px 3px 1px rgba(60, 64, 67, 0.15);\n",
       "    fill: var(--button-hover-fill-color);\n",
       "  }\n",
       "\n",
       "  .colab-df-quickchart-complete:disabled,\n",
       "  .colab-df-quickchart-complete:disabled:hover {\n",
       "    background-color: var(--disabled-bg-color);\n",
       "    fill: var(--disabled-fill-color);\n",
       "    box-shadow: none;\n",
       "  }\n",
       "\n",
       "  .colab-df-spinner {\n",
       "    border: 2px solid var(--fill-color);\n",
       "    border-color: transparent;\n",
       "    border-bottom-color: var(--fill-color);\n",
       "    animation:\n",
       "      spin 1s steps(1) infinite;\n",
       "  }\n",
       "\n",
       "  @keyframes spin {\n",
       "    0% {\n",
       "      border-color: transparent;\n",
       "      border-bottom-color: var(--fill-color);\n",
       "      border-left-color: var(--fill-color);\n",
       "    }\n",
       "    20% {\n",
       "      border-color: transparent;\n",
       "      border-left-color: var(--fill-color);\n",
       "      border-top-color: var(--fill-color);\n",
       "    }\n",
       "    30% {\n",
       "      border-color: transparent;\n",
       "      border-left-color: var(--fill-color);\n",
       "      border-top-color: var(--fill-color);\n",
       "      border-right-color: var(--fill-color);\n",
       "    }\n",
       "    40% {\n",
       "      border-color: transparent;\n",
       "      border-right-color: var(--fill-color);\n",
       "      border-top-color: var(--fill-color);\n",
       "    }\n",
       "    60% {\n",
       "      border-color: transparent;\n",
       "      border-right-color: var(--fill-color);\n",
       "    }\n",
       "    80% {\n",
       "      border-color: transparent;\n",
       "      border-right-color: var(--fill-color);\n",
       "      border-bottom-color: var(--fill-color);\n",
       "    }\n",
       "    90% {\n",
       "      border-color: transparent;\n",
       "      border-bottom-color: var(--fill-color);\n",
       "    }\n",
       "  }\n",
       "</style>\n",
       "\n",
       "  <script>\n",
       "    async function quickchart(key) {\n",
       "      const quickchartButtonEl =\n",
       "        document.querySelector('#' + key + ' button');\n",
       "      quickchartButtonEl.disabled = true;  // To prevent multiple clicks.\n",
       "      quickchartButtonEl.classList.add('colab-df-spinner');\n",
       "      try {\n",
       "        const charts = await google.colab.kernel.invokeFunction(\n",
       "            'suggestCharts', [key], {});\n",
       "      } catch (error) {\n",
       "        console.error('Error during call to suggestCharts:', error);\n",
       "      }\n",
       "      quickchartButtonEl.classList.remove('colab-df-spinner');\n",
       "      quickchartButtonEl.classList.add('colab-df-quickchart-complete');\n",
       "    }\n",
       "    (() => {\n",
       "      let quickchartButtonEl =\n",
       "        document.querySelector('#df-55255b24-09d1-44f2-9087-f312931ddd9c button');\n",
       "      quickchartButtonEl.style.display =\n",
       "        google.colab.kernel.accessAllowed ? 'block' : 'none';\n",
       "    })();\n",
       "  </script>\n",
       "</div>\n",
       "\n",
       "    </div>\n",
       "  </div>\n"
      ],
      "text/plain": [
       "                          lon        lat            X           Y   TAXI_ID  \\\n",
       "2014-05-01 00:00:00 -8.615565  41.140737  4703.623474 -712.663238  20000268   \n",
       "2014-05-01 00:10:00 -8.613918  41.142942  4703.485816 -712.504073  20000268   \n",
       "2014-05-01 00:20:00 -8.613918  41.142942  4703.485816 -712.504073  20000268   \n",
       "2014-05-01 00:30:00 -8.613918  41.142942  4703.485816 -712.504073  20000268   \n",
       "2014-05-01 00:40:00 -8.613918  41.142942  4703.485816 -712.504073  20000268   \n",
       "\n",
       "                                tower cell_id  \n",
       "2014-05-01 00:00:00  (4703.5, -713.5)  (4, 2)  \n",
       "2014-05-01 00:10:00  (4703.5, -713.5)  (4, 2)  \n",
       "2014-05-01 00:20:00  (4703.5, -713.5)  (4, 2)  \n",
       "2014-05-01 00:30:00  (4703.5, -713.5)  (4, 2)  \n",
       "2014-05-01 00:40:00  (4703.5, -713.5)  (4, 2)  "
      ]
     },
     "execution_count": 38,
     "metadata": {},
     "output_type": "execute_result"
    }
   ],
   "source": [
    "ts_data.head()"
   ]
  },
  {
   "cell_type": "code",
   "execution_count": 39,
   "metadata": {
    "executionInfo": {
     "elapsed": 10,
     "status": "ok",
     "timestamp": 1714542955280,
     "user": {
      "displayName": "toran jung shahi",
      "userId": "05569312742364291561"
     },
     "user_tz": -600
    },
    "id": "6aqTl__FGHlj"
   },
   "outputs": [],
   "source": [
    "#create grid map\n",
    "locations = [x for x in cells.flatten()] #create list of base station locations\n",
    "bottom_left = [(x - cell_dia/2,y - cell_dia/2) for x,y in locations] #create list of bottom left point of each cell\n",
    "top_right = [(x + cell_dia/2,y + cell_dia/2) for x,y in locations] #create list of top right point of each cell\n",
    "loc = [(x,y) for x,y in locations] #create list of tuples of x and y.\n",
    "grid = pd.DataFrame({'ID':grid_map.values(),'towerlocation':loc,'bottomleft':bottom_left,'topright':top_right})"
   ]
  },
  {
   "cell_type": "code",
   "execution_count": 40,
   "metadata": {
    "executionInfo": {
     "elapsed": 10,
     "status": "ok",
     "timestamp": 1714542955281,
     "user": {
      "displayName": "toran jung shahi",
      "userId": "05569312742364291561"
     },
     "user_tz": -600
    },
    "id": "AlvDa7H6mD7v"
   },
   "outputs": [],
   "source": [
    "#group by time slots\n",
    "grouped = ts_data.groupby([ts_data.index])"
   ]
  },
  {
   "cell_type": "code",
   "execution_count": 41,
   "metadata": {
    "executionInfo": {
     "elapsed": 840,
     "status": "ok",
     "timestamp": 1714542956112,
     "user": {
      "displayName": "toran jung shahi",
      "userId": "05569312742364291561"
     },
     "user_tz": -600
    },
    "id": "Xo7KKBPunUso"
   },
   "outputs": [],
   "source": [
    "df_by_index = {} #holds dataframes for each time step, each df contains which user is at which location at that time step\n",
    "for indexvalue,grouped_df in grouped:\n",
    "  df_by_index[indexvalue] = grouped_df\n"
   ]
  },
  {
   "cell_type": "code",
   "execution_count": 42,
   "metadata": {
    "executionInfo": {
     "elapsed": 10,
     "status": "ok",
     "timestamp": 1714542956113,
     "user": {
      "displayName": "toran jung shahi",
      "userId": "05569312742364291561"
     },
     "user_tz": -600
    },
    "id": "nVSmVLm9KKRO"
   },
   "outputs": [],
   "source": [
    "col = list(grid_map.values()) #column heading are grid_map's values i.e, cell id\n",
    "agg_porto = pd.DataFrame(0,columns = col,index = ts_data.index.unique())"
   ]
  },
  {
   "cell_type": "code",
   "execution_count": 43,
   "metadata": {
    "executionInfo": {
     "elapsed": 20056,
     "status": "ok",
     "timestamp": 1714542976162,
     "user": {
      "displayName": "toran jung shahi",
      "userId": "05569312742364291561"
     },
     "user_tz": -600
    },
    "id": "ver2zQsiGyLF"
   },
   "outputs": [],
   "source": [
    "for index in df_by_index.keys():\n",
    "  x = df_by_index[index]\n",
    "  counts = x['cell_id'].value_counts().reset_index()\n",
    "  counts.columns = ['cell_id','counts']\n",
    "  agg_porto.loc[index,counts['cell_id']] = np.array(counts['counts'])"
   ]
  },
  {
   "cell_type": "code",
   "execution_count": 44,
   "metadata": {
    "executionInfo": {
     "elapsed": 9,
     "status": "ok",
     "timestamp": 1714542976162,
     "user": {
      "displayName": "toran jung shahi",
      "userId": "05569312742364291561"
     },
     "user_tz": -600
    },
    "id": "J25DL1jdQ2vl"
   },
   "outputs": [],
   "source": [
    "def count_users(group):\n",
    "  index = group.index\n",
    "  counts = group['cell_id'].value_counts().reset_index()\n",
    "  counts.columns = ['cell_id','counts']\n",
    "  agg_porto.loc[index,counts['cell_id']] = np.array(counts['counts'])"
   ]
  },
  {
   "cell_type": "code",
   "execution_count": 45,
   "metadata": {
    "colab": {
     "base_uri": "https://localhost:8080/"
    },
    "executionInfo": {
     "elapsed": 8,
     "status": "ok",
     "timestamp": 1714542976162,
     "user": {
      "displayName": "toran jung shahi",
      "userId": "05569312742364291561"
     },
     "user_tz": -600
    },
    "id": "X5JmC0q5EogT",
    "outputId": "d70602b6-3538-40c9-db5e-46fd3df5fd5f"
   },
   "outputs": [
    {
     "data": {
      "text/plain": [
       "2014-05-01 00:00:00    277\n",
       "2014-05-01 00:10:00    277\n",
       "2014-05-01 00:20:00    277\n",
       "2014-05-01 00:30:00    277\n",
       "2014-05-01 00:40:00    277\n",
       "                      ... \n",
       "2014-05-30 23:20:00    277\n",
       "2014-05-30 23:30:00    277\n",
       "2014-05-30 23:40:00    277\n",
       "2014-05-30 23:50:00    277\n",
       "2014-05-31 00:00:00    277\n",
       "Length: 4321, dtype: int64"
      ]
     },
     "execution_count": 45,
     "metadata": {},
     "output_type": "execute_result"
    }
   ],
   "source": [
    "#Sanity check for total number of users at all the locations at particular timestamp\n",
    "agg_porto.sum(axis =1)"
   ]
  },
  {
   "cell_type": "code",
   "execution_count": 46,
   "metadata": {
    "colab": {
     "base_uri": "https://localhost:8080/",
     "height": 339
    },
    "executionInfo": {
     "elapsed": 8,
     "status": "ok",
     "timestamp": 1714542976163,
     "user": {
      "displayName": "toran jung shahi",
      "userId": "05569312742364291561"
     },
     "user_tz": -600
    },
    "id": "jEi_sIKzY3nc",
    "outputId": "127db289-1d00-4159-ff2f-4cc9a32d5748"
   },
   "outputs": [
    {
     "data": {
      "application/vnd.google.colaboratory.intrinsic+json": {
       "type": "dataframe",
       "variable_name": "agg_porto"
      },
      "text/html": [
       "\n",
       "  <div id=\"df-92ad0975-6a9e-4519-9a99-0a6a3b103d9e\" class=\"colab-df-container\">\n",
       "    <div>\n",
       "<style scoped>\n",
       "    .dataframe tbody tr th:only-of-type {\n",
       "        vertical-align: middle;\n",
       "    }\n",
       "\n",
       "    .dataframe tbody tr th {\n",
       "        vertical-align: top;\n",
       "    }\n",
       "\n",
       "    .dataframe thead th {\n",
       "        text-align: right;\n",
       "    }\n",
       "</style>\n",
       "<table border=\"1\" class=\"dataframe\">\n",
       "  <thead>\n",
       "    <tr style=\"text-align: right;\">\n",
       "      <th></th>\n",
       "      <th>(0, 0)</th>\n",
       "      <th>(0, 1)</th>\n",
       "      <th>(0, 2)</th>\n",
       "      <th>(0, 3)</th>\n",
       "      <th>(0, 4)</th>\n",
       "      <th>(0, 5)</th>\n",
       "      <th>(0, 6)</th>\n",
       "      <th>(1, 0)</th>\n",
       "      <th>(1, 1)</th>\n",
       "      <th>(1, 2)</th>\n",
       "      <th>...</th>\n",
       "      <th>(5, 4)</th>\n",
       "      <th>(5, 5)</th>\n",
       "      <th>(5, 6)</th>\n",
       "      <th>(6, 0)</th>\n",
       "      <th>(6, 1)</th>\n",
       "      <th>(6, 2)</th>\n",
       "      <th>(6, 3)</th>\n",
       "      <th>(6, 4)</th>\n",
       "      <th>(6, 5)</th>\n",
       "      <th>(6, 6)</th>\n",
       "    </tr>\n",
       "  </thead>\n",
       "  <tbody>\n",
       "    <tr>\n",
       "      <th>2014-05-01 00:00:00</th>\n",
       "      <td>0</td>\n",
       "      <td>0</td>\n",
       "      <td>0</td>\n",
       "      <td>0</td>\n",
       "      <td>0</td>\n",
       "      <td>0</td>\n",
       "      <td>0</td>\n",
       "      <td>0</td>\n",
       "      <td>0</td>\n",
       "      <td>0</td>\n",
       "      <td>...</td>\n",
       "      <td>0</td>\n",
       "      <td>1</td>\n",
       "      <td>0</td>\n",
       "      <td>0</td>\n",
       "      <td>0</td>\n",
       "      <td>0</td>\n",
       "      <td>1</td>\n",
       "      <td>0</td>\n",
       "      <td>0</td>\n",
       "      <td>0</td>\n",
       "    </tr>\n",
       "    <tr>\n",
       "      <th>2014-05-01 00:10:00</th>\n",
       "      <td>0</td>\n",
       "      <td>0</td>\n",
       "      <td>0</td>\n",
       "      <td>0</td>\n",
       "      <td>0</td>\n",
       "      <td>0</td>\n",
       "      <td>0</td>\n",
       "      <td>0</td>\n",
       "      <td>0</td>\n",
       "      <td>0</td>\n",
       "      <td>...</td>\n",
       "      <td>0</td>\n",
       "      <td>1</td>\n",
       "      <td>0</td>\n",
       "      <td>0</td>\n",
       "      <td>0</td>\n",
       "      <td>0</td>\n",
       "      <td>1</td>\n",
       "      <td>0</td>\n",
       "      <td>0</td>\n",
       "      <td>0</td>\n",
       "    </tr>\n",
       "    <tr>\n",
       "      <th>2014-05-01 00:20:00</th>\n",
       "      <td>0</td>\n",
       "      <td>0</td>\n",
       "      <td>0</td>\n",
       "      <td>0</td>\n",
       "      <td>0</td>\n",
       "      <td>0</td>\n",
       "      <td>0</td>\n",
       "      <td>0</td>\n",
       "      <td>0</td>\n",
       "      <td>0</td>\n",
       "      <td>...</td>\n",
       "      <td>0</td>\n",
       "      <td>1</td>\n",
       "      <td>0</td>\n",
       "      <td>0</td>\n",
       "      <td>0</td>\n",
       "      <td>0</td>\n",
       "      <td>1</td>\n",
       "      <td>0</td>\n",
       "      <td>0</td>\n",
       "      <td>0</td>\n",
       "    </tr>\n",
       "    <tr>\n",
       "      <th>2014-05-01 00:30:00</th>\n",
       "      <td>0</td>\n",
       "      <td>0</td>\n",
       "      <td>0</td>\n",
       "      <td>0</td>\n",
       "      <td>0</td>\n",
       "      <td>0</td>\n",
       "      <td>0</td>\n",
       "      <td>0</td>\n",
       "      <td>0</td>\n",
       "      <td>0</td>\n",
       "      <td>...</td>\n",
       "      <td>0</td>\n",
       "      <td>1</td>\n",
       "      <td>0</td>\n",
       "      <td>0</td>\n",
       "      <td>0</td>\n",
       "      <td>0</td>\n",
       "      <td>1</td>\n",
       "      <td>0</td>\n",
       "      <td>0</td>\n",
       "      <td>0</td>\n",
       "    </tr>\n",
       "    <tr>\n",
       "      <th>2014-05-01 00:40:00</th>\n",
       "      <td>0</td>\n",
       "      <td>0</td>\n",
       "      <td>0</td>\n",
       "      <td>0</td>\n",
       "      <td>0</td>\n",
       "      <td>0</td>\n",
       "      <td>0</td>\n",
       "      <td>0</td>\n",
       "      <td>0</td>\n",
       "      <td>0</td>\n",
       "      <td>...</td>\n",
       "      <td>0</td>\n",
       "      <td>1</td>\n",
       "      <td>0</td>\n",
       "      <td>0</td>\n",
       "      <td>0</td>\n",
       "      <td>0</td>\n",
       "      <td>1</td>\n",
       "      <td>0</td>\n",
       "      <td>0</td>\n",
       "      <td>0</td>\n",
       "    </tr>\n",
       "  </tbody>\n",
       "</table>\n",
       "<p>5 rows × 49 columns</p>\n",
       "</div>\n",
       "    <div class=\"colab-df-buttons\">\n",
       "\n",
       "  <div class=\"colab-df-container\">\n",
       "    <button class=\"colab-df-convert\" onclick=\"convertToInteractive('df-92ad0975-6a9e-4519-9a99-0a6a3b103d9e')\"\n",
       "            title=\"Convert this dataframe to an interactive table.\"\n",
       "            style=\"display:none;\">\n",
       "\n",
       "  <svg xmlns=\"http://www.w3.org/2000/svg\" height=\"24px\" viewBox=\"0 -960 960 960\">\n",
       "    <path d=\"M120-120v-720h720v720H120Zm60-500h600v-160H180v160Zm220 220h160v-160H400v160Zm0 220h160v-160H400v160ZM180-400h160v-160H180v160Zm440 0h160v-160H620v160ZM180-180h160v-160H180v160Zm440 0h160v-160H620v160Z\"/>\n",
       "  </svg>\n",
       "    </button>\n",
       "\n",
       "  <style>\n",
       "    .colab-df-container {\n",
       "      display:flex;\n",
       "      gap: 12px;\n",
       "    }\n",
       "\n",
       "    .colab-df-convert {\n",
       "      background-color: #E8F0FE;\n",
       "      border: none;\n",
       "      border-radius: 50%;\n",
       "      cursor: pointer;\n",
       "      display: none;\n",
       "      fill: #1967D2;\n",
       "      height: 32px;\n",
       "      padding: 0 0 0 0;\n",
       "      width: 32px;\n",
       "    }\n",
       "\n",
       "    .colab-df-convert:hover {\n",
       "      background-color: #E2EBFA;\n",
       "      box-shadow: 0px 1px 2px rgba(60, 64, 67, 0.3), 0px 1px 3px 1px rgba(60, 64, 67, 0.15);\n",
       "      fill: #174EA6;\n",
       "    }\n",
       "\n",
       "    .colab-df-buttons div {\n",
       "      margin-bottom: 4px;\n",
       "    }\n",
       "\n",
       "    [theme=dark] .colab-df-convert {\n",
       "      background-color: #3B4455;\n",
       "      fill: #D2E3FC;\n",
       "    }\n",
       "\n",
       "    [theme=dark] .colab-df-convert:hover {\n",
       "      background-color: #434B5C;\n",
       "      box-shadow: 0px 1px 3px 1px rgba(0, 0, 0, 0.15);\n",
       "      filter: drop-shadow(0px 1px 2px rgba(0, 0, 0, 0.3));\n",
       "      fill: #FFFFFF;\n",
       "    }\n",
       "  </style>\n",
       "\n",
       "    <script>\n",
       "      const buttonEl =\n",
       "        document.querySelector('#df-92ad0975-6a9e-4519-9a99-0a6a3b103d9e button.colab-df-convert');\n",
       "      buttonEl.style.display =\n",
       "        google.colab.kernel.accessAllowed ? 'block' : 'none';\n",
       "\n",
       "      async function convertToInteractive(key) {\n",
       "        const element = document.querySelector('#df-92ad0975-6a9e-4519-9a99-0a6a3b103d9e');\n",
       "        const dataTable =\n",
       "          await google.colab.kernel.invokeFunction('convertToInteractive',\n",
       "                                                    [key], {});\n",
       "        if (!dataTable) return;\n",
       "\n",
       "        const docLinkHtml = 'Like what you see? Visit the ' +\n",
       "          '<a target=\"_blank\" href=https://colab.research.google.com/notebooks/data_table.ipynb>data table notebook</a>'\n",
       "          + ' to learn more about interactive tables.';\n",
       "        element.innerHTML = '';\n",
       "        dataTable['output_type'] = 'display_data';\n",
       "        await google.colab.output.renderOutput(dataTable, element);\n",
       "        const docLink = document.createElement('div');\n",
       "        docLink.innerHTML = docLinkHtml;\n",
       "        element.appendChild(docLink);\n",
       "      }\n",
       "    </script>\n",
       "  </div>\n",
       "\n",
       "\n",
       "<div id=\"df-caa8dfeb-f0bc-4f90-9c80-5b1fe7371aee\">\n",
       "  <button class=\"colab-df-quickchart\" onclick=\"quickchart('df-caa8dfeb-f0bc-4f90-9c80-5b1fe7371aee')\"\n",
       "            title=\"Suggest charts\"\n",
       "            style=\"display:none;\">\n",
       "\n",
       "<svg xmlns=\"http://www.w3.org/2000/svg\" height=\"24px\"viewBox=\"0 0 24 24\"\n",
       "     width=\"24px\">\n",
       "    <g>\n",
       "        <path d=\"M19 3H5c-1.1 0-2 .9-2 2v14c0 1.1.9 2 2 2h14c1.1 0 2-.9 2-2V5c0-1.1-.9-2-2-2zM9 17H7v-7h2v7zm4 0h-2V7h2v10zm4 0h-2v-4h2v4z\"/>\n",
       "    </g>\n",
       "</svg>\n",
       "  </button>\n",
       "\n",
       "<style>\n",
       "  .colab-df-quickchart {\n",
       "      --bg-color: #E8F0FE;\n",
       "      --fill-color: #1967D2;\n",
       "      --hover-bg-color: #E2EBFA;\n",
       "      --hover-fill-color: #174EA6;\n",
       "      --disabled-fill-color: #AAA;\n",
       "      --disabled-bg-color: #DDD;\n",
       "  }\n",
       "\n",
       "  [theme=dark] .colab-df-quickchart {\n",
       "      --bg-color: #3B4455;\n",
       "      --fill-color: #D2E3FC;\n",
       "      --hover-bg-color: #434B5C;\n",
       "      --hover-fill-color: #FFFFFF;\n",
       "      --disabled-bg-color: #3B4455;\n",
       "      --disabled-fill-color: #666;\n",
       "  }\n",
       "\n",
       "  .colab-df-quickchart {\n",
       "    background-color: var(--bg-color);\n",
       "    border: none;\n",
       "    border-radius: 50%;\n",
       "    cursor: pointer;\n",
       "    display: none;\n",
       "    fill: var(--fill-color);\n",
       "    height: 32px;\n",
       "    padding: 0;\n",
       "    width: 32px;\n",
       "  }\n",
       "\n",
       "  .colab-df-quickchart:hover {\n",
       "    background-color: var(--hover-bg-color);\n",
       "    box-shadow: 0 1px 2px rgba(60, 64, 67, 0.3), 0 1px 3px 1px rgba(60, 64, 67, 0.15);\n",
       "    fill: var(--button-hover-fill-color);\n",
       "  }\n",
       "\n",
       "  .colab-df-quickchart-complete:disabled,\n",
       "  .colab-df-quickchart-complete:disabled:hover {\n",
       "    background-color: var(--disabled-bg-color);\n",
       "    fill: var(--disabled-fill-color);\n",
       "    box-shadow: none;\n",
       "  }\n",
       "\n",
       "  .colab-df-spinner {\n",
       "    border: 2px solid var(--fill-color);\n",
       "    border-color: transparent;\n",
       "    border-bottom-color: var(--fill-color);\n",
       "    animation:\n",
       "      spin 1s steps(1) infinite;\n",
       "  }\n",
       "\n",
       "  @keyframes spin {\n",
       "    0% {\n",
       "      border-color: transparent;\n",
       "      border-bottom-color: var(--fill-color);\n",
       "      border-left-color: var(--fill-color);\n",
       "    }\n",
       "    20% {\n",
       "      border-color: transparent;\n",
       "      border-left-color: var(--fill-color);\n",
       "      border-top-color: var(--fill-color);\n",
       "    }\n",
       "    30% {\n",
       "      border-color: transparent;\n",
       "      border-left-color: var(--fill-color);\n",
       "      border-top-color: var(--fill-color);\n",
       "      border-right-color: var(--fill-color);\n",
       "    }\n",
       "    40% {\n",
       "      border-color: transparent;\n",
       "      border-right-color: var(--fill-color);\n",
       "      border-top-color: var(--fill-color);\n",
       "    }\n",
       "    60% {\n",
       "      border-color: transparent;\n",
       "      border-right-color: var(--fill-color);\n",
       "    }\n",
       "    80% {\n",
       "      border-color: transparent;\n",
       "      border-right-color: var(--fill-color);\n",
       "      border-bottom-color: var(--fill-color);\n",
       "    }\n",
       "    90% {\n",
       "      border-color: transparent;\n",
       "      border-bottom-color: var(--fill-color);\n",
       "    }\n",
       "  }\n",
       "</style>\n",
       "\n",
       "  <script>\n",
       "    async function quickchart(key) {\n",
       "      const quickchartButtonEl =\n",
       "        document.querySelector('#' + key + ' button');\n",
       "      quickchartButtonEl.disabled = true;  // To prevent multiple clicks.\n",
       "      quickchartButtonEl.classList.add('colab-df-spinner');\n",
       "      try {\n",
       "        const charts = await google.colab.kernel.invokeFunction(\n",
       "            'suggestCharts', [key], {});\n",
       "      } catch (error) {\n",
       "        console.error('Error during call to suggestCharts:', error);\n",
       "      }\n",
       "      quickchartButtonEl.classList.remove('colab-df-spinner');\n",
       "      quickchartButtonEl.classList.add('colab-df-quickchart-complete');\n",
       "    }\n",
       "    (() => {\n",
       "      let quickchartButtonEl =\n",
       "        document.querySelector('#df-caa8dfeb-f0bc-4f90-9c80-5b1fe7371aee button');\n",
       "      quickchartButtonEl.style.display =\n",
       "        google.colab.kernel.accessAllowed ? 'block' : 'none';\n",
       "    })();\n",
       "  </script>\n",
       "</div>\n",
       "\n",
       "    </div>\n",
       "  </div>\n"
      ],
      "text/plain": [
       "                     (0, 0)  (0, 1)  (0, 2)  (0, 3)  (0, 4)  (0, 5)  (0, 6)  \\\n",
       "2014-05-01 00:00:00       0       0       0       0       0       0       0   \n",
       "2014-05-01 00:10:00       0       0       0       0       0       0       0   \n",
       "2014-05-01 00:20:00       0       0       0       0       0       0       0   \n",
       "2014-05-01 00:30:00       0       0       0       0       0       0       0   \n",
       "2014-05-01 00:40:00       0       0       0       0       0       0       0   \n",
       "\n",
       "                     (1, 0)  (1, 1)  (1, 2)  ...  (5, 4)  (5, 5)  (5, 6)  \\\n",
       "2014-05-01 00:00:00       0       0       0  ...       0       1       0   \n",
       "2014-05-01 00:10:00       0       0       0  ...       0       1       0   \n",
       "2014-05-01 00:20:00       0       0       0  ...       0       1       0   \n",
       "2014-05-01 00:30:00       0       0       0  ...       0       1       0   \n",
       "2014-05-01 00:40:00       0       0       0  ...       0       1       0   \n",
       "\n",
       "                     (6, 0)  (6, 1)  (6, 2)  (6, 3)  (6, 4)  (6, 5)  (6, 6)  \n",
       "2014-05-01 00:00:00       0       0       0       1       0       0       0  \n",
       "2014-05-01 00:10:00       0       0       0       1       0       0       0  \n",
       "2014-05-01 00:20:00       0       0       0       1       0       0       0  \n",
       "2014-05-01 00:30:00       0       0       0       1       0       0       0  \n",
       "2014-05-01 00:40:00       0       0       0       1       0       0       0  \n",
       "\n",
       "[5 rows x 49 columns]"
      ]
     },
     "execution_count": 46,
     "metadata": {},
     "output_type": "execute_result"
    }
   ],
   "source": [
    "agg_porto.head()"
   ]
  },
  {
   "cell_type": "code",
   "execution_count": 47,
   "metadata": {
    "executionInfo": {
     "elapsed": 7,
     "status": "ok",
     "timestamp": 1714542976163,
     "user": {
      "displayName": "toran jung shahi",
      "userId": "05569312742364291561"
     },
     "user_tz": -600
    },
    "id": "bforqE_H4cua"
   },
   "outputs": [],
   "source": [
    "#Create file names for aggregated data and grid describing the dataset\n",
    "agg_fname = f'./processed/{n_of_taxis} Users Porto Taxi  {shape[0]} x {shape[1]}.csv'\n",
    "grid_fname = f'./processed/Porto taxi grid {shape[0]} x {shape[1]}.csv'"
   ]
  },
  {
   "cell_type": "code",
   "execution_count": 48,
   "metadata": {
    "executionInfo": {
     "elapsed": 481,
     "status": "ok",
     "timestamp": 1714542976637,
     "user": {
      "displayName": "toran jung shahi",
      "userId": "05569312742364291561"
     },
     "user_tz": -600
    },
    "id": "aw2piFWoZC05"
   },
   "outputs": [],
   "source": [
    "agg_porto.to_csv(agg_fname,index_label = 'datetime')"
   ]
  },
  {
   "cell_type": "code",
   "execution_count": 49,
   "metadata": {
    "executionInfo": {
     "elapsed": 13,
     "status": "ok",
     "timestamp": 1714542976638,
     "user": {
      "displayName": "toran jung shahi",
      "userId": "05569312742364291561"
     },
     "user_tz": -600
    },
    "id": "UNebaltxZGP-"
   },
   "outputs": [],
   "source": [
    "grid.to_csv(grid_fname,index_label = 'index')"
   ]
  },
  {
   "cell_type": "code",
   "execution_count": 50,
   "metadata": {
    "executionInfo": {
     "elapsed": 12,
     "status": "ok",
     "timestamp": 1714542976639,
     "user": {
      "displayName": "toran jung shahi",
      "userId": "05569312742364291561"
     },
     "user_tz": -600
    },
    "id": "SxindybFWCMH"
   },
   "outputs": [],
   "source": [
    "#group by trajectories/taxi for ground truth\n",
    "groupedby_users = ts_data.groupby([ts_data.TAXI_ID])"
   ]
  },
  {
   "cell_type": "code",
   "execution_count": 51,
   "metadata": {
    "executionInfo": {
     "elapsed": 11,
     "status": "ok",
     "timestamp": 1714542976639,
     "user": {
      "displayName": "toran jung shahi",
      "userId": "05569312742364291561"
     },
     "user_tz": -600
    },
    "id": "BuI3tyZTEmpI"
   },
   "outputs": [],
   "source": [
    "#create ground truth dataframe\n",
    "ground_truth =groupedby_users[['TAXI_ID','tower','cell_id']]"
   ]
  },
  {
   "cell_type": "code",
   "execution_count": 52,
   "metadata": {
    "executionInfo": {
     "elapsed": 11,
     "status": "ok",
     "timestamp": 1714542976640,
     "user": {
      "displayName": "toran jung shahi",
      "userId": "05569312742364291561"
     },
     "user_tz": -600
    },
    "id": "Y-RJYZnL5Qy2"
   },
   "outputs": [],
   "source": [
    "#Create ground truth file name describing the dataset\n",
    "gt_fname = f'./processed/{n_of_taxis} Users {shape[0]}x{shape[1]} ground_truth.csv'"
   ]
  },
  {
   "cell_type": "code",
   "execution_count": 53,
   "metadata": {
    "executionInfo": {
     "elapsed": 12980,
     "status": "ok",
     "timestamp": 1714542989610,
     "user": {
      "displayName": "toran jung shahi",
      "userId": "05569312742364291561"
     },
     "user_tz": -600
    },
    "id": "qdT6XHkYKVRp"
   },
   "outputs": [],
   "source": [
    "#write ground truth csv file, appends to the file\n",
    "\n",
    "for user, group in ground_truth:\n",
    "  if os.path.isfile(gt_fname):\n",
    "    group.to_csv(gt_fname,mode = 'a',header = False)\n",
    "  else:\n",
    "    group.to_csv(gt_fname,mode = 'a')"
   ]
  }
 ],
 "metadata": {
  "colab": {
   "authorship_tag": "ABX9TyPNCK+VjaY58FMK2eE75dPx",
   "provenance": []
  },
  "kernelspec": {
   "display_name": "Python 3 (ipykernel)",
   "language": "python",
   "name": "python3"
  },
  "language_info": {
   "codemirror_mode": {
    "name": "ipython",
    "version": 3
   },
   "file_extension": ".py",
   "mimetype": "text/x-python",
   "name": "python",
   "nbconvert_exporter": "python",
   "pygments_lexer": "ipython3",
   "version": "3.10.12"
  }
 },
 "nbformat": 4,
 "nbformat_minor": 4
}
