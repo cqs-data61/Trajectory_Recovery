{
 "cells": [
  {
   "cell_type": "markdown",
   "metadata": {},
   "source": [
    "# Porto Taxi Preprocessing"
   ]
  },
  {
   "cell_type": "markdown",
   "metadata": {
    "id": "6AzopIrsEO3h"
   },
   "source": [
    "Import dependencies required."
   ]
  },
  {
   "cell_type": "code",
   "execution_count": 1,
   "metadata": {
    "executionInfo": {
     "elapsed": 1617,
     "status": "ok",
     "timestamp": 1713447777881,
     "user": {
      "displayName": "toran jung shahi",
      "userId": "05569312742364291561"
     },
     "user_tz": -600
    },
    "id": "hN2yjon6EK_r"
   },
   "outputs": [],
   "source": [
    "import os\n",
    "from pathlib import Path #OS independent path objects\n",
    "import datetime as dt\n",
    "import numpy as np\n",
    "import pandas as pd\n",
    "import matplotlib.pyplot as plt\n",
    "import plotly.express as px\n",
    "from tqdm import tqdm"
   ]
  },
  {
   "cell_type": "markdown",
   "metadata": {
    "id": "toowpoVaEenC"
   },
   "source": [
    "Load data, expects data to be in DATASETS folder of current working directory with /Porto taxi/train.csv/train.csv subfolders."
   ]
  },
  {
   "cell_type": "code",
   "execution_count": 2,
   "metadata": {
    "executionInfo": {
     "elapsed": 6,
     "status": "ok",
     "timestamp": 1713447777881,
     "user": {
      "displayName": "toran jung shahi",
      "userId": "05569312742364291561"
     },
     "user_tz": -600
    },
    "id": "w6BarSzVEcqm"
   },
   "outputs": [],
   "source": [
    "rel_path = Path('DATASETS/Porto taxi/train.csv/train.csv')\n",
    "working_dir = Path('/content/drive/MyDrive/COMP9900')"
   ]
  },
  {
   "cell_type": "code",
   "execution_count": 3,
   "metadata": {
    "colab": {
     "base_uri": "https://localhost:8080/"
    },
    "executionInfo": {
     "elapsed": 25501,
     "status": "ok",
     "timestamp": 1713447803376,
     "user": {
      "displayName": "toran jung shahi",
      "userId": "05569312742364291561"
     },
     "user_tz": -600
    },
    "id": "dJPkw1PpXJ98",
    "outputId": "b23cf491-58cf-40b7-ea9e-ba0bbfea5a44"
   },
   "outputs": [
    {
     "name": "stdout",
     "output_type": "stream",
     "text": [
      "Mounted at /content/drive\n"
     ]
    }
   ],
   "source": [
    "from google.colab import drive\n",
    "drive.mount('/content/drive')"
   ]
  },
  {
   "cell_type": "code",
   "execution_count": 4,
   "metadata": {
    "colab": {
     "base_uri": "https://localhost:8080/"
    },
    "executionInfo": {
     "elapsed": 8,
     "status": "ok",
     "timestamp": 1713447803377,
     "user": {
      "displayName": "toran jung shahi",
      "userId": "05569312742364291561"
     },
     "user_tz": -600
    },
    "id": "u57BeHU1Iox3",
    "outputId": "280e29f6-3443-4662-ff19-10977f3e8781"
   },
   "outputs": [
    {
     "name": "stdout",
     "output_type": "stream",
     "text": [
      "/content/drive/MyDrive/COMP9900\n"
     ]
    }
   ],
   "source": [
    "# cd to working dir applicable only for google colab env\n",
    "%cd '/content/drive/MyDrive/COMP9900'"
   ]
  },
  {
   "cell_type": "code",
   "execution_count": 5,
   "metadata": {
    "executionInfo": {
     "elapsed": 5,
     "status": "ok",
     "timestamp": 1713447803377,
     "user": {
      "displayName": "toran jung shahi",
      "userId": "05569312742364291561"
     },
     "user_tz": -600
    },
    "id": "LBklHAg4Fw16"
   },
   "outputs": [],
   "source": [
    "#create absolute path to dataset\n",
    "abs_path = os.getcwd() / rel_path"
   ]
  },
  {
   "cell_type": "code",
   "execution_count": 6,
   "metadata": {
    "colab": {
     "base_uri": "https://localhost:8080/"
    },
    "executionInfo": {
     "elapsed": 4,
     "status": "ok",
     "timestamp": 1713447803377,
     "user": {
      "displayName": "toran jung shahi",
      "userId": "05569312742364291561"
     },
     "user_tz": -600
    },
    "id": "uEBML8CbHPDM",
    "outputId": "559143ab-d38f-4114-db94-62e158d89260"
   },
   "outputs": [
    {
     "data": {
      "text/plain": [
       "PosixPath('/content/drive/MyDrive/COMP9900/DATASETS/Porto taxi/train.csv/train.csv')"
      ]
     },
     "execution_count": 6,
     "metadata": {},
     "output_type": "execute_result"
    }
   ],
   "source": [
    "#check absolute path to dataset\n",
    "abs_path"
   ]
  },
  {
   "cell_type": "markdown",
   "metadata": {
    "id": "HnRnKgbDyIOy"
   },
   "source": [
    "The Porto Taxi Dataset contains the trajectory records from 444 taxis in the city of Porto,\n",
    "Portugal, over the time-span of a year (from 01/07/2013 to 30/06/2014). There are 1,710,670\n",
    "records in total, where each record contains the trajectory of a particular taxi trip. The tra-\n",
    "jectory is represented as a list of GPS coordinates that are claimed to have been captured at\n",
    "an interval of approximately 15 seconds. The dataset comes from the ECML/PKDD 15: Taxi\n",
    "Trajectory Prediction challenge [8] hosted on Kaggle, which originally ran in 2015. For this project we have only used columns 'TAXI_ID', 'TIMESTAMP', 'MISSING_DATA' and 'POLYLINE'.\n"
   ]
  },
  {
   "cell_type": "code",
   "execution_count": 7,
   "metadata": {
    "colab": {
     "base_uri": "https://localhost:8080/"
    },
    "executionInfo": {
     "elapsed": 40610,
     "status": "ok",
     "timestamp": 1713447843984,
     "user": {
      "displayName": "toran jung shahi",
      "userId": "05569312742364291561"
     },
     "user_tz": -600
    },
    "id": "an1ERz6f3MWV",
    "outputId": "4b329879-6597-4a3d-dd50-3dd4918607bf"
   },
   "outputs": [
    {
     "name": "stderr",
     "output_type": "stream",
     "text": [
      "LOADING DATA: 172it [00:39,  4.37it/s]\n"
     ]
    }
   ],
   "source": [
    "columns_to_load = [4,5,7,8]\n",
    "data = pd.concat([chunk for chunk in tqdm(pd.read_csv(abs_path, usecols = columns_to_load,chunksize=10000), desc='LOADING DATA')])\n",
    "data.columns = ['TAXI_ID','TIMESTAMP','MISSING_DATA','POLYLINE']"
   ]
  },
  {
   "cell_type": "markdown",
   "metadata": {
    "id": "YHOf2Vt0CNGk"
   },
   "source": [
    "Here, we can see that the whole dataset contains about 1.72 million trip records."
   ]
  },
  {
   "cell_type": "code",
   "execution_count": 8,
   "metadata": {
    "executionInfo": {
     "elapsed": 779,
     "status": "ok",
     "timestamp": 1713447844751,
     "user": {
      "displayName": "toran jung shahi",
      "userId": "05569312742364291561"
     },
     "user_tz": -600
    },
    "id": "v1mNoAlzKF_5"
   },
   "outputs": [],
   "source": [
    "data.drop(data[data[\"MISSING_DATA\"]==True].index, axis=0, inplace=True) #Drop rows that has missing data"
   ]
  },
  {
   "cell_type": "code",
   "execution_count": 9,
   "metadata": {
    "executionInfo": {
     "elapsed": 3,
     "status": "ok",
     "timestamp": 1713447844751,
     "user": {
      "displayName": "toran jung shahi",
      "userId": "05569312742364291561"
     },
     "user_tz": -600
    },
    "id": "FlJpfjJ6-GMZ"
   },
   "outputs": [],
   "source": [
    "#Now, lets drop MISSING_DATA column as it is not required.\n",
    "data = data.drop('MISSING_DATA',axis = 1)"
   ]
  },
  {
   "cell_type": "code",
   "execution_count": 10,
   "metadata": {
    "colab": {
     "base_uri": "https://localhost:8080/"
    },
    "executionInfo": {
     "elapsed": 1282,
     "status": "ok",
     "timestamp": 1713447846030,
     "user": {
      "displayName": "toran jung shahi",
      "userId": "05569312742364291561"
     },
     "user_tz": -600
    },
    "id": "lFWp0c3Ryt5o",
    "outputId": "823e07a5-6110-4bc9-86a5-0beaf7d8e845"
   },
   "outputs": [
    {
     "name": "stdout",
     "output_type": "stream",
     "text": [
      "<class 'pandas.core.frame.DataFrame'>\n",
      "Index: 1704685 entries, 0 to 1710669\n",
      "Data columns (total 3 columns):\n",
      " #   Column     Dtype \n",
      "---  ------     ----- \n",
      " 0   TAXI_ID    int64 \n",
      " 1   TIMESTAMP  int64 \n",
      " 2   POLYLINE   object\n",
      "dtypes: int64(2), object(1)\n",
      "memory usage: 52.0+ MB\n"
     ]
    }
   ],
   "source": [
    "#drop trips that has no GPS co-ordinates recorded.\n",
    "data.drop(data[data.POLYLINE == '[]'].index,axis = 0,inplace = True)\n",
    "#Since a taxi cannot be at two locations at same time or do two trips at the same time, lets drop such duplicates.\n",
    "data.drop_duplicates(subset=['TAXI_ID','TIMESTAMP'],inplace = True)\n",
    "data.info()"
   ]
  },
  {
   "cell_type": "code",
   "execution_count": 11,
   "metadata": {
    "colab": {
     "base_uri": "https://localhost:8080/",
     "height": 699
    },
    "executionInfo": {
     "elapsed": 2147,
     "status": "ok",
     "timestamp": 1713447848176,
     "user": {
      "displayName": "toran jung shahi",
      "userId": "05569312742364291561"
     },
     "user_tz": -600
    },
    "id": "9fYE-Ay8okGs",
    "outputId": "5f1d1c0f-a361-4e13-ab3b-9a9b5d41e79d"
   },
   "outputs": [
    {
     "data": {
      "image/png": "[encoded data removed]",
      "text/plain": [
       "<Figure size 1000x700 with 1 Axes>"
      ]
     },
     "metadata": {},
     "output_type": "display_data"
    }
   ],
   "source": [
    "#create new copy of the dataset and find most active month over the year\n",
    "copied_data = data.copy()\n",
    "\n",
    "#tag each trip with respective month of the year\n",
    "copied_data['MONTH'] = copied_data.TIMESTAMP.apply(lambda x: dt.datetime.fromtimestamp(x).month)\n",
    "\n",
    "#Map integer value of the month to name of the months.\n",
    "keys_month = np.arange(1,13)\n",
    "values_month = ['January','February', 'March', 'April', 'May', 'June', 'July', 'August', 'September', 'October', 'November', 'December']\n",
    "month_names = dict(zip(keys_month,values_month))\n",
    "\n",
    "#Plot number of trips taken each month\n",
    "plt.figure(figsize=(10,7))\n",
    "my_colors = 'b'\n",
    "ax = plt.bar(copied_data.MONTH.value_counts().keys()\n",
    "        , copied_data.MONTH.value_counts().values\n",
    "        , color = my_colors)\n",
    "plt.xticks(copied_data.MONTH.value_counts().keys()\n",
    "           , copied_data.MONTH.map(month_names).value_counts().keys()\n",
    "           , rotation = 45\n",
    "           , size = 14)\n",
    "plt.xlabel('Months', size = 14)\n",
    "plt.ylabel('Number of trips', size = 14)\n",
    "plt.show()"
   ]
  },
  {
   "cell_type": "markdown",
   "metadata": {
    "id": "iFIRpGE_rR6A"
   },
   "source": [
    "From above bar plot, we can see that **May** has highest number of trips of more than 160000. Therefore, we will keep the trips that are made during May and will discard rest."
   ]
  },
  {
   "cell_type": "code",
   "execution_count": 12,
   "metadata": {
    "executionInfo": {
     "elapsed": 9,
     "status": "ok",
     "timestamp": 1713447848177,
     "user": {
      "displayName": "toran jung shahi",
      "userId": "05569312742364291561"
     },
     "user_tz": -600
    },
    "id": "-nwdN1_R7ldd"
   },
   "outputs": [],
   "source": [
    "val = dict(copied_data.MONTH.value_counts().items()) #create dictionary from series object\n",
    "month = max(val,key=val.get) #get month that has highest number of trips\n",
    "#Take data for the month that has highest number of trips, May for this dataset\n",
    "months_data = copied_data[copied_data['MONTH']==month]"
   ]
  },
  {
   "cell_type": "code",
   "execution_count": 13,
   "metadata": {
    "colab": {
     "base_uri": "https://localhost:8080/"
    },
    "executionInfo": {
     "elapsed": 8,
     "status": "ok",
     "timestamp": 1713447848177,
     "user": {
      "displayName": "toran jung shahi",
      "userId": "05569312742364291561"
     },
     "user_tz": -600
    },
    "id": "xqIDhVx64daC",
    "outputId": "a44e382b-2e77-423c-c0a6-964061ab4b85"
   },
   "outputs": [
    {
     "name": "stdout",
     "output_type": "stream",
     "text": [
      "<class 'pandas.core.frame.DataFrame'>\n",
      "Index: 161482 entries, 1395045 to 1710652\n",
      "Data columns (total 4 columns):\n",
      " #   Column     Non-Null Count   Dtype \n",
      "---  ------     --------------   ----- \n",
      " 0   TAXI_ID    161482 non-null  int64 \n",
      " 1   TIMESTAMP  161482 non-null  int64 \n",
      " 2   POLYLINE   161482 non-null  object\n",
      " 3   MONTH      161482 non-null  int64 \n",
      "dtypes: int64(3), object(1)\n",
      "memory usage: 6.2+ MB\n"
     ]
    }
   ],
   "source": [
    "months_data.info()"
   ]
  },
  {
   "cell_type": "code",
   "execution_count": 14,
   "metadata": {
    "colab": {
     "base_uri": "https://localhost:8080/"
    },
    "executionInfo": {
     "elapsed": 20,
     "status": "ok",
     "timestamp": 1713447848687,
     "user": {
      "displayName": "toran jung shahi",
      "userId": "05569312742364291561"
     },
     "user_tz": -600
    },
    "id": "_LK1UOY_TtR6",
    "outputId": "4921e368-af68-4a2a-ae32-95f0058150fc"
   },
   "outputs": [
    {
     "name": "stdout",
     "output_type": "stream",
     "text": [
      "Number of trips, Min:  11 , Max:  844 ,Mean:  372.0783410138249 \n",
      "Modes:\n",
      " 0    303\n",
      "1    316\n",
      "2    330\n",
      "3    497\n",
      "4    504\n",
      "5    555\n",
      "Name: counts, dtype: int64\n"
     ]
    }
   ],
   "source": [
    "#Get the trip statistics.\n",
    "freq = (months_data['TAXI_ID']\n",
    "                .value_counts()\n",
    "              .reset_index(name='counts')\n",
    "              .rename({'index': 'TAXI_ID'}, axis=1)\n",
    "              .sort_values('counts', ascending=True))\n",
    "print('Number of trips, Min: ',freq['counts'].min(),', Max: ',freq['counts'].max(),',Mean: ', freq['counts'].mean(),'\\nModes:\\n',freq['counts'].mode())"
   ]
  },
  {
   "cell_type": "code",
   "execution_count": 15,
   "metadata": {
    "colab": {
     "base_uri": "https://localhost:8080/"
    },
    "executionInfo": {
     "elapsed": 6267,
     "status": "ok",
     "timestamp": 1713447854937,
     "user": {
      "displayName": "toran jung shahi",
      "userId": "05569312742364291561"
     },
     "user_tz": -600
    },
    "id": "VudBK75pxYqz",
    "outputId": "f6fd3287-7199-4ee4-b0b4-2bf9c788f4e9"
   },
   "outputs": [
    {
     "name": "stderr",
     "output_type": "stream",
     "text": [
      "<ipython-input-15-217123aa7e61>:4: SettingWithCopyWarning: \n",
      "A value is trying to be set on a copy of a slice from a DataFrame\n",
      "\n",
      "See the caveats in the documentation: https://pandas.pydata.org/pandas-docs/stable/user_guide/indexing.html#returning-a-view-versus-a-copy\n",
      "  months_data.drop(months_data.loc[months_data['TAXI_ID']== taxi].index,inplace = True)\n"
     ]
    },
    {
     "name": "stdout",
     "output_type": "stream",
     "text": [
      "Number of taxis left : 197 \n",
      "\n"
     ]
    }
   ],
   "source": [
    "#drop taxi that has less than mean number of trips. This helps to limit the interpolation for time slots that has missing location records.\n",
    "taxi_id = freq[freq['counts']<=freq['counts'].mean()]['TAXI_ID'] #get TAXI_ID of taxis which do less than mean number of trips.\n",
    "for taxi in taxi_id:\n",
    "  months_data.drop(months_data.loc[months_data['TAXI_ID']== taxi].index,inplace = True)\n",
    "print('Number of taxis left :',months_data.TAXI_ID.unique().size,'\\n')"
   ]
  },
  {
   "cell_type": "code",
   "execution_count": 16,
   "metadata": {
    "colab": {
     "base_uri": "https://localhost:8080/"
    },
    "executionInfo": {
     "elapsed": 13,
     "status": "ok",
     "timestamp": 1713447854937,
     "user": {
      "displayName": "toran jung shahi",
      "userId": "05569312742364291561"
     },
     "user_tz": -600
    },
    "id": "DplSfNJ5BLcz",
    "outputId": "169b01c1-21c1-4753-f0e9-ab2099b6cf14"
   },
   "outputs": [
    {
     "data": {
      "text/plain": [
       "(Timestamp('2014-05-01 00:00:27'), Timestamp('2014-05-31 23:59:50'))"
      ]
     },
     "execution_count": 16,
     "metadata": {},
     "output_type": "execute_result"
    }
   ],
   "source": [
    "#Let's convert Unix timestamp to standard date and time\n",
    "months_data.loc[:,'TIMESTAMP'] = pd.to_datetime(months_data['TIMESTAMP'],unit='s',errors = 'coerce')\n",
    "#check the range of timestamp in the subset of dataset\n",
    "months_data.TIMESTAMP.min(), months_data.TIMESTAMP.max()"
   ]
  },
  {
   "cell_type": "code",
   "execution_count": 17,
   "metadata": {
    "colab": {
     "base_uri": "https://localhost:8080/"
    },
    "executionInfo": {
     "elapsed": 30508,
     "status": "ok",
     "timestamp": 1713447885433,
     "user": {
      "displayName": "toran jung shahi",
      "userId": "05569312742364291561"
     },
     "user_tz": -600
    },
    "id": "z7-q3eUi83eF",
    "outputId": "033a41de-78c7-4a41-9b2a-bdec011ab1d7"
   },
   "outputs": [
    {
     "name": "stderr",
     "output_type": "stream",
     "text": [
      "<ipython-input-17-37c18be3736f>:2: SettingWithCopyWarning: \n",
      "A value is trying to be set on a copy of a slice from a DataFrame.\n",
      "Try using .loc[row_indexer,col_indexer] = value instead\n",
      "\n",
      "See the caveats in the documentation: https://pandas.pydata.org/pandas-docs/stable/user_guide/indexing.html#returning-a-view-versus-a-copy\n",
      "  months_data.loc[:,'PICK_UP_LOCATION'] = months_data.loc[:,'POLYLINE'].apply(lambda x: eval(x.split()[0])[0]) #applies eval() to convert string to int,takes about a min to complete.\n",
      "<ipython-input-17-37c18be3736f>:3: SettingWithCopyWarning: \n",
      "A value is trying to be set on a copy of a slice from a DataFrame.\n",
      "Try using .loc[row_indexer,col_indexer] = value instead\n",
      "\n",
      "See the caveats in the documentation: https://pandas.pydata.org/pandas-docs/stable/user_guide/indexing.html#returning-a-view-versus-a-copy\n",
      "  months_data.loc[:,'PICK_UP_LON'] = months_data.loc[:,'PICK_UP_LOCATION'].apply(lambda x:x[0]) #get longitude of trip start location\n",
      "<ipython-input-17-37c18be3736f>:4: SettingWithCopyWarning: \n",
      "A value is trying to be set on a copy of a slice from a DataFrame.\n",
      "Try using .loc[row_indexer,col_indexer] = value instead\n",
      "\n",
      "See the caveats in the documentation: https://pandas.pydata.org/pandas-docs/stable/user_guide/indexing.html#returning-a-view-versus-a-copy\n",
      "  months_data.loc[:,'PICK_UP_LAT'] = months_data.loc[:,'PICK_UP_LOCATION'].apply(lambda x:x[1]) #get latitude of trip start location\n"
     ]
    }
   ],
   "source": [
    "#lets add start location and end location of each trip on months_data for visualisation on a map\n",
    "months_data.loc[:,'PICK_UP_LOCATION'] = months_data.loc[:,'POLYLINE'].apply(lambda x: eval(x.split()[0])[0]) #applies eval() to convert string to int,takes about a min to complete.\n",
    "months_data.loc[:,'PICK_UP_LON'] = months_data.loc[:,'PICK_UP_LOCATION'].apply(lambda x:x[0]) #get longitude of trip start location\n",
    "months_data.loc[:,'PICK_UP_LAT'] = months_data.loc[:,'PICK_UP_LOCATION'].apply(lambda x:x[1]) #get latitude of trip start location\n"
   ]
  },
  {
   "cell_type": "code",
   "execution_count": 18,
   "metadata": {
    "colab": {
     "base_uri": "https://localhost:8080/",
     "height": 617,
     "output_embedded_package_id": "1-pbLzPnqNPEl5O26EQ_1qdQgiQYjD1sm"
    },
    "executionInfo": {
     "elapsed": 25050,
     "status": "ok",
     "timestamp": 1713447910472,
     "user": {
      "displayName": "toran jung shahi",
      "userId": "05569312742364291561"
     },
     "user_tz": -600
    },
    "id": "8Gum3F-BTyIj",
    "outputId": "cb5ea686-58a0-4009-c483-1ea503a63e95"
   },
   "outputs": [
    {
     "data": {
      "text/plain": [
       "Output hidden; open in https://colab.research.google.com to view."
      ]
     },
     "metadata": {},
     "output_type": "display_data"
    }
   ],
   "source": [
    "#Uses plotly library to visualise distribution of pickup locations of all the trips.\n",
    "def plot_data(taxi_location):\n",
    "  color_scale = [(0, 'orange'), (1,'red')]\n",
    "\n",
    "  fig = px.scatter_mapbox(taxi_location,\n",
    "                          lat=\"PICK_UP_LAT\",\n",
    "                          lon=\"PICK_UP_LON\",\n",
    "                          hover_name=\"TAXI_ID\",\n",
    "                          hover_data=[\"TIMESTAMP\"],\n",
    "                          color_continuous_scale=color_scale,\n",
    "                          zoom=9,\n",
    "                          height=600,\n",
    "                          width=800)\n",
    "\n",
    "  fig.update_layout(mapbox_style=\"open-street-map\")\n",
    "  fig.update_layout(margin={\"r\":0,\"t\":0,\"l\":0,\"b\":0})\n",
    "  fig.show()\n",
    "plot_data(months_data)"
   ]
  },
  {
   "cell_type": "markdown",
   "metadata": {
    "id": "FRFZXFx0IfF5"
   },
   "source": [
    "Above map shows the pick up locations of each trip made during the month of May. Hovering over the locations shows TAXI_ID, latitude & longitude of the pick up location and trip start timestamp."
   ]
  },
  {
   "cell_type": "code",
   "execution_count": 19,
   "metadata": {
    "colab": {
     "base_uri": "https://localhost:8080/"
    },
    "executionInfo": {
     "elapsed": 34,
     "status": "ok",
     "timestamp": 1713447910473,
     "user": {
      "displayName": "toran jung shahi",
      "userId": "05569312742364291561"
     },
     "user_tz": -600
    },
    "id": "yaaWQosuGaDQ",
    "outputId": "2b7de581-dd03-4dee-a731-8ad3dfd3c317"
   },
   "outputs": [
    {
     "name": "stdout",
     "output_type": "stream",
     "text": [
      "<class 'pandas.core.frame.DataFrame'>\n",
      "Index: 100336 entries, 1395076 to 1567657\n",
      "Data columns (total 7 columns):\n",
      " #   Column            Non-Null Count   Dtype         \n",
      "---  ------            --------------   -----         \n",
      " 0   TAXI_ID           100336 non-null  int64         \n",
      " 1   TIMESTAMP         100336 non-null  datetime64[ns]\n",
      " 2   POLYLINE          100336 non-null  object        \n",
      " 3   MONTH             100336 non-null  int64         \n",
      " 4   PICK_UP_LOCATION  100336 non-null  object        \n",
      " 5   PICK_UP_LON       100336 non-null  float64       \n",
      " 6   PICK_UP_LAT       100336 non-null  float64       \n",
      "dtypes: datetime64[ns](1), float64(2), int64(2), object(2)\n",
      "memory usage: 6.1+ MB\n"
     ]
    }
   ],
   "source": [
    "#Lets drop 'PICK_UP_LON', 'PICK_UP_LAT','PICK_UP_LOCATION','MONTH'\n",
    "months_data.drop(labels = ['PICK_UP_LON', 'PICK_UP_LAT','PICK_UP_LOCATION','MONTH'], axis=1)\n",
    "months_data.info()"
   ]
  },
  {
   "cell_type": "code",
   "execution_count": 20,
   "metadata": {
    "colab": {
     "base_uri": "https://localhost:8080/",
     "height": 206
    },
    "executionInfo": {
     "elapsed": 664,
     "status": "ok",
     "timestamp": 1713447911109,
     "user": {
      "displayName": "toran jung shahi",
      "userId": "05569312742364291561"
     },
     "user_tz": -600
    },
    "id": "9ru0THHVk0x4",
    "outputId": "df213a18-e789-4df8-89f6-b725f1c529cb"
   },
   "outputs": [
    {
     "data": {
      "application/vnd.google.colaboratory.intrinsic+json": {
       "type": "dataframe",
       "variable_name": "months_data"
      },
      "text/html": [
       "\n",
       "  <div id=\"df-2cfe823f-cd10-40e1-916d-7985e9dae5be\" class=\"colab-df-container\">\n",
       "    <div>\n",
       "<style scoped>\n",
       "    .dataframe tbody tr th:only-of-type {\n",
       "        vertical-align: middle;\n",
       "    }\n",
       "\n",
       "    .dataframe tbody tr th {\n",
       "        vertical-align: top;\n",
       "    }\n",
       "\n",
       "    .dataframe thead th {\n",
       "        text-align: right;\n",
       "    }\n",
       "</style>\n",
       "<table border=\"1\" class=\"dataframe\">\n",
       "  <thead>\n",
       "    <tr style=\"text-align: right;\">\n",
       "      <th></th>\n",
       "      <th>TAXI_ID</th>\n",
       "      <th>TIMESTAMP</th>\n",
       "      <th>POLYLINE</th>\n",
       "      <th>MONTH</th>\n",
       "      <th>PICK_UP_LOCATION</th>\n",
       "      <th>PICK_UP_LON</th>\n",
       "      <th>PICK_UP_LAT</th>\n",
       "    </tr>\n",
       "  </thead>\n",
       "  <tbody>\n",
       "    <tr>\n",
       "      <th>1395076</th>\n",
       "      <td>20000167</td>\n",
       "      <td>2014-05-01 00:02:44</td>\n",
       "      <td>[-8.610039, 41.155425, -8.609967, 41.15529, -8...</td>\n",
       "      <td>5</td>\n",
       "      <td>[-8.610039, 41.155425]</td>\n",
       "      <td>-8.610039</td>\n",
       "      <td>41.155425</td>\n",
       "    </tr>\n",
       "    <tr>\n",
       "      <th>1395095</th>\n",
       "      <td>20000112</td>\n",
       "      <td>2014-05-01 00:08:42</td>\n",
       "      <td>[-8.612541, 41.146137, -8.612496, 41.146092, -...</td>\n",
       "      <td>5</td>\n",
       "      <td>[-8.612541, 41.146137]</td>\n",
       "      <td>-8.612541</td>\n",
       "      <td>41.146137</td>\n",
       "    </tr>\n",
       "    <tr>\n",
       "      <th>1395105</th>\n",
       "      <td>20000337</td>\n",
       "      <td>2014-05-01 00:10:40</td>\n",
       "      <td>[-8.645049, 41.177061, -8.644824, 41.176872, -...</td>\n",
       "      <td>5</td>\n",
       "      <td>[-8.645049, 41.177061]</td>\n",
       "      <td>-8.645049</td>\n",
       "      <td>41.177061</td>\n",
       "    </tr>\n",
       "    <tr>\n",
       "      <th>1395108</th>\n",
       "      <td>20000351</td>\n",
       "      <td>2014-05-01 00:02:49</td>\n",
       "      <td>[-8.614863, 41.14755, -8.614953, 41.147505, -8...</td>\n",
       "      <td>5</td>\n",
       "      <td>[-8.614863, 41.14755]</td>\n",
       "      <td>-8.614863</td>\n",
       "      <td>41.147550</td>\n",
       "    </tr>\n",
       "    <tr>\n",
       "      <th>1395115</th>\n",
       "      <td>20000540</td>\n",
       "      <td>2014-05-01 00:20:29</td>\n",
       "      <td>[-8.599212, 41.14917, -8.598807, 41.148801, -8...</td>\n",
       "      <td>5</td>\n",
       "      <td>[-8.599212, 41.14917]</td>\n",
       "      <td>-8.599212</td>\n",
       "      <td>41.149170</td>\n",
       "    </tr>\n",
       "  </tbody>\n",
       "</table>\n",
       "</div>\n",
       "    <div class=\"colab-df-buttons\">\n",
       "\n",
       "  <div class=\"colab-df-container\">\n",
       "    <button class=\"colab-df-convert\" onclick=\"convertToInteractive('df-2cfe823f-cd10-40e1-916d-7985e9dae5be')\"\n",
       "            title=\"Convert this dataframe to an interactive table.\"\n",
       "            style=\"display:none;\">\n",
       "\n",
       "  <svg xmlns=\"http://www.w3.org/2000/svg\" height=\"24px\" viewBox=\"0 -960 960 960\">\n",
       "    <path d=\"M120-120v-720h720v720H120Zm60-500h600v-160H180v160Zm220 220h160v-160H400v160Zm0 220h160v-160H400v160ZM180-400h160v-160H180v160Zm440 0h160v-160H620v160ZM180-180h160v-160H180v160Zm440 0h160v-160H620v160Z\"/>\n",
       "  </svg>\n",
       "    </button>\n",
       "\n",
       "  <style>\n",
       "    .colab-df-container {\n",
       "      display:flex;\n",
       "      gap: 12px;\n",
       "    }\n",
       "\n",
       "    .colab-df-convert {\n",
       "      background-color: #E8F0FE;\n",
       "      border: none;\n",
       "      border-radius: 50%;\n",
       "      cursor: pointer;\n",
       "      display: none;\n",
       "      fill: #1967D2;\n",
       "      height: 32px;\n",
       "      padding: 0 0 0 0;\n",
       "      width: 32px;\n",
       "    }\n",
       "\n",
       "    .colab-df-convert:hover {\n",
       "      background-color: #E2EBFA;\n",
       "      box-shadow: 0px 1px 2px rgba(60, 64, 67, 0.3), 0px 1px 3px 1px rgba(60, 64, 67, 0.15);\n",
       "      fill: #174EA6;\n",
       "    }\n",
       "\n",
       "    .colab-df-buttons div {\n",
       "      margin-bottom: 4px;\n",
       "    }\n",
       "\n",
       "    [theme=dark] .colab-df-convert {\n",
       "      background-color: #3B4455;\n",
       "      fill: #D2E3FC;\n",
       "    }\n",
       "\n",
       "    [theme=dark] .colab-df-convert:hover {\n",
       "      background-color: #434B5C;\n",
       "      box-shadow: 0px 1px 3px 1px rgba(0, 0, 0, 0.15);\n",
       "      filter: drop-shadow(0px 1px 2px rgba(0, 0, 0, 0.3));\n",
       "      fill: #FFFFFF;\n",
       "    }\n",
       "  </style>\n",
       "\n",
       "    <script>\n",
       "      const buttonEl =\n",
       "        document.querySelector('#df-2cfe823f-cd10-40e1-916d-7985e9dae5be button.colab-df-convert');\n",
       "      buttonEl.style.display =\n",
       "        google.colab.kernel.accessAllowed ? 'block' : 'none';\n",
       "\n",
       "      async function convertToInteractive(key) {\n",
       "        const element = document.querySelector('#df-2cfe823f-cd10-40e1-916d-7985e9dae5be');\n",
       "        const dataTable =\n",
       "          await google.colab.kernel.invokeFunction('convertToInteractive',\n",
       "                                                    [key], {});\n",
       "        if (!dataTable) return;\n",
       "\n",
       "        const docLinkHtml = 'Like what you see? Visit the ' +\n",
       "          '<a target=\"_blank\" href=https://colab.research.google.com/notebooks/data_table.ipynb>data table notebook</a>'\n",
       "          + ' to learn more about interactive tables.';\n",
       "        element.innerHTML = '';\n",
       "        dataTable['output_type'] = 'display_data';\n",
       "        await google.colab.output.renderOutput(dataTable, element);\n",
       "        const docLink = document.createElement('div');\n",
       "        docLink.innerHTML = docLinkHtml;\n",
       "        element.appendChild(docLink);\n",
       "      }\n",
       "    </script>\n",
       "  </div>\n",
       "\n",
       "\n",
       "<div id=\"df-5dffd869-532c-41f6-a0a3-ac6cad0b4c40\">\n",
       "  <button class=\"colab-df-quickchart\" onclick=\"quickchart('df-5dffd869-532c-41f6-a0a3-ac6cad0b4c40')\"\n",
       "            title=\"Suggest charts\"\n",
       "            style=\"display:none;\">\n",
       "\n",
       "<svg xmlns=\"http://www.w3.org/2000/svg\" height=\"24px\"viewBox=\"0 0 24 24\"\n",
       "     width=\"24px\">\n",
       "    <g>\n",
       "        <path d=\"M19 3H5c-1.1 0-2 .9-2 2v14c0 1.1.9 2 2 2h14c1.1 0 2-.9 2-2V5c0-1.1-.9-2-2-2zM9 17H7v-7h2v7zm4 0h-2V7h2v10zm4 0h-2v-4h2v4z\"/>\n",
       "    </g>\n",
       "</svg>\n",
       "  </button>\n",
       "\n",
       "<style>\n",
       "  .colab-df-quickchart {\n",
       "      --bg-color: #E8F0FE;\n",
       "      --fill-color: #1967D2;\n",
       "      --hover-bg-color: #E2EBFA;\n",
       "      --hover-fill-color: #174EA6;\n",
       "      --disabled-fill-color: #AAA;\n",
       "      --disabled-bg-color: #DDD;\n",
       "  }\n",
       "\n",
       "  [theme=dark] .colab-df-quickchart {\n",
       "      --bg-color: #3B4455;\n",
       "      --fill-color: #D2E3FC;\n",
       "      --hover-bg-color: #434B5C;\n",
       "      --hover-fill-color: #FFFFFF;\n",
       "      --disabled-bg-color: #3B4455;\n",
       "      --disabled-fill-color: #666;\n",
       "  }\n",
       "\n",
       "  .colab-df-quickchart {\n",
       "    background-color: var(--bg-color);\n",
       "    border: none;\n",
       "    border-radius: 50%;\n",
       "    cursor: pointer;\n",
       "    display: none;\n",
       "    fill: var(--fill-color);\n",
       "    height: 32px;\n",
       "    padding: 0;\n",
       "    width: 32px;\n",
       "  }\n",
       "\n",
       "  .colab-df-quickchart:hover {\n",
       "    background-color: var(--hover-bg-color);\n",
       "    box-shadow: 0 1px 2px rgba(60, 64, 67, 0.3), 0 1px 3px 1px rgba(60, 64, 67, 0.15);\n",
       "    fill: var(--button-hover-fill-color);\n",
       "  }\n",
       "\n",
       "  .colab-df-quickchart-complete:disabled,\n",
       "  .colab-df-quickchart-complete:disabled:hover {\n",
       "    background-color: var(--disabled-bg-color);\n",
       "    fill: var(--disabled-fill-color);\n",
       "    box-shadow: none;\n",
       "  }\n",
       "\n",
       "  .colab-df-spinner {\n",
       "    border: 2px solid var(--fill-color);\n",
       "    border-color: transparent;\n",
       "    border-bottom-color: var(--fill-color);\n",
       "    animation:\n",
       "      spin 1s steps(1) infinite;\n",
       "  }\n",
       "\n",
       "  @keyframes spin {\n",
       "    0% {\n",
       "      border-color: transparent;\n",
       "      border-bottom-color: var(--fill-color);\n",
       "      border-left-color: var(--fill-color);\n",
       "    }\n",
       "    20% {\n",
       "      border-color: transparent;\n",
       "      border-left-color: var(--fill-color);\n",
       "      border-top-color: var(--fill-color);\n",
       "    }\n",
       "    30% {\n",
       "      border-color: transparent;\n",
       "      border-left-color: var(--fill-color);\n",
       "      border-top-color: var(--fill-color);\n",
       "      border-right-color: var(--fill-color);\n",
       "    }\n",
       "    40% {\n",
       "      border-color: transparent;\n",
       "      border-right-color: var(--fill-color);\n",
       "      border-top-color: var(--fill-color);\n",
       "    }\n",
       "    60% {\n",
       "      border-color: transparent;\n",
       "      border-right-color: var(--fill-color);\n",
       "    }\n",
       "    80% {\n",
       "      border-color: transparent;\n",
       "      border-right-color: var(--fill-color);\n",
       "      border-bottom-color: var(--fill-color);\n",
       "    }\n",
       "    90% {\n",
       "      border-color: transparent;\n",
       "      border-bottom-color: var(--fill-color);\n",
       "    }\n",
       "  }\n",
       "</style>\n",
       "\n",
       "  <script>\n",
       "    async function quickchart(key) {\n",
       "      const quickchartButtonEl =\n",
       "        document.querySelector('#' + key + ' button');\n",
       "      quickchartButtonEl.disabled = true;  // To prevent multiple clicks.\n",
       "      quickchartButtonEl.classList.add('colab-df-spinner');\n",
       "      try {\n",
       "        const charts = await google.colab.kernel.invokeFunction(\n",
       "            'suggestCharts', [key], {});\n",
       "      } catch (error) {\n",
       "        console.error('Error during call to suggestCharts:', error);\n",
       "      }\n",
       "      quickchartButtonEl.classList.remove('colab-df-spinner');\n",
       "      quickchartButtonEl.classList.add('colab-df-quickchart-complete');\n",
       "    }\n",
       "    (() => {\n",
       "      let quickchartButtonEl =\n",
       "        document.querySelector('#df-5dffd869-532c-41f6-a0a3-ac6cad0b4c40 button');\n",
       "      quickchartButtonEl.style.display =\n",
       "        google.colab.kernel.accessAllowed ? 'block' : 'none';\n",
       "    })();\n",
       "  </script>\n",
       "</div>\n",
       "\n",
       "    </div>\n",
       "  </div>\n"
      ],
      "text/plain": [
       "          TAXI_ID           TIMESTAMP  \\\n",
       "1395076  20000167 2014-05-01 00:02:44   \n",
       "1395095  20000112 2014-05-01 00:08:42   \n",
       "1395105  20000337 2014-05-01 00:10:40   \n",
       "1395108  20000351 2014-05-01 00:02:49   \n",
       "1395115  20000540 2014-05-01 00:20:29   \n",
       "\n",
       "                                                  POLYLINE  MONTH  \\\n",
       "1395076  [-8.610039, 41.155425, -8.609967, 41.15529, -8...      5   \n",
       "1395095  [-8.612541, 41.146137, -8.612496, 41.146092, -...      5   \n",
       "1395105  [-8.645049, 41.177061, -8.644824, 41.176872, -...      5   \n",
       "1395108  [-8.614863, 41.14755, -8.614953, 41.147505, -8...      5   \n",
       "1395115  [-8.599212, 41.14917, -8.598807, 41.148801, -8...      5   \n",
       "\n",
       "               PICK_UP_LOCATION  PICK_UP_LON  PICK_UP_LAT  \n",
       "1395076  [-8.610039, 41.155425]    -8.610039    41.155425  \n",
       "1395095  [-8.612541, 41.146137]    -8.612541    41.146137  \n",
       "1395105  [-8.645049, 41.177061]    -8.645049    41.177061  \n",
       "1395108   [-8.614863, 41.14755]    -8.614863    41.147550  \n",
       "1395115   [-8.599212, 41.14917]    -8.599212    41.149170  "
      ]
     },
     "execution_count": 20,
     "metadata": {},
     "output_type": "execute_result"
    }
   ],
   "source": [
    "#Convert POLYLINE list of lists to list of lat and lon\n",
    "months_data.loc[:,\"POLYLINE\"] = months_data[\"POLYLINE\"].str.replace(\"[\", \"\")\n",
    "months_data.loc[:,\"POLYLINE\"] = months_data[\"POLYLINE\"].str.replace(\"]\", \"\")\n",
    "months_data.loc[:,\"POLYLINE\"] = months_data[\"POLYLINE\"].apply(lambda x: x.split(\",\"))\n",
    "months_data.head()"
   ]
  },
  {
   "cell_type": "code",
   "execution_count": 21,
   "metadata": {
    "colab": {
     "base_uri": "https://localhost:8080/",
     "height": 570
    },
    "executionInfo": {
     "elapsed": 27896,
     "status": "ok",
     "timestamp": 1713447939001,
     "user": {
      "displayName": "toran jung shahi",
      "userId": "05569312742364291561"
     },
     "user_tz": -600
    },
    "id": "79vIcxnpmNK_",
    "outputId": "95a7d23f-bfd8-42d6-ed39-e7084b3da1d2"
   },
   "outputs": [
    {
     "name": "stderr",
     "output_type": "stream",
     "text": [
      "<ipython-input-21-3a4d86bcd497>:3: SettingWithCopyWarning:\n",
      "\n",
      "\n",
      "A value is trying to be set on a copy of a slice from a DataFrame.\n",
      "Try using .loc[row_indexer,col_indexer] = value instead\n",
      "\n",
      "See the caveats in the documentation: https://pandas.pydata.org/pandas-docs/stable/user_guide/indexing.html#returning-a-view-versus-a-copy\n",
      "\n",
      "<ipython-input-21-3a4d86bcd497>:20: SettingWithCopyWarning:\n",
      "\n",
      "\n",
      "A value is trying to be set on a copy of a slice from a DataFrame.\n",
      "Try using .loc[row_indexer,col_indexer] = value instead\n",
      "\n",
      "See the caveats in the documentation: https://pandas.pydata.org/pandas-docs/stable/user_guide/indexing.html#returning-a-view-versus-a-copy\n",
      "\n"
     ]
    },
    {
     "data": {
      "application/vnd.google.colaboratory.intrinsic+json": {
       "type": "dataframe",
       "variable_name": "months_data"
      },
      "text/html": [
       "\n",
       "  <div id=\"df-d395b1d7-9d68-47ef-832f-a05eeed37228\" class=\"colab-df-container\">\n",
       "    <div>\n",
       "<style scoped>\n",
       "    .dataframe tbody tr th:only-of-type {\n",
       "        vertical-align: middle;\n",
       "    }\n",
       "\n",
       "    .dataframe tbody tr th {\n",
       "        vertical-align: top;\n",
       "    }\n",
       "\n",
       "    .dataframe thead th {\n",
       "        text-align: right;\n",
       "    }\n",
       "</style>\n",
       "<table border=\"1\" class=\"dataframe\">\n",
       "  <thead>\n",
       "    <tr style=\"text-align: right;\">\n",
       "      <th></th>\n",
       "      <th>TAXI_ID</th>\n",
       "      <th>TIMESTAMP</th>\n",
       "      <th>POLYLINE</th>\n",
       "      <th>MONTH</th>\n",
       "      <th>PICK_UP_LOCATION</th>\n",
       "      <th>PICK_UP_LON</th>\n",
       "      <th>PICK_UP_LAT</th>\n",
       "      <th>GEOMETRY</th>\n",
       "      <th>GEOLEN</th>\n",
       "    </tr>\n",
       "  </thead>\n",
       "  <tbody>\n",
       "    <tr>\n",
       "      <th>1395076</th>\n",
       "      <td>20000167</td>\n",
       "      <td>2014-05-01 00:02:44</td>\n",
       "      <td>[-8.610039, 41.155425, -8.609967, 41.15529, -8...</td>\n",
       "      <td>5</td>\n",
       "      <td>[-8.610039, 41.155425]</td>\n",
       "      <td>-8.610039</td>\n",
       "      <td>41.155425</td>\n",
       "      <td>[(-8.610039, 41.155425), (-8.609967, 41.15529)...</td>\n",
       "      <td>21</td>\n",
       "    </tr>\n",
       "    <tr>\n",
       "      <th>1395095</th>\n",
       "      <td>20000112</td>\n",
       "      <td>2014-05-01 00:08:42</td>\n",
       "      <td>[-8.612541, 41.146137, -8.612496, 41.146092, -...</td>\n",
       "      <td>5</td>\n",
       "      <td>[-8.612541, 41.146137]</td>\n",
       "      <td>-8.612541</td>\n",
       "      <td>41.146137</td>\n",
       "      <td>[(-8.612541, 41.146137), (-8.612496, 41.146092...</td>\n",
       "      <td>39</td>\n",
       "    </tr>\n",
       "    <tr>\n",
       "      <th>1395105</th>\n",
       "      <td>20000337</td>\n",
       "      <td>2014-05-01 00:10:40</td>\n",
       "      <td>[-8.645049, 41.177061, -8.644824, 41.176872, -...</td>\n",
       "      <td>5</td>\n",
       "      <td>[-8.645049, 41.177061]</td>\n",
       "      <td>-8.645049</td>\n",
       "      <td>41.177061</td>\n",
       "      <td>[(-8.645049, 41.177061), (-8.644824, 41.176872...</td>\n",
       "      <td>49</td>\n",
       "    </tr>\n",
       "    <tr>\n",
       "      <th>1395108</th>\n",
       "      <td>20000351</td>\n",
       "      <td>2014-05-01 00:02:49</td>\n",
       "      <td>[-8.614863, 41.14755, -8.614953, 41.147505, -8...</td>\n",
       "      <td>5</td>\n",
       "      <td>[-8.614863, 41.14755]</td>\n",
       "      <td>-8.614863</td>\n",
       "      <td>41.147550</td>\n",
       "      <td>[(-8.614863, 41.14755), (-8.614953, 41.147505)...</td>\n",
       "      <td>32</td>\n",
       "    </tr>\n",
       "    <tr>\n",
       "      <th>1395115</th>\n",
       "      <td>20000540</td>\n",
       "      <td>2014-05-01 00:20:29</td>\n",
       "      <td>[-8.599212, 41.14917, -8.598807, 41.148801, -8...</td>\n",
       "      <td>5</td>\n",
       "      <td>[-8.599212, 41.14917]</td>\n",
       "      <td>-8.599212</td>\n",
       "      <td>41.149170</td>\n",
       "      <td>[(-8.599212, 41.14917), (-8.598807, 41.148801)...</td>\n",
       "      <td>23</td>\n",
       "    </tr>\n",
       "  </tbody>\n",
       "</table>\n",
       "</div>\n",
       "    <div class=\"colab-df-buttons\">\n",
       "\n",
       "  <div class=\"colab-df-container\">\n",
       "    <button class=\"colab-df-convert\" onclick=\"convertToInteractive('df-d395b1d7-9d68-47ef-832f-a05eeed37228')\"\n",
       "            title=\"Convert this dataframe to an interactive table.\"\n",
       "            style=\"display:none;\">\n",
       "\n",
       "  <svg xmlns=\"http://www.w3.org/2000/svg\" height=\"24px\" viewBox=\"0 -960 960 960\">\n",
       "    <path d=\"M120-120v-720h720v720H120Zm60-500h600v-160H180v160Zm220 220h160v-160H400v160Zm0 220h160v-160H400v160ZM180-400h160v-160H180v160Zm440 0h160v-160H620v160ZM180-180h160v-160H180v160Zm440 0h160v-160H620v160Z\"/>\n",
       "  </svg>\n",
       "    </button>\n",
       "\n",
       "  <style>\n",
       "    .colab-df-container {\n",
       "      display:flex;\n",
       "      gap: 12px;\n",
       "    }\n",
       "\n",
       "    .colab-df-convert {\n",
       "      background-color: #E8F0FE;\n",
       "      border: none;\n",
       "      border-radius: 50%;\n",
       "      cursor: pointer;\n",
       "      display: none;\n",
       "      fill: #1967D2;\n",
       "      height: 32px;\n",
       "      padding: 0 0 0 0;\n",
       "      width: 32px;\n",
       "    }\n",
       "\n",
       "    .colab-df-convert:hover {\n",
       "      background-color: #E2EBFA;\n",
       "      box-shadow: 0px 1px 2px rgba(60, 64, 67, 0.3), 0px 1px 3px 1px rgba(60, 64, 67, 0.15);\n",
       "      fill: #174EA6;\n",
       "    }\n",
       "\n",
       "    .colab-df-buttons div {\n",
       "      margin-bottom: 4px;\n",
       "    }\n",
       "\n",
       "    [theme=dark] .colab-df-convert {\n",
       "      background-color: #3B4455;\n",
       "      fill: #D2E3FC;\n",
       "    }\n",
       "\n",
       "    [theme=dark] .colab-df-convert:hover {\n",
       "      background-color: #434B5C;\n",
       "      box-shadow: 0px 1px 3px 1px rgba(0, 0, 0, 0.15);\n",
       "      filter: drop-shadow(0px 1px 2px rgba(0, 0, 0, 0.3));\n",
       "      fill: #FFFFFF;\n",
       "    }\n",
       "  </style>\n",
       "\n",
       "    <script>\n",
       "      const buttonEl =\n",
       "        document.querySelector('#df-d395b1d7-9d68-47ef-832f-a05eeed37228 button.colab-df-convert');\n",
       "      buttonEl.style.display =\n",
       "        google.colab.kernel.accessAllowed ? 'block' : 'none';\n",
       "\n",
       "      async function convertToInteractive(key) {\n",
       "        const element = document.querySelector('#df-d395b1d7-9d68-47ef-832f-a05eeed37228');\n",
       "        const dataTable =\n",
       "          await google.colab.kernel.invokeFunction('convertToInteractive',\n",
       "                                                    [key], {});\n",
       "        if (!dataTable) return;\n",
       "\n",
       "        const docLinkHtml = 'Like what you see? Visit the ' +\n",
       "          '<a target=\"_blank\" href=https://colab.research.google.com/notebooks/data_table.ipynb>data table notebook</a>'\n",
       "          + ' to learn more about interactive tables.';\n",
       "        element.innerHTML = '';\n",
       "        dataTable['output_type'] = 'display_data';\n",
       "        await google.colab.output.renderOutput(dataTable, element);\n",
       "        const docLink = document.createElement('div');\n",
       "        docLink.innerHTML = docLinkHtml;\n",
       "        element.appendChild(docLink);\n",
       "      }\n",
       "    </script>\n",
       "  </div>\n",
       "\n",
       "\n",
       "<div id=\"df-e00aa989-0c7e-4b41-a86b-fb0dd9095afa\">\n",
       "  <button class=\"colab-df-quickchart\" onclick=\"quickchart('df-e00aa989-0c7e-4b41-a86b-fb0dd9095afa')\"\n",
       "            title=\"Suggest charts\"\n",
       "            style=\"display:none;\">\n",
       "\n",
       "<svg xmlns=\"http://www.w3.org/2000/svg\" height=\"24px\"viewBox=\"0 0 24 24\"\n",
       "     width=\"24px\">\n",
       "    <g>\n",
       "        <path d=\"M19 3H5c-1.1 0-2 .9-2 2v14c0 1.1.9 2 2 2h14c1.1 0 2-.9 2-2V5c0-1.1-.9-2-2-2zM9 17H7v-7h2v7zm4 0h-2V7h2v10zm4 0h-2v-4h2v4z\"/>\n",
       "    </g>\n",
       "</svg>\n",
       "  </button>\n",
       "\n",
       "<style>\n",
       "  .colab-df-quickchart {\n",
       "      --bg-color: #E8F0FE;\n",
       "      --fill-color: #1967D2;\n",
       "      --hover-bg-color: #E2EBFA;\n",
       "      --hover-fill-color: #174EA6;\n",
       "      --disabled-fill-color: #AAA;\n",
       "      --disabled-bg-color: #DDD;\n",
       "  }\n",
       "\n",
       "  [theme=dark] .colab-df-quickchart {\n",
       "      --bg-color: #3B4455;\n",
       "      --fill-color: #D2E3FC;\n",
       "      --hover-bg-color: #434B5C;\n",
       "      --hover-fill-color: #FFFFFF;\n",
       "      --disabled-bg-color: #3B4455;\n",
       "      --disabled-fill-color: #666;\n",
       "  }\n",
       "\n",
       "  .colab-df-quickchart {\n",
       "    background-color: var(--bg-color);\n",
       "    border: none;\n",
       "    border-radius: 50%;\n",
       "    cursor: pointer;\n",
       "    display: none;\n",
       "    fill: var(--fill-color);\n",
       "    height: 32px;\n",
       "    padding: 0;\n",
       "    width: 32px;\n",
       "  }\n",
       "\n",
       "  .colab-df-quickchart:hover {\n",
       "    background-color: var(--hover-bg-color);\n",
       "    box-shadow: 0 1px 2px rgba(60, 64, 67, 0.3), 0 1px 3px 1px rgba(60, 64, 67, 0.15);\n",
       "    fill: var(--button-hover-fill-color);\n",
       "  }\n",
       "\n",
       "  .colab-df-quickchart-complete:disabled,\n",
       "  .colab-df-quickchart-complete:disabled:hover {\n",
       "    background-color: var(--disabled-bg-color);\n",
       "    fill: var(--disabled-fill-color);\n",
       "    box-shadow: none;\n",
       "  }\n",
       "\n",
       "  .colab-df-spinner {\n",
       "    border: 2px solid var(--fill-color);\n",
       "    border-color: transparent;\n",
       "    border-bottom-color: var(--fill-color);\n",
       "    animation:\n",
       "      spin 1s steps(1) infinite;\n",
       "  }\n",
       "\n",
       "  @keyframes spin {\n",
       "    0% {\n",
       "      border-color: transparent;\n",
       "      border-bottom-color: var(--fill-color);\n",
       "      border-left-color: var(--fill-color);\n",
       "    }\n",
       "    20% {\n",
       "      border-color: transparent;\n",
       "      border-left-color: var(--fill-color);\n",
       "      border-top-color: var(--fill-color);\n",
       "    }\n",
       "    30% {\n",
       "      border-color: transparent;\n",
       "      border-left-color: var(--fill-color);\n",
       "      border-top-color: var(--fill-color);\n",
       "      border-right-color: var(--fill-color);\n",
       "    }\n",
       "    40% {\n",
       "      border-color: transparent;\n",
       "      border-right-color: var(--fill-color);\n",
       "      border-top-color: var(--fill-color);\n",
       "    }\n",
       "    60% {\n",
       "      border-color: transparent;\n",
       "      border-right-color: var(--fill-color);\n",
       "    }\n",
       "    80% {\n",
       "      border-color: transparent;\n",
       "      border-right-color: var(--fill-color);\n",
       "      border-bottom-color: var(--fill-color);\n",
       "    }\n",
       "    90% {\n",
       "      border-color: transparent;\n",
       "      border-bottom-color: var(--fill-color);\n",
       "    }\n",
       "  }\n",
       "</style>\n",
       "\n",
       "  <script>\n",
       "    async function quickchart(key) {\n",
       "      const quickchartButtonEl =\n",
       "        document.querySelector('#' + key + ' button');\n",
       "      quickchartButtonEl.disabled = true;  // To prevent multiple clicks.\n",
       "      quickchartButtonEl.classList.add('colab-df-spinner');\n",
       "      try {\n",
       "        const charts = await google.colab.kernel.invokeFunction(\n",
       "            'suggestCharts', [key], {});\n",
       "      } catch (error) {\n",
       "        console.error('Error during call to suggestCharts:', error);\n",
       "      }\n",
       "      quickchartButtonEl.classList.remove('colab-df-spinner');\n",
       "      quickchartButtonEl.classList.add('colab-df-quickchart-complete');\n",
       "    }\n",
       "    (() => {\n",
       "      let quickchartButtonEl =\n",
       "        document.querySelector('#df-e00aa989-0c7e-4b41-a86b-fb0dd9095afa button');\n",
       "      quickchartButtonEl.style.display =\n",
       "        google.colab.kernel.accessAllowed ? 'block' : 'none';\n",
       "    })();\n",
       "  </script>\n",
       "</div>\n",
       "\n",
       "    </div>\n",
       "  </div>\n"
      ],
      "text/plain": [
       "          TAXI_ID           TIMESTAMP  \\\n",
       "1395076  20000167 2014-05-01 00:02:44   \n",
       "1395095  20000112 2014-05-01 00:08:42   \n",
       "1395105  20000337 2014-05-01 00:10:40   \n",
       "1395108  20000351 2014-05-01 00:02:49   \n",
       "1395115  20000540 2014-05-01 00:20:29   \n",
       "\n",
       "                                                  POLYLINE  MONTH  \\\n",
       "1395076  [-8.610039, 41.155425, -8.609967, 41.15529, -8...      5   \n",
       "1395095  [-8.612541, 41.146137, -8.612496, 41.146092, -...      5   \n",
       "1395105  [-8.645049, 41.177061, -8.644824, 41.176872, -...      5   \n",
       "1395108  [-8.614863, 41.14755, -8.614953, 41.147505, -8...      5   \n",
       "1395115  [-8.599212, 41.14917, -8.598807, 41.148801, -8...      5   \n",
       "\n",
       "               PICK_UP_LOCATION  PICK_UP_LON  PICK_UP_LAT  \\\n",
       "1395076  [-8.610039, 41.155425]    -8.610039    41.155425   \n",
       "1395095  [-8.612541, 41.146137]    -8.612541    41.146137   \n",
       "1395105  [-8.645049, 41.177061]    -8.645049    41.177061   \n",
       "1395108   [-8.614863, 41.14755]    -8.614863    41.147550   \n",
       "1395115   [-8.599212, 41.14917]    -8.599212    41.149170   \n",
       "\n",
       "                                                  GEOMETRY  GEOLEN  \n",
       "1395076  [(-8.610039, 41.155425), (-8.609967, 41.15529)...      21  \n",
       "1395095  [(-8.612541, 41.146137), (-8.612496, 41.146092...      39  \n",
       "1395105  [(-8.645049, 41.177061), (-8.644824, 41.176872...      49  \n",
       "1395108  [(-8.614863, 41.14755), (-8.614953, 41.147505)...      32  \n",
       "1395115  [(-8.599212, 41.14917), (-8.598807, 41.148801)...      23  "
      ]
     },
     "execution_count": 21,
     "metadata": {},
     "output_type": "execute_result"
    }
   ],
   "source": [
    "#convert POLYLINE to geometry that contains tuples of lat & lon\n",
    "temp_all = []\n",
    "months_data.loc[:,\"GEOMETRY\"] = \"\"\n",
    "months_data.loc[:,\"GEOMETRY\"] = months_data.loc[:,\"GEOMETRY\"].astype(\"object\")\n",
    "for index, row in months_data.iterrows():\n",
    "    temp = []\n",
    "    i = 1\n",
    "    temp_coords = row[\"POLYLINE\"]\n",
    "    for coord in temp_coords:\n",
    "        if i % 2 == 0:\n",
    "            b = float(coord)\n",
    "            temp.append((a, b))\n",
    "        else:\n",
    "            a = float(coord)\n",
    "        i += 1\n",
    "\n",
    "    temp_all.append(temp)\n",
    "    months_data.at[index, 'GEOMETRY'] = temp\n",
    "\n",
    "months_data.loc[:,'GEOLEN'] = months_data.loc[:,'GEOMETRY'].apply(lambda x : len(x))\n",
    "months_data.head()"
   ]
  },
  {
   "cell_type": "code",
   "execution_count": 22,
   "metadata": {
    "colab": {
     "base_uri": "https://localhost:8080/"
    },
    "executionInfo": {
     "elapsed": 18,
     "status": "ok",
     "timestamp": 1713447939001,
     "user": {
      "displayName": "toran jung shahi",
      "userId": "05569312742364291561"
     },
     "user_tz": -600
    },
    "id": "j_XRlT8xjlEp",
    "outputId": "80af8e28-cbde-405e-b6f0-40914846396c"
   },
   "outputs": [
    {
     "data": {
      "text/plain": [
       "(Timestamp('2014-05-01 00:00:00'), Timestamp('2014-05-31 23:59:00'))"
      ]
     },
     "execution_count": 22,
     "metadata": {},
     "output_type": "execute_result"
    }
   ],
   "source": [
    "#Create timestamps of 10 min time steps\n",
    "start,end = months_data.TIMESTAMP.min(), months_data.TIMESTAMP.max()\n",
    "start,end = start.replace(second = 0,minute = 0,hour =0),end.replace(second = 0) #round seconds to zero\n",
    "start,end"
   ]
  },
  {
   "cell_type": "code",
   "execution_count": 23,
   "metadata": {
    "colab": {
     "base_uri": "https://localhost:8080/"
    },
    "executionInfo": {
     "elapsed": 17,
     "status": "ok",
     "timestamp": 1713447939002,
     "user": {
      "displayName": "toran jung shahi",
      "userId": "05569312742364291561"
     },
     "user_tz": -600
    },
    "id": "PfDV8DZLjouZ",
    "outputId": "bc6f04bd-1234-484a-b120-2bb06c0e47ed"
   },
   "outputs": [
    {
     "data": {
      "text/plain": [
       "DatetimeIndex(['2014-05-01 00:00:00', '2014-05-01 00:10:00',\n",
       "               '2014-05-01 00:20:00', '2014-05-01 00:30:00',\n",
       "               '2014-05-01 00:40:00', '2014-05-01 00:50:00',\n",
       "               '2014-05-01 01:00:00', '2014-05-01 01:10:00',\n",
       "               '2014-05-01 01:20:00', '2014-05-01 01:30:00',\n",
       "               ...\n",
       "               '2014-05-30 22:30:00', '2014-05-30 22:40:00',\n",
       "               '2014-05-30 22:50:00', '2014-05-30 23:00:00',\n",
       "               '2014-05-30 23:10:00', '2014-05-30 23:20:00',\n",
       "               '2014-05-30 23:30:00', '2014-05-30 23:40:00',\n",
       "               '2014-05-30 23:50:00', '2014-05-31 00:00:00'],\n",
       "              dtype='datetime64[ns]', length=4321, freq='10T')"
      ]
     },
     "execution_count": 23,
     "metadata": {},
     "output_type": "execute_result"
    }
   ],
   "source": [
    "time_step = pd.date_range(start,end,freq ='10min',normalize =True)\n",
    "time_step"
   ]
  },
  {
   "cell_type": "code",
   "execution_count": 24,
   "metadata": {
    "colab": {
     "base_uri": "https://localhost:8080/",
     "height": 605
    },
    "executionInfo": {
     "elapsed": 77339,
     "status": "ok",
     "timestamp": 1713448016325,
     "user": {
      "displayName": "toran jung shahi",
      "userId": "05569312742364291561"
     },
     "user_tz": -600
    },
    "id": "EaLXFi19iX1L",
    "outputId": "df26f6e9-9d3c-44bb-b7ac-0552dafbde4c"
   },
   "outputs": [
    {
     "name": "stderr",
     "output_type": "stream",
     "text": [
      "<ipython-input-24-babe6b66b568>:5: SettingWithCopyWarning:\n",
      "\n",
      "\n",
      "A value is trying to be set on a copy of a slice from a DataFrame.\n",
      "Try using .loc[row_indexer,col_indexer] = value instead\n",
      "\n",
      "See the caveats in the documentation: https://pandas.pydata.org/pandas-docs/stable/user_guide/indexing.html#returning-a-view-versus-a-copy\n",
      "\n"
     ]
    },
    {
     "data": {
      "application/vnd.google.colaboratory.intrinsic+json": {
       "type": "dataframe",
       "variable_name": "months_data"
      },
      "text/html": [
       "\n",
       "  <div id=\"df-088a38f5-4a8f-46bf-931c-cc2d449b54a2\" class=\"colab-df-container\">\n",
       "    <div>\n",
       "<style scoped>\n",
       "    .dataframe tbody tr th:only-of-type {\n",
       "        vertical-align: middle;\n",
       "    }\n",
       "\n",
       "    .dataframe tbody tr th {\n",
       "        vertical-align: top;\n",
       "    }\n",
       "\n",
       "    .dataframe thead th {\n",
       "        text-align: right;\n",
       "    }\n",
       "</style>\n",
       "<table border=\"1\" class=\"dataframe\">\n",
       "  <thead>\n",
       "    <tr style=\"text-align: right;\">\n",
       "      <th></th>\n",
       "      <th>TAXI_ID</th>\n",
       "      <th>TIMESTAMP</th>\n",
       "      <th>POLYLINE</th>\n",
       "      <th>MONTH</th>\n",
       "      <th>PICK_UP_LOCATION</th>\n",
       "      <th>PICK_UP_LON</th>\n",
       "      <th>PICK_UP_LAT</th>\n",
       "      <th>GEOMETRY</th>\n",
       "      <th>GEOLEN</th>\n",
       "      <th>new_timestamp</th>\n",
       "    </tr>\n",
       "  </thead>\n",
       "  <tbody>\n",
       "    <tr>\n",
       "      <th>1395076</th>\n",
       "      <td>20000167</td>\n",
       "      <td>2014-05-01 00:02:44</td>\n",
       "      <td>[-8.610039, 41.155425, -8.609967, 41.15529, -8...</td>\n",
       "      <td>5</td>\n",
       "      <td>[-8.610039, 41.155425]</td>\n",
       "      <td>-8.610039</td>\n",
       "      <td>41.155425</td>\n",
       "      <td>[(-8.610039, 41.155425), (-8.609967, 41.15529)...</td>\n",
       "      <td>21</td>\n",
       "      <td>[2014-05-01 00:02:44, 2014-05-01 00:02:59, 201...</td>\n",
       "    </tr>\n",
       "    <tr>\n",
       "      <th>1395095</th>\n",
       "      <td>20000112</td>\n",
       "      <td>2014-05-01 00:08:42</td>\n",
       "      <td>[-8.612541, 41.146137, -8.612496, 41.146092, -...</td>\n",
       "      <td>5</td>\n",
       "      <td>[-8.612541, 41.146137]</td>\n",
       "      <td>-8.612541</td>\n",
       "      <td>41.146137</td>\n",
       "      <td>[(-8.612541, 41.146137), (-8.612496, 41.146092...</td>\n",
       "      <td>39</td>\n",
       "      <td>[2014-05-01 00:08:42, 2014-05-01 00:08:57, 201...</td>\n",
       "    </tr>\n",
       "    <tr>\n",
       "      <th>1395105</th>\n",
       "      <td>20000337</td>\n",
       "      <td>2014-05-01 00:10:40</td>\n",
       "      <td>[-8.645049, 41.177061, -8.644824, 41.176872, -...</td>\n",
       "      <td>5</td>\n",
       "      <td>[-8.645049, 41.177061]</td>\n",
       "      <td>-8.645049</td>\n",
       "      <td>41.177061</td>\n",
       "      <td>[(-8.645049, 41.177061), (-8.644824, 41.176872...</td>\n",
       "      <td>49</td>\n",
       "      <td>[2014-05-01 00:10:40, 2014-05-01 00:10:55, 201...</td>\n",
       "    </tr>\n",
       "    <tr>\n",
       "      <th>1395108</th>\n",
       "      <td>20000351</td>\n",
       "      <td>2014-05-01 00:02:49</td>\n",
       "      <td>[-8.614863, 41.14755, -8.614953, 41.147505, -8...</td>\n",
       "      <td>5</td>\n",
       "      <td>[-8.614863, 41.14755]</td>\n",
       "      <td>-8.614863</td>\n",
       "      <td>41.147550</td>\n",
       "      <td>[(-8.614863, 41.14755), (-8.614953, 41.147505)...</td>\n",
       "      <td>32</td>\n",
       "      <td>[2014-05-01 00:02:49, 2014-05-01 00:03:04, 201...</td>\n",
       "    </tr>\n",
       "    <tr>\n",
       "      <th>1395115</th>\n",
       "      <td>20000540</td>\n",
       "      <td>2014-05-01 00:20:29</td>\n",
       "      <td>[-8.599212, 41.14917, -8.598807, 41.148801, -8...</td>\n",
       "      <td>5</td>\n",
       "      <td>[-8.599212, 41.14917]</td>\n",
       "      <td>-8.599212</td>\n",
       "      <td>41.149170</td>\n",
       "      <td>[(-8.599212, 41.14917), (-8.598807, 41.148801)...</td>\n",
       "      <td>23</td>\n",
       "      <td>[2014-05-01 00:20:29, 2014-05-01 00:20:44, 201...</td>\n",
       "    </tr>\n",
       "  </tbody>\n",
       "</table>\n",
       "</div>\n",
       "    <div class=\"colab-df-buttons\">\n",
       "\n",
       "  <div class=\"colab-df-container\">\n",
       "    <button class=\"colab-df-convert\" onclick=\"convertToInteractive('df-088a38f5-4a8f-46bf-931c-cc2d449b54a2')\"\n",
       "            title=\"Convert this dataframe to an interactive table.\"\n",
       "            style=\"display:none;\">\n",
       "\n",
       "  <svg xmlns=\"http://www.w3.org/2000/svg\" height=\"24px\" viewBox=\"0 -960 960 960\">\n",
       "    <path d=\"M120-120v-720h720v720H120Zm60-500h600v-160H180v160Zm220 220h160v-160H400v160Zm0 220h160v-160H400v160ZM180-400h160v-160H180v160Zm440 0h160v-160H620v160ZM180-180h160v-160H180v160Zm440 0h160v-160H620v160Z\"/>\n",
       "  </svg>\n",
       "    </button>\n",
       "\n",
       "  <style>\n",
       "    .colab-df-container {\n",
       "      display:flex;\n",
       "      gap: 12px;\n",
       "    }\n",
       "\n",
       "    .colab-df-convert {\n",
       "      background-color: #E8F0FE;\n",
       "      border: none;\n",
       "      border-radius: 50%;\n",
       "      cursor: pointer;\n",
       "      display: none;\n",
       "      fill: #1967D2;\n",
       "      height: 32px;\n",
       "      padding: 0 0 0 0;\n",
       "      width: 32px;\n",
       "    }\n",
       "\n",
       "    .colab-df-convert:hover {\n",
       "      background-color: #E2EBFA;\n",
       "      box-shadow: 0px 1px 2px rgba(60, 64, 67, 0.3), 0px 1px 3px 1px rgba(60, 64, 67, 0.15);\n",
       "      fill: #174EA6;\n",
       "    }\n",
       "\n",
       "    .colab-df-buttons div {\n",
       "      margin-bottom: 4px;\n",
       "    }\n",
       "\n",
       "    [theme=dark] .colab-df-convert {\n",
       "      background-color: #3B4455;\n",
       "      fill: #D2E3FC;\n",
       "    }\n",
       "\n",
       "    [theme=dark] .colab-df-convert:hover {\n",
       "      background-color: #434B5C;\n",
       "      box-shadow: 0px 1px 3px 1px rgba(0, 0, 0, 0.15);\n",
       "      filter: drop-shadow(0px 1px 2px rgba(0, 0, 0, 0.3));\n",
       "      fill: #FFFFFF;\n",
       "    }\n",
       "  </style>\n",
       "\n",
       "    <script>\n",
       "      const buttonEl =\n",
       "        document.querySelector('#df-088a38f5-4a8f-46bf-931c-cc2d449b54a2 button.colab-df-convert');\n",
       "      buttonEl.style.display =\n",
       "        google.colab.kernel.accessAllowed ? 'block' : 'none';\n",
       "\n",
       "      async function convertToInteractive(key) {\n",
       "        const element = document.querySelector('#df-088a38f5-4a8f-46bf-931c-cc2d449b54a2');\n",
       "        const dataTable =\n",
       "          await google.colab.kernel.invokeFunction('convertToInteractive',\n",
       "                                                    [key], {});\n",
       "        if (!dataTable) return;\n",
       "\n",
       "        const docLinkHtml = 'Like what you see? Visit the ' +\n",
       "          '<a target=\"_blank\" href=https://colab.research.google.com/notebooks/data_table.ipynb>data table notebook</a>'\n",
       "          + ' to learn more about interactive tables.';\n",
       "        element.innerHTML = '';\n",
       "        dataTable['output_type'] = 'display_data';\n",
       "        await google.colab.output.renderOutput(dataTable, element);\n",
       "        const docLink = document.createElement('div');\n",
       "        docLink.innerHTML = docLinkHtml;\n",
       "        element.appendChild(docLink);\n",
       "      }\n",
       "    </script>\n",
       "  </div>\n",
       "\n",
       "\n",
       "<div id=\"df-f7f88fa6-9c1b-40da-ba52-5c3bf0d3ba5a\">\n",
       "  <button class=\"colab-df-quickchart\" onclick=\"quickchart('df-f7f88fa6-9c1b-40da-ba52-5c3bf0d3ba5a')\"\n",
       "            title=\"Suggest charts\"\n",
       "            style=\"display:none;\">\n",
       "\n",
       "<svg xmlns=\"http://www.w3.org/2000/svg\" height=\"24px\"viewBox=\"0 0 24 24\"\n",
       "     width=\"24px\">\n",
       "    <g>\n",
       "        <path d=\"M19 3H5c-1.1 0-2 .9-2 2v14c0 1.1.9 2 2 2h14c1.1 0 2-.9 2-2V5c0-1.1-.9-2-2-2zM9 17H7v-7h2v7zm4 0h-2V7h2v10zm4 0h-2v-4h2v4z\"/>\n",
       "    </g>\n",
       "</svg>\n",
       "  </button>\n",
       "\n",
       "<style>\n",
       "  .colab-df-quickchart {\n",
       "      --bg-color: #E8F0FE;\n",
       "      --fill-color: #1967D2;\n",
       "      --hover-bg-color: #E2EBFA;\n",
       "      --hover-fill-color: #174EA6;\n",
       "      --disabled-fill-color: #AAA;\n",
       "      --disabled-bg-color: #DDD;\n",
       "  }\n",
       "\n",
       "  [theme=dark] .colab-df-quickchart {\n",
       "      --bg-color: #3B4455;\n",
       "      --fill-color: #D2E3FC;\n",
       "      --hover-bg-color: #434B5C;\n",
       "      --hover-fill-color: #FFFFFF;\n",
       "      --disabled-bg-color: #3B4455;\n",
       "      --disabled-fill-color: #666;\n",
       "  }\n",
       "\n",
       "  .colab-df-quickchart {\n",
       "    background-color: var(--bg-color);\n",
       "    border: none;\n",
       "    border-radius: 50%;\n",
       "    cursor: pointer;\n",
       "    display: none;\n",
       "    fill: var(--fill-color);\n",
       "    height: 32px;\n",
       "    padding: 0;\n",
       "    width: 32px;\n",
       "  }\n",
       "\n",
       "  .colab-df-quickchart:hover {\n",
       "    background-color: var(--hover-bg-color);\n",
       "    box-shadow: 0 1px 2px rgba(60, 64, 67, 0.3), 0 1px 3px 1px rgba(60, 64, 67, 0.15);\n",
       "    fill: var(--button-hover-fill-color);\n",
       "  }\n",
       "\n",
       "  .colab-df-quickchart-complete:disabled,\n",
       "  .colab-df-quickchart-complete:disabled:hover {\n",
       "    background-color: var(--disabled-bg-color);\n",
       "    fill: var(--disabled-fill-color);\n",
       "    box-shadow: none;\n",
       "  }\n",
       "\n",
       "  .colab-df-spinner {\n",
       "    border: 2px solid var(--fill-color);\n",
       "    border-color: transparent;\n",
       "    border-bottom-color: var(--fill-color);\n",
       "    animation:\n",
       "      spin 1s steps(1) infinite;\n",
       "  }\n",
       "\n",
       "  @keyframes spin {\n",
       "    0% {\n",
       "      border-color: transparent;\n",
       "      border-bottom-color: var(--fill-color);\n",
       "      border-left-color: var(--fill-color);\n",
       "    }\n",
       "    20% {\n",
       "      border-color: transparent;\n",
       "      border-left-color: var(--fill-color);\n",
       "      border-top-color: var(--fill-color);\n",
       "    }\n",
       "    30% {\n",
       "      border-color: transparent;\n",
       "      border-left-color: var(--fill-color);\n",
       "      border-top-color: var(--fill-color);\n",
       "      border-right-color: var(--fill-color);\n",
       "    }\n",
       "    40% {\n",
       "      border-color: transparent;\n",
       "      border-right-color: var(--fill-color);\n",
       "      border-top-color: var(--fill-color);\n",
       "    }\n",
       "    60% {\n",
       "      border-color: transparent;\n",
       "      border-right-color: var(--fill-color);\n",
       "    }\n",
       "    80% {\n",
       "      border-color: transparent;\n",
       "      border-right-color: var(--fill-color);\n",
       "      border-bottom-color: var(--fill-color);\n",
       "    }\n",
       "    90% {\n",
       "      border-color: transparent;\n",
       "      border-bottom-color: var(--fill-color);\n",
       "    }\n",
       "  }\n",
       "</style>\n",
       "\n",
       "  <script>\n",
       "    async function quickchart(key) {\n",
       "      const quickchartButtonEl =\n",
       "        document.querySelector('#' + key + ' button');\n",
       "      quickchartButtonEl.disabled = true;  // To prevent multiple clicks.\n",
       "      quickchartButtonEl.classList.add('colab-df-spinner');\n",
       "      try {\n",
       "        const charts = await google.colab.kernel.invokeFunction(\n",
       "            'suggestCharts', [key], {});\n",
       "      } catch (error) {\n",
       "        console.error('Error during call to suggestCharts:', error);\n",
       "      }\n",
       "      quickchartButtonEl.classList.remove('colab-df-spinner');\n",
       "      quickchartButtonEl.classList.add('colab-df-quickchart-complete');\n",
       "    }\n",
       "    (() => {\n",
       "      let quickchartButtonEl =\n",
       "        document.querySelector('#df-f7f88fa6-9c1b-40da-ba52-5c3bf0d3ba5a button');\n",
       "      quickchartButtonEl.style.display =\n",
       "        google.colab.kernel.accessAllowed ? 'block' : 'none';\n",
       "    })();\n",
       "  </script>\n",
       "</div>\n",
       "\n",
       "    </div>\n",
       "  </div>\n"
      ],
      "text/plain": [
       "          TAXI_ID           TIMESTAMP  \\\n",
       "1395076  20000167 2014-05-01 00:02:44   \n",
       "1395095  20000112 2014-05-01 00:08:42   \n",
       "1395105  20000337 2014-05-01 00:10:40   \n",
       "1395108  20000351 2014-05-01 00:02:49   \n",
       "1395115  20000540 2014-05-01 00:20:29   \n",
       "\n",
       "                                                  POLYLINE  MONTH  \\\n",
       "1395076  [-8.610039, 41.155425, -8.609967, 41.15529, -8...      5   \n",
       "1395095  [-8.612541, 41.146137, -8.612496, 41.146092, -...      5   \n",
       "1395105  [-8.645049, 41.177061, -8.644824, 41.176872, -...      5   \n",
       "1395108  [-8.614863, 41.14755, -8.614953, 41.147505, -8...      5   \n",
       "1395115  [-8.599212, 41.14917, -8.598807, 41.148801, -8...      5   \n",
       "\n",
       "               PICK_UP_LOCATION  PICK_UP_LON  PICK_UP_LAT  \\\n",
       "1395076  [-8.610039, 41.155425]    -8.610039    41.155425   \n",
       "1395095  [-8.612541, 41.146137]    -8.612541    41.146137   \n",
       "1395105  [-8.645049, 41.177061]    -8.645049    41.177061   \n",
       "1395108   [-8.614863, 41.14755]    -8.614863    41.147550   \n",
       "1395115   [-8.599212, 41.14917]    -8.599212    41.149170   \n",
       "\n",
       "                                                  GEOMETRY  GEOLEN  \\\n",
       "1395076  [(-8.610039, 41.155425), (-8.609967, 41.15529)...      21   \n",
       "1395095  [(-8.612541, 41.146137), (-8.612496, 41.146092...      39   \n",
       "1395105  [(-8.645049, 41.177061), (-8.644824, 41.176872...      49   \n",
       "1395108  [(-8.614863, 41.14755), (-8.614953, 41.147505)...      32   \n",
       "1395115  [(-8.599212, 41.14917), (-8.598807, 41.148801)...      23   \n",
       "\n",
       "                                             new_timestamp  \n",
       "1395076  [2014-05-01 00:02:44, 2014-05-01 00:02:59, 201...  \n",
       "1395095  [2014-05-01 00:08:42, 2014-05-01 00:08:57, 201...  \n",
       "1395105  [2014-05-01 00:10:40, 2014-05-01 00:10:55, 201...  \n",
       "1395108  [2014-05-01 00:02:49, 2014-05-01 00:03:04, 201...  \n",
       "1395115  [2014-05-01 00:20:29, 2014-05-01 00:20:44, 201...  "
      ]
     },
     "execution_count": 24,
     "metadata": {},
     "output_type": "execute_result"
    }
   ],
   "source": [
    "#create datetime object of 15 seconds\n",
    "interval = dt.timedelta(seconds = 15)\n",
    "\n",
    "#create list of timestamp that adds 15 seconds to each trip's start timestamp\n",
    "months_data.loc[:,\"new_timestamp\"] = \"\"\n",
    "months_data.loc[:,\"new_timestamp\"] = months_data.loc[:,\"new_timestamp\"].astype(\"object\")\n",
    "for index, row in months_data.iterrows():\n",
    "    mul_seq = [y for y in range(row['GEOLEN'])]\n",
    "    t_seq = [interval * y for y in mul_seq]\n",
    "    new_timestamp = [row['TIMESTAMP'] + time for time in t_seq]\n",
    "    months_data.at[index,'new_timestamp'] = new_timestamp\n",
    "months_data.head()"
   ]
  },
  {
   "cell_type": "code",
   "execution_count": 25,
   "metadata": {
    "executionInfo": {
     "elapsed": 14376,
     "status": "ok",
     "timestamp": 1713448030697,
     "user": {
      "displayName": "toran jung shahi",
      "userId": "05569312742364291561"
     },
     "user_tz": -600
    },
    "id": "WWrvJWjK5ahR"
   },
   "outputs": [],
   "source": [
    "#Explode 'GEOMETRY' column to series of 15 seconds interval locations for sampling\n",
    "df_exploded = months_data.explode(['GEOMETRY','new_timestamp']).reset_index(drop = True)"
   ]
  },
  {
   "cell_type": "code",
   "execution_count": 26,
   "metadata": {
    "executionInfo": {
     "elapsed": 4,
     "status": "ok",
     "timestamp": 1713448030697,
     "user": {
      "displayName": "toran jung shahi",
      "userId": "05569312742364291561"
     },
     "user_tz": -600
    },
    "id": "0BJG_dpwN6C8"
   },
   "outputs": [],
   "source": [
    "#drop old 'TIMESTAMP' column\n",
    "df_exploded.drop('TIMESTAMP',axis = 1,inplace = True)"
   ]
  },
  {
   "cell_type": "code",
   "execution_count": 27,
   "metadata": {
    "executionInfo": {
     "elapsed": 4,
     "status": "ok",
     "timestamp": 1713448030698,
     "user": {
      "displayName": "toran jung shahi",
      "userId": "05569312742364291561"
     },
     "user_tz": -600
    },
    "id": "Sf5CoaLj936T"
   },
   "outputs": [],
   "source": [
    "#Convert trajectories to cartesian, taken from https://github.com/erik-buchholz/RAoPT\n",
    "def convert_coord(latitudes: np.ndarray, longitudes: np.ndarray) -> (np.ndarray, np.ndarray):\n",
    "    R_e = 6317  #Average radius of earth in KM\n",
    "    alpha = np.radians(latitudes)\n",
    "    beta = np.radians(longitudes)\n",
    "    x = R_e * np.cos(alpha) * np.cos(beta)\n",
    "    y = R_e * np.cos(alpha) * np.sin(beta)\n",
    "    return x, y\n"
   ]
  },
  {
   "cell_type": "code",
   "execution_count": 28,
   "metadata": {
    "colab": {
     "base_uri": "https://localhost:8080/"
    },
    "executionInfo": {
     "elapsed": 19395,
     "status": "ok",
     "timestamp": 1713448050089,
     "user": {
      "displayName": "toran jung shahi",
      "userId": "05569312742364291561"
     },
     "user_tz": -600
    },
    "id": "5zJe7KgbjfE8",
    "outputId": "51def77f-0025-4440-92b0-24247ec4ef2b"
   },
   "outputs": [
    {
     "data": {
      "text/plain": [
       "197"
      ]
     },
     "execution_count": 28,
     "metadata": {},
     "output_type": "execute_result"
    }
   ],
   "source": [
    "#Create list of user trajectories. Each trajectory is a dataframe\n",
    "users = []\n",
    "for taxi in df_exploded.TAXI_ID.unique():\n",
    "  user = df_exploded.loc[df_exploded.TAXI_ID == taxi].copy()\n",
    "  user.sort_values(by = 'new_timestamp')\n",
    "  user.reset_index(drop = True, inplace = True)\n",
    "  user.loc[:,'lon'], user.loc[:,'lat'] = zip(*user['GEOMETRY'])\n",
    "  # Unwrap the angles\n",
    "  user.loc[:,'lon'] = np.rad2deg(np.unwrap(np.deg2rad(user.loc[:,'lon'])))\n",
    "  user.loc[:,'lat'] = np.rad2deg(np.unwrap(np.deg2rad(user.loc[:,'lat'])))\n",
    "  #Sample dataframe\n",
    "  conversion = {'lon':'first','lat':'first'}\n",
    "  user_sampled = user.resample('5T',on = 'new_timestamp').agg(conversion)\n",
    "\n",
    "  #Check if all timesteps are contained in each user, if not add and fill values with nan\n",
    "  user_sampled = user_sampled.reindex(time_step,fill_value = np.nan)\n",
    "\n",
    "  #nearest interpolation\n",
    "  user_sampled.loc[:,'lon'] = user_sampled.loc[:,'lon'].interpolate(method='nearest')\n",
    "  user_sampled.loc[:,'lat'] = user_sampled.loc[:,'lat'].interpolate(method='nearest')\n",
    "\n",
    "  #forward and backward fill if no nearest values available in original data frame\n",
    "  user_sampled.loc[:,'lon'] = user_sampled.loc[:,'lon'].ffill().bfill()\n",
    "  user_sampled.loc[:,'lat'] = user_sampled.loc[:,'lat'].ffill().bfill()\n",
    "  #convert to cartesian\n",
    "  user_sampled.loc[:,'X'],user_sampled.loc[:,'Y'] = convert_coord(user_sampled['lat'].to_numpy(), user_sampled['lon'].to_numpy())\n",
    "  user_sampled.loc[:,'TAXI_ID'] = taxi\n",
    "  users.append(user_sampled)\n"
   ]
  },
  {
   "cell_type": "code",
   "execution_count": 29,
   "metadata": {
    "colab": {
     "base_uri": "https://localhost:8080/"
    },
    "executionInfo": {
     "elapsed": 18,
     "status": "ok",
     "timestamp": 1713448050089,
     "user": {
      "displayName": "toran jung shahi",
      "userId": "05569312742364291561"
     },
     "user_tz": -600
    },
    "id": "fxIpTOy_ObP9",
    "outputId": "971c281d-a2a6-48f3-b3a8-0b7abf89aaf4"
   },
   "outputs": [
    {
     "name": "stdout",
     "output_type": "stream",
     "text": [
      "One percentile of X: 4696 99th Percentile of X: 4707\n",
      "X-Min: 4636 , X-Max: 4880\n",
      "One percentile of Y: -718 99th Percentile of Y: -705\n",
      "Y-Min: -786 , Y-Max: -578\n",
      "length: 11 Width: 13\n"
     ]
    }
   ],
   "source": [
    "# Calculate percentiles for X\n",
    "X_1 = round(pd.concat(users)['X'].quantile(0.01))\n",
    "X_99 = round(pd.concat(users)['X'].quantile(0.995))\n",
    "X_min,X_max = round(pd.concat(users)['X'].min()),round(pd.concat(users)['X'].max())\n",
    "\n",
    "#Calculate percentiles for Y\n",
    "Y_1 = round(pd.concat(users)['Y'].quantile(0.01))\n",
    "Y_99 = round(pd.concat(users)['Y'].quantile(0.995))\n",
    "Y_min,Y_max = round(pd.concat(users)['Y'].min()),round(pd.concat(users)['Y'].max())\n",
    "\n",
    "print('One percentile of X:',X_1,'99th Percentile of X:',X_99)\n",
    "print('X-Min:',X_min,', X-Max:',X_max)\n",
    "print('One percentile of Y:',Y_1,'99th Percentile of Y:',Y_99)\n",
    "print('Y-Min:',Y_min,', Y-Max:',Y_max)\n",
    "length, width = abs(X_99 - X_1),abs(Y_99 - Y_1)\n",
    "print('length:',length, 'Width:',width)"
   ]
  },
  {
   "cell_type": "code",
   "execution_count": 30,
   "metadata": {
    "colab": {
     "base_uri": "https://localhost:8080/"
    },
    "executionInfo": {
     "elapsed": 16,
     "status": "ok",
     "timestamp": 1713448050089,
     "user": {
      "displayName": "toran jung shahi",
      "userId": "05569312742364291561"
     },
     "user_tz": -600
    },
    "id": "tUlPd4m-dAkh",
    "outputId": "dd887d57-5521-45b4-c0ac-c3dc81faebe0"
   },
   "outputs": [
    {
     "name": "stdout",
     "output_type": "stream",
     "text": [
      "Original dimensions: (14, 14)\n",
      "The bounding box is: X_low = 4694.5, X_high = 4708.5, Y_low = -718.5 and Y_high = -704.5 \n"
     ]
    }
   ],
   "source": [
    "#Make square bounding box and divisible into equal grids\n",
    "\n",
    "def make_equal_and_even(a, b):\n",
    "    # Base case: If a and b are equal, return them\n",
    "    if a == b:\n",
    "        return a, b\n",
    "\n",
    "    # Choose one integer to modify\n",
    "    if a < b:\n",
    "        a += 1\n",
    "    else:\n",
    "        b += 1\n",
    "\n",
    "    # Make the modified integer even\n",
    "    if a % 2 != 0:\n",
    "        a += 1\n",
    "    if b % 2 != 0:\n",
    "        b += 1\n",
    "\n",
    "    # Recursive case: Call the function with modified values\n",
    "    return make_equal_and_even(a, b)\n",
    "\n",
    "(a,b) = make_equal_and_even(length,width)\n",
    "print('Original dimensions:',(a,b))\n",
    "X_low = X_1 - (a - length )/2\n",
    "X_high = X_99 + (a - length)/2\n",
    "Y_low = Y_1 - (b - width)/2\n",
    "Y_high = Y_99 + (b - width)/2\n",
    "print(f'The bounding box is: X_low = {X_low}, X_high = {X_high}, Y_low = {Y_low} and Y_high = {Y_high} ')"
   ]
  },
  {
   "cell_type": "code",
   "execution_count": 31,
   "metadata": {
    "colab": {
     "base_uri": "https://localhost:8080/"
    },
    "executionInfo": {
     "elapsed": 600,
     "status": "ok",
     "timestamp": 1713448050675,
     "user": {
      "displayName": "toran jung shahi",
      "userId": "05569312742364291561"
     },
     "user_tz": -600
    },
    "id": "9oQvHpSZsRdD",
    "outputId": "113eee01-e5aa-4126-8d7d-ba64b2613bc1"
   },
   "outputs": [
    {
     "name": "stdout",
     "output_type": "stream",
     "text": [
      "Max - X:  4708.5 , Min - X:  4694.5 , Max - Y:  -704.5 , Min - Y:  -718.5\n"
     ]
    }
   ],
   "source": [
    "#pad the values exceeding boundary to boundary values.\n",
    "ts_data = pd.concat(users)\n",
    "ts_data.loc[ts_data['Y'] > Y_high,'Y'] = Y_high\n",
    "ts_data.loc[ts_data['Y'] < Y_low,'Y'] = Y_low\n",
    "ts_data.loc[ts_data['X'] < X_low,'X'] = X_low\n",
    "ts_data.loc[ts_data['X'] > X_high,'X'] = X_high\n",
    "\n",
    "#Sanity check for max and min values\n",
    "print('Max - X: ',ts_data.X.max(),', Min - X: ',ts_data.X.min(),', Max - Y: ' ,ts_data.Y.max(),', Min - Y: ',ts_data.Y.min())"
   ]
  },
  {
   "cell_type": "code",
   "execution_count": 32,
   "metadata": {
    "executionInfo": {
     "elapsed": 5,
     "status": "ok",
     "timestamp": 1713448050676,
     "user": {
      "displayName": "toran jung shahi",
      "userId": "05569312742364291561"
     },
     "user_tz": -600
    },
    "id": "Nd4jmp6HRqvJ"
   },
   "outputs": [],
   "source": [
    "cell_dia = 2 #set cell diameter\n",
    "#create zeroes numpy array of size final_length x final_width\n",
    "flength , fwidth = abs(X_high - X_low),abs(Y_high - Y_low)\n",
    "shape = (int(flength/cell_dia),int(fwidth/cell_dia)) #shape of array\n",
    "dtype = [('x','f4'),('y','f4')] #create datatype of array elements as tuple of floats\n",
    "cells = np.zeros(shape,dtype = dtype)\n",
    "\n",
    "#fill cells with their location as centre of each grid\n",
    "grid_map = {}\n",
    "x_start,y_start = X_low + cell_dia/2,Y_low +cell_dia/2\n",
    "for i in range(int(flength/cell_dia)):\n",
    "  cells[i,:]['x'] = x_start\n",
    "  for j in range(int(fwidth/cell_dia)):\n",
    "    cells[i,j]['y'] = y_start\n",
    "    y_start += cell_dia\n",
    "    grid_map[tuple(cells[i,j])] = (i,j)\n",
    "  y_start = Y_low +cell_dia/2\n",
    "  x_start += cell_dia\n"
   ]
  },
  {
   "cell_type": "code",
   "execution_count": 33,
   "metadata": {
    "executionInfo": {
     "elapsed": 5,
     "status": "ok",
     "timestamp": 1713448050676,
     "user": {
      "displayName": "toran jung shahi",
      "userId": "05569312742364291561"
     },
     "user_tz": -600
    },
    "id": "5QpuWLzj4WPg"
   },
   "outputs": [],
   "source": [
    "#Get base station location\n",
    "xcenter = cells[:,:]['x']\n",
    "ycenter = cells[:,:]['y']"
   ]
  },
  {
   "cell_type": "code",
   "execution_count": 34,
   "metadata": {
    "colab": {
     "base_uri": "https://localhost:8080/",
     "height": 430
    },
    "executionInfo": {
     "elapsed": 4535,
     "status": "ok",
     "timestamp": 1713448055207,
     "user": {
      "displayName": "toran jung shahi",
      "userId": "05569312742364291561"
     },
     "user_tz": -600
    },
    "id": "1sZnZdFdP8OJ",
    "outputId": "88015e84-ce0c-40d1-a6c9-620d14b59671"
   },
   "outputs": [
    {
     "data": {
      "image/png": "[encoded data removed]",
      "text/plain": [
       "<Figure size 640x480 with 1 Axes>"
      ]
     },
     "metadata": {},
     "output_type": "display_data"
    }
   ],
   "source": [
    "#Plot taxi locations and base station location on grid\n",
    "fig = plt.figure()\n",
    "ax = fig.gca()\n",
    "xticks =np.arange(X_low,X_high+cell_dia,cell_dia) #from lowest value of x to highest value of x with steps of cell_dia\n",
    "yticks = np.arange(Y_low,Y_high+cell_dia,cell_dia) #from lowest value of y to highest value of y with steps of cell_dia\n",
    "ax.set_xticks(xticks)\n",
    "ax.set_yticks(yticks)\n",
    "plt.scatter(x= ts_data.X,y=ts_data.Y,marker = 'd')\n",
    "plt.scatter(x = xcenter,y = ycenter,color = 'r',alpha = .5)\n",
    "plt.grid(color='g', linestyle='--', linewidth=1)\n",
    "plt.show()"
   ]
  },
  {
   "cell_type": "code",
   "execution_count": 35,
   "metadata": {
    "executionInfo": {
     "elapsed": 3980,
     "status": "ok",
     "timestamp": 1713448059170,
     "user": {
      "displayName": "toran jung shahi",
      "userId": "05569312742364291561"
     },
     "user_tz": -600
    },
    "id": "0M3ZVhAu3PyZ"
   },
   "outputs": [],
   "source": [
    "#Maps x,y value of user to x,y value of base station\n",
    "def find_cell(value,xticks,cell_dia):\n",
    "  if value == xticks[-1]: #if the value is highest/last element in the list\n",
    "    return (xticks[-1] - cell_dia/2)\n",
    "  else:\n",
    "    i = next(j for j,e in enumerate(xticks) if e > value) #get the integer location where the value should be inserted.\n",
    "    return (xticks[i-1] + cell_dia/2)\n",
    "\n",
    "ts_data.loc[:,\"xcell\"] = 0.0\n",
    "ts_data.loc[:,\"ycell\"] = 0.0\n",
    "ts_data.loc[:,\"xcell\"] = ts_data.loc[:,\"X\"].apply(find_cell,args = (xticks,cell_dia))\n",
    "ts_data.loc[:,\"ycell\"] = ts_data.loc[:,\"Y\"].apply(find_cell,args = (yticks,cell_dia))"
   ]
  },
  {
   "cell_type": "code",
   "execution_count": 36,
   "metadata": {
    "executionInfo": {
     "elapsed": 985,
     "status": "ok",
     "timestamp": 1713448060150,
     "user": {
      "displayName": "toran jung shahi",
      "userId": "05569312742364291561"
     },
     "user_tz": -600
    },
    "id": "OfV1eGVcjbtP"
   },
   "outputs": [],
   "source": [
    "#create tuple (xcell,ycell) as tower from columns xcell and ycell\n",
    "ts_data['tower'] = list(zip(ts_data['xcell'],ts_data['ycell']))\n",
    "ts_data.drop(['xcell','ycell'],axis = 1,inplace = True)"
   ]
  },
  {
   "cell_type": "code",
   "execution_count": 37,
   "metadata": {
    "executionInfo": {
     "elapsed": 2863,
     "status": "ok",
     "timestamp": 1713448063010,
     "user": {
      "displayName": "toran jung shahi",
      "userId": "05569312742364291561"
     },
     "user_tz": -600
    },
    "id": "hEThKZmbKxa-"
   },
   "outputs": [],
   "source": [
    "#get mapping of cell id to tower location\n",
    "ts_data['cell_id'] = ts_data['tower'].apply(lambda x: grid_map[x])"
   ]
  },
  {
   "cell_type": "code",
   "execution_count": 38,
   "metadata": {
    "colab": {
     "base_uri": "https://localhost:8080/",
     "height": 206
    },
    "executionInfo": {
     "elapsed": 26,
     "status": "ok",
     "timestamp": 1713448063010,
     "user": {
      "displayName": "toran jung shahi",
      "userId": "05569312742364291561"
     },
     "user_tz": -600
    },
    "id": "DGXUR-dtXuFy",
    "outputId": "447b99b2-2333-4c76-ba38-b9d02d1b4a4c"
   },
   "outputs": [
    {
     "data": {
      "application/vnd.google.colaboratory.intrinsic+json": {
       "type": "dataframe",
       "variable_name": "ts_data"
      },
      "text/html": [
       "\n",
       "  <div id=\"df-91badf02-efb5-4d75-aa3b-cc7ce277200a\" class=\"colab-df-container\">\n",
       "    <div>\n",
       "<style scoped>\n",
       "    .dataframe tbody tr th:only-of-type {\n",
       "        vertical-align: middle;\n",
       "    }\n",
       "\n",
       "    .dataframe tbody tr th {\n",
       "        vertical-align: top;\n",
       "    }\n",
       "\n",
       "    .dataframe thead th {\n",
       "        text-align: right;\n",
       "    }\n",
       "</style>\n",
       "<table border=\"1\" class=\"dataframe\">\n",
       "  <thead>\n",
       "    <tr style=\"text-align: right;\">\n",
       "      <th></th>\n",
       "      <th>lon</th>\n",
       "      <th>lat</th>\n",
       "      <th>X</th>\n",
       "      <th>Y</th>\n",
       "      <th>TAXI_ID</th>\n",
       "      <th>tower</th>\n",
       "      <th>cell_id</th>\n",
       "    </tr>\n",
       "  </thead>\n",
       "  <tbody>\n",
       "    <tr>\n",
       "      <th>2014-05-01 00:00:00</th>\n",
       "      <td>-8.610039</td>\n",
       "      <td>41.155425</td>\n",
       "      <td>4702.638626</td>\n",
       "      <td>-712.05006</td>\n",
       "      <td>20000167</td>\n",
       "      <td>(4703.5, -711.5)</td>\n",
       "      <td>(4, 3)</td>\n",
       "    </tr>\n",
       "    <tr>\n",
       "      <th>2014-05-01 00:10:00</th>\n",
       "      <td>-8.610039</td>\n",
       "      <td>41.155425</td>\n",
       "      <td>4702.638626</td>\n",
       "      <td>-712.05006</td>\n",
       "      <td>20000167</td>\n",
       "      <td>(4703.5, -711.5)</td>\n",
       "      <td>(4, 3)</td>\n",
       "    </tr>\n",
       "    <tr>\n",
       "      <th>2014-05-01 00:20:00</th>\n",
       "      <td>-8.623098</td>\n",
       "      <td>41.158233</td>\n",
       "      <td>4702.274767</td>\n",
       "      <td>-713.09133</td>\n",
       "      <td>20000167</td>\n",
       "      <td>(4701.5, -713.5)</td>\n",
       "      <td>(3, 2)</td>\n",
       "    </tr>\n",
       "    <tr>\n",
       "      <th>2014-05-01 00:30:00</th>\n",
       "      <td>-8.623098</td>\n",
       "      <td>41.158233</td>\n",
       "      <td>4702.274767</td>\n",
       "      <td>-713.09133</td>\n",
       "      <td>20000167</td>\n",
       "      <td>(4701.5, -713.5)</td>\n",
       "      <td>(3, 2)</td>\n",
       "    </tr>\n",
       "    <tr>\n",
       "      <th>2014-05-01 00:40:00</th>\n",
       "      <td>-8.623098</td>\n",
       "      <td>41.158233</td>\n",
       "      <td>4702.274767</td>\n",
       "      <td>-713.09133</td>\n",
       "      <td>20000167</td>\n",
       "      <td>(4701.5, -713.5)</td>\n",
       "      <td>(3, 2)</td>\n",
       "    </tr>\n",
       "  </tbody>\n",
       "</table>\n",
       "</div>\n",
       "    <div class=\"colab-df-buttons\">\n",
       "\n",
       "  <div class=\"colab-df-container\">\n",
       "    <button class=\"colab-df-convert\" onclick=\"convertToInteractive('df-91badf02-efb5-4d75-aa3b-cc7ce277200a')\"\n",
       "            title=\"Convert this dataframe to an interactive table.\"\n",
       "            style=\"display:none;\">\n",
       "\n",
       "  <svg xmlns=\"http://www.w3.org/2000/svg\" height=\"24px\" viewBox=\"0 -960 960 960\">\n",
       "    <path d=\"M120-120v-720h720v720H120Zm60-500h600v-160H180v160Zm220 220h160v-160H400v160Zm0 220h160v-160H400v160ZM180-400h160v-160H180v160Zm440 0h160v-160H620v160ZM180-180h160v-160H180v160Zm440 0h160v-160H620v160Z\"/>\n",
       "  </svg>\n",
       "    </button>\n",
       "\n",
       "  <style>\n",
       "    .colab-df-container {\n",
       "      display:flex;\n",
       "      gap: 12px;\n",
       "    }\n",
       "\n",
       "    .colab-df-convert {\n",
       "      background-color: #E8F0FE;\n",
       "      border: none;\n",
       "      border-radius: 50%;\n",
       "      cursor: pointer;\n",
       "      display: none;\n",
       "      fill: #1967D2;\n",
       "      height: 32px;\n",
       "      padding: 0 0 0 0;\n",
       "      width: 32px;\n",
       "    }\n",
       "\n",
       "    .colab-df-convert:hover {\n",
       "      background-color: #E2EBFA;\n",
       "      box-shadow: 0px 1px 2px rgba(60, 64, 67, 0.3), 0px 1px 3px 1px rgba(60, 64, 67, 0.15);\n",
       "      fill: #174EA6;\n",
       "    }\n",
       "\n",
       "    .colab-df-buttons div {\n",
       "      margin-bottom: 4px;\n",
       "    }\n",
       "\n",
       "    [theme=dark] .colab-df-convert {\n",
       "      background-color: #3B4455;\n",
       "      fill: #D2E3FC;\n",
       "    }\n",
       "\n",
       "    [theme=dark] .colab-df-convert:hover {\n",
       "      background-color: #434B5C;\n",
       "      box-shadow: 0px 1px 3px 1px rgba(0, 0, 0, 0.15);\n",
       "      filter: drop-shadow(0px 1px 2px rgba(0, 0, 0, 0.3));\n",
       "      fill: #FFFFFF;\n",
       "    }\n",
       "  </style>\n",
       "\n",
       "    <script>\n",
       "      const buttonEl =\n",
       "        document.querySelector('#df-91badf02-efb5-4d75-aa3b-cc7ce277200a button.colab-df-convert');\n",
       "      buttonEl.style.display =\n",
       "        google.colab.kernel.accessAllowed ? 'block' : 'none';\n",
       "\n",
       "      async function convertToInteractive(key) {\n",
       "        const element = document.querySelector('#df-91badf02-efb5-4d75-aa3b-cc7ce277200a');\n",
       "        const dataTable =\n",
       "          await google.colab.kernel.invokeFunction('convertToInteractive',\n",
       "                                                    [key], {});\n",
       "        if (!dataTable) return;\n",
       "\n",
       "        const docLinkHtml = 'Like what you see? Visit the ' +\n",
       "          '<a target=\"_blank\" href=https://colab.research.google.com/notebooks/data_table.ipynb>data table notebook</a>'\n",
       "          + ' to learn more about interactive tables.';\n",
       "        element.innerHTML = '';\n",
       "        dataTable['output_type'] = 'display_data';\n",
       "        await google.colab.output.renderOutput(dataTable, element);\n",
       "        const docLink = document.createElement('div');\n",
       "        docLink.innerHTML = docLinkHtml;\n",
       "        element.appendChild(docLink);\n",
       "      }\n",
       "    </script>\n",
       "  </div>\n",
       "\n",
       "\n",
       "<div id=\"df-86b6dac9-97fb-4d59-af6f-4e8c39302613\">\n",
       "  <button class=\"colab-df-quickchart\" onclick=\"quickchart('df-86b6dac9-97fb-4d59-af6f-4e8c39302613')\"\n",
       "            title=\"Suggest charts\"\n",
       "            style=\"display:none;\">\n",
       "\n",
       "<svg xmlns=\"http://www.w3.org/2000/svg\" height=\"24px\"viewBox=\"0 0 24 24\"\n",
       "     width=\"24px\">\n",
       "    <g>\n",
       "        <path d=\"M19 3H5c-1.1 0-2 .9-2 2v14c0 1.1.9 2 2 2h14c1.1 0 2-.9 2-2V5c0-1.1-.9-2-2-2zM9 17H7v-7h2v7zm4 0h-2V7h2v10zm4 0h-2v-4h2v4z\"/>\n",
       "    </g>\n",
       "</svg>\n",
       "  </button>\n",
       "\n",
       "<style>\n",
       "  .colab-df-quickchart {\n",
       "      --bg-color: #E8F0FE;\n",
       "      --fill-color: #1967D2;\n",
       "      --hover-bg-color: #E2EBFA;\n",
       "      --hover-fill-color: #174EA6;\n",
       "      --disabled-fill-color: #AAA;\n",
       "      --disabled-bg-color: #DDD;\n",
       "  }\n",
       "\n",
       "  [theme=dark] .colab-df-quickchart {\n",
       "      --bg-color: #3B4455;\n",
       "      --fill-color: #D2E3FC;\n",
       "      --hover-bg-color: #434B5C;\n",
       "      --hover-fill-color: #FFFFFF;\n",
       "      --disabled-bg-color: #3B4455;\n",
       "      --disabled-fill-color: #666;\n",
       "  }\n",
       "\n",
       "  .colab-df-quickchart {\n",
       "    background-color: var(--bg-color);\n",
       "    border: none;\n",
       "    border-radius: 50%;\n",
       "    cursor: pointer;\n",
       "    display: none;\n",
       "    fill: var(--fill-color);\n",
       "    height: 32px;\n",
       "    padding: 0;\n",
       "    width: 32px;\n",
       "  }\n",
       "\n",
       "  .colab-df-quickchart:hover {\n",
       "    background-color: var(--hover-bg-color);\n",
       "    box-shadow: 0 1px 2px rgba(60, 64, 67, 0.3), 0 1px 3px 1px rgba(60, 64, 67, 0.15);\n",
       "    fill: var(--button-hover-fill-color);\n",
       "  }\n",
       "\n",
       "  .colab-df-quickchart-complete:disabled,\n",
       "  .colab-df-quickchart-complete:disabled:hover {\n",
       "    background-color: var(--disabled-bg-color);\n",
       "    fill: var(--disabled-fill-color);\n",
       "    box-shadow: none;\n",
       "  }\n",
       "\n",
       "  .colab-df-spinner {\n",
       "    border: 2px solid var(--fill-color);\n",
       "    border-color: transparent;\n",
       "    border-bottom-color: var(--fill-color);\n",
       "    animation:\n",
       "      spin 1s steps(1) infinite;\n",
       "  }\n",
       "\n",
       "  @keyframes spin {\n",
       "    0% {\n",
       "      border-color: transparent;\n",
       "      border-bottom-color: var(--fill-color);\n",
       "      border-left-color: var(--fill-color);\n",
       "    }\n",
       "    20% {\n",
       "      border-color: transparent;\n",
       "      border-left-color: var(--fill-color);\n",
       "      border-top-color: var(--fill-color);\n",
       "    }\n",
       "    30% {\n",
       "      border-color: transparent;\n",
       "      border-left-color: var(--fill-color);\n",
       "      border-top-color: var(--fill-color);\n",
       "      border-right-color: var(--fill-color);\n",
       "    }\n",
       "    40% {\n",
       "      border-color: transparent;\n",
       "      border-right-color: var(--fill-color);\n",
       "      border-top-color: var(--fill-color);\n",
       "    }\n",
       "    60% {\n",
       "      border-color: transparent;\n",
       "      border-right-color: var(--fill-color);\n",
       "    }\n",
       "    80% {\n",
       "      border-color: transparent;\n",
       "      border-right-color: var(--fill-color);\n",
       "      border-bottom-color: var(--fill-color);\n",
       "    }\n",
       "    90% {\n",
       "      border-color: transparent;\n",
       "      border-bottom-color: var(--fill-color);\n",
       "    }\n",
       "  }\n",
       "</style>\n",
       "\n",
       "  <script>\n",
       "    async function quickchart(key) {\n",
       "      const quickchartButtonEl =\n",
       "        document.querySelector('#' + key + ' button');\n",
       "      quickchartButtonEl.disabled = true;  // To prevent multiple clicks.\n",
       "      quickchartButtonEl.classList.add('colab-df-spinner');\n",
       "      try {\n",
       "        const charts = await google.colab.kernel.invokeFunction(\n",
       "            'suggestCharts', [key], {});\n",
       "      } catch (error) {\n",
       "        console.error('Error during call to suggestCharts:', error);\n",
       "      }\n",
       "      quickchartButtonEl.classList.remove('colab-df-spinner');\n",
       "      quickchartButtonEl.classList.add('colab-df-quickchart-complete');\n",
       "    }\n",
       "    (() => {\n",
       "      let quickchartButtonEl =\n",
       "        document.querySelector('#df-86b6dac9-97fb-4d59-af6f-4e8c39302613 button');\n",
       "      quickchartButtonEl.style.display =\n",
       "        google.colab.kernel.accessAllowed ? 'block' : 'none';\n",
       "    })();\n",
       "  </script>\n",
       "</div>\n",
       "\n",
       "    </div>\n",
       "  </div>\n"
      ],
      "text/plain": [
       "                          lon        lat            X          Y   TAXI_ID  \\\n",
       "2014-05-01 00:00:00 -8.610039  41.155425  4702.638626 -712.05006  20000167   \n",
       "2014-05-01 00:10:00 -8.610039  41.155425  4702.638626 -712.05006  20000167   \n",
       "2014-05-01 00:20:00 -8.623098  41.158233  4702.274767 -713.09133  20000167   \n",
       "2014-05-01 00:30:00 -8.623098  41.158233  4702.274767 -713.09133  20000167   \n",
       "2014-05-01 00:40:00 -8.623098  41.158233  4702.274767 -713.09133  20000167   \n",
       "\n",
       "                                tower cell_id  \n",
       "2014-05-01 00:00:00  (4703.5, -711.5)  (4, 3)  \n",
       "2014-05-01 00:10:00  (4703.5, -711.5)  (4, 3)  \n",
       "2014-05-01 00:20:00  (4701.5, -713.5)  (3, 2)  \n",
       "2014-05-01 00:30:00  (4701.5, -713.5)  (3, 2)  \n",
       "2014-05-01 00:40:00  (4701.5, -713.5)  (3, 2)  "
      ]
     },
     "execution_count": 38,
     "metadata": {},
     "output_type": "execute_result"
    }
   ],
   "source": [
    "ts_data.head()"
   ]
  },
  {
   "cell_type": "code",
   "execution_count": 39,
   "metadata": {
    "executionInfo": {
     "elapsed": 24,
     "status": "ok",
     "timestamp": 1713448063010,
     "user": {
      "displayName": "toran jung shahi",
      "userId": "05569312742364291561"
     },
     "user_tz": -600
    },
    "id": "6aqTl__FGHlj"
   },
   "outputs": [],
   "source": [
    "#create grid map\n",
    "locations = [x for x in cells.flatten()] #create list of base station locations\n",
    "bottom_left = [(x - cell_dia/2,y - cell_dia/2) for x,y in locations] #create list of bottom left point of each cell\n",
    "top_right = [(x + cell_dia/2,y + cell_dia/2) for x,y in locations] #create list of top right point of each cell\n",
    "loc = [(x,y) for x,y in locations] #create list of tuples of x and y.\n",
    "grid = pd.DataFrame({'ID':grid_map.values(),'towerlocation':loc,'bottomleft':bottom_left,'topright':top_right})"
   ]
  },
  {
   "cell_type": "code",
   "execution_count": 40,
   "metadata": {
    "executionInfo": {
     "elapsed": 25,
     "status": "ok",
     "timestamp": 1713448063011,
     "user": {
      "displayName": "toran jung shahi",
      "userId": "05569312742364291561"
     },
     "user_tz": -600
    },
    "id": "AlvDa7H6mD7v"
   },
   "outputs": [],
   "source": [
    "#group by time slots\n",
    "grouped = ts_data.groupby([ts_data.index])"
   ]
  },
  {
   "cell_type": "code",
   "execution_count": 41,
   "metadata": {
    "executionInfo": {
     "elapsed": 497,
     "status": "ok",
     "timestamp": 1713448063483,
     "user": {
      "displayName": "toran jung shahi",
      "userId": "05569312742364291561"
     },
     "user_tz": -600
    },
    "id": "Xo7KKBPunUso"
   },
   "outputs": [],
   "source": [
    "df_by_index = {} #holds dataframes for each time step, each df contains which user is at which location at that time step\n",
    "for indexvalue,grouped_df in grouped:\n",
    "  df_by_index[indexvalue] = grouped_df\n"
   ]
  },
  {
   "cell_type": "code",
   "execution_count": 42,
   "metadata": {
    "executionInfo": {
     "elapsed": 4,
     "status": "ok",
     "timestamp": 1713448063483,
     "user": {
      "displayName": "toran jung shahi",
      "userId": "05569312742364291561"
     },
     "user_tz": -600
    },
    "id": "nVSmVLm9KKRO"
   },
   "outputs": [],
   "source": [
    "col = list(grid_map.values()) #column heading are grid_map's values i.e, cell id\n",
    "agg_porto = pd.DataFrame(0,columns = col,index = ts_data.index.unique())"
   ]
  },
  {
   "cell_type": "code",
   "execution_count": 43,
   "metadata": {
    "executionInfo": {
     "elapsed": 15157,
     "status": "ok",
     "timestamp": 1713448078637,
     "user": {
      "displayName": "toran jung shahi",
      "userId": "05569312742364291561"
     },
     "user_tz": -600
    },
    "id": "ver2zQsiGyLF"
   },
   "outputs": [],
   "source": [
    "for index in df_by_index.keys():\n",
    "  x = df_by_index[index]\n",
    "  counts = x['cell_id'].value_counts().reset_index()\n",
    "  counts.columns = ['cell_id','counts']\n",
    "  agg_porto.loc[index,counts['cell_id']] = np.array(counts['counts'])"
   ]
  },
  {
   "cell_type": "code",
   "execution_count": 44,
   "metadata": {
    "executionInfo": {
     "elapsed": 6,
     "status": "ok",
     "timestamp": 1713448078637,
     "user": {
      "displayName": "toran jung shahi",
      "userId": "05569312742364291561"
     },
     "user_tz": -600
    },
    "id": "J25DL1jdQ2vl"
   },
   "outputs": [],
   "source": [
    "def count_users(group):\n",
    "  index = group.index\n",
    "  counts = group['cell_id'].value_counts().reset_index()\n",
    "  counts.columns = ['cell_id','counts']\n",
    "  agg_porto.loc[index,counts['cell_id']] = np.array(counts['counts'])"
   ]
  },
  {
   "cell_type": "code",
   "execution_count": 45,
   "metadata": {
    "colab": {
     "base_uri": "https://localhost:8080/"
    },
    "executionInfo": {
     "elapsed": 5,
     "status": "ok",
     "timestamp": 1713448078637,
     "user": {
      "displayName": "toran jung shahi",
      "userId": "05569312742364291561"
     },
     "user_tz": -600
    },
    "id": "X5JmC0q5EogT",
    "outputId": "f1880ca7-e9af-4054-e0ed-3b90ecfec328"
   },
   "outputs": [
    {
     "data": {
      "text/plain": [
       "2014-05-01 00:00:00    197\n",
       "2014-05-01 00:10:00    197\n",
       "2014-05-01 00:20:00    197\n",
       "2014-05-01 00:30:00    197\n",
       "2014-05-01 00:40:00    197\n",
       "                      ... \n",
       "2014-05-30 23:20:00    197\n",
       "2014-05-30 23:30:00    197\n",
       "2014-05-30 23:40:00    197\n",
       "2014-05-30 23:50:00    197\n",
       "2014-05-31 00:00:00    197\n",
       "Length: 4321, dtype: int64"
      ]
     },
     "execution_count": 45,
     "metadata": {},
     "output_type": "execute_result"
    }
   ],
   "source": [
    "#Sanity check for total number of users at all the locations at particular timestamp\n",
    "agg_porto.sum(axis =1)"
   ]
  },
  {
   "cell_type": "code",
   "execution_count": 46,
   "metadata": {
    "colab": {
     "base_uri": "https://localhost:8080/",
     "height": 339
    },
    "executionInfo": {
     "elapsed": 6,
     "status": "ok",
     "timestamp": 1713448078638,
     "user": {
      "displayName": "toran jung shahi",
      "userId": "05569312742364291561"
     },
     "user_tz": -600
    },
    "id": "jEi_sIKzY3nc",
    "outputId": "1544d8f2-3673-4cae-a1c4-846e7446526c"
   },
   "outputs": [
    {
     "data": {
      "application/vnd.google.colaboratory.intrinsic+json": {
       "type": "dataframe",
       "variable_name": "agg_porto"
      },
      "text/html": [
       "\n",
       "  <div id=\"df-bc71845f-85b2-4695-a4a7-f4576d7bdb19\" class=\"colab-df-container\">\n",
       "    <div>\n",
       "<style scoped>\n",
       "    .dataframe tbody tr th:only-of-type {\n",
       "        vertical-align: middle;\n",
       "    }\n",
       "\n",
       "    .dataframe tbody tr th {\n",
       "        vertical-align: top;\n",
       "    }\n",
       "\n",
       "    .dataframe thead th {\n",
       "        text-align: right;\n",
       "    }\n",
       "</style>\n",
       "<table border=\"1\" class=\"dataframe\">\n",
       "  <thead>\n",
       "    <tr style=\"text-align: right;\">\n",
       "      <th></th>\n",
       "      <th>(0, 0)</th>\n",
       "      <th>(0, 1)</th>\n",
       "      <th>(0, 2)</th>\n",
       "      <th>(0, 3)</th>\n",
       "      <th>(0, 4)</th>\n",
       "      <th>(0, 5)</th>\n",
       "      <th>(0, 6)</th>\n",
       "      <th>(1, 0)</th>\n",
       "      <th>(1, 1)</th>\n",
       "      <th>(1, 2)</th>\n",
       "      <th>...</th>\n",
       "      <th>(5, 4)</th>\n",
       "      <th>(5, 5)</th>\n",
       "      <th>(5, 6)</th>\n",
       "      <th>(6, 0)</th>\n",
       "      <th>(6, 1)</th>\n",
       "      <th>(6, 2)</th>\n",
       "      <th>(6, 3)</th>\n",
       "      <th>(6, 4)</th>\n",
       "      <th>(6, 5)</th>\n",
       "      <th>(6, 6)</th>\n",
       "    </tr>\n",
       "  </thead>\n",
       "  <tbody>\n",
       "    <tr>\n",
       "      <th>2014-05-01 00:00:00</th>\n",
       "      <td>0</td>\n",
       "      <td>0</td>\n",
       "      <td>0</td>\n",
       "      <td>0</td>\n",
       "      <td>0</td>\n",
       "      <td>0</td>\n",
       "      <td>0</td>\n",
       "      <td>0</td>\n",
       "      <td>0</td>\n",
       "      <td>0</td>\n",
       "      <td>...</td>\n",
       "      <td>0</td>\n",
       "      <td>0</td>\n",
       "      <td>0</td>\n",
       "      <td>0</td>\n",
       "      <td>0</td>\n",
       "      <td>0</td>\n",
       "      <td>0</td>\n",
       "      <td>0</td>\n",
       "      <td>0</td>\n",
       "      <td>1</td>\n",
       "    </tr>\n",
       "    <tr>\n",
       "      <th>2014-05-01 00:10:00</th>\n",
       "      <td>0</td>\n",
       "      <td>0</td>\n",
       "      <td>0</td>\n",
       "      <td>0</td>\n",
       "      <td>0</td>\n",
       "      <td>0</td>\n",
       "      <td>0</td>\n",
       "      <td>0</td>\n",
       "      <td>0</td>\n",
       "      <td>0</td>\n",
       "      <td>...</td>\n",
       "      <td>0</td>\n",
       "      <td>0</td>\n",
       "      <td>0</td>\n",
       "      <td>0</td>\n",
       "      <td>0</td>\n",
       "      <td>0</td>\n",
       "      <td>0</td>\n",
       "      <td>0</td>\n",
       "      <td>0</td>\n",
       "      <td>1</td>\n",
       "    </tr>\n",
       "    <tr>\n",
       "      <th>2014-05-01 00:20:00</th>\n",
       "      <td>0</td>\n",
       "      <td>0</td>\n",
       "      <td>0</td>\n",
       "      <td>0</td>\n",
       "      <td>0</td>\n",
       "      <td>0</td>\n",
       "      <td>0</td>\n",
       "      <td>0</td>\n",
       "      <td>0</td>\n",
       "      <td>0</td>\n",
       "      <td>...</td>\n",
       "      <td>0</td>\n",
       "      <td>0</td>\n",
       "      <td>0</td>\n",
       "      <td>0</td>\n",
       "      <td>0</td>\n",
       "      <td>0</td>\n",
       "      <td>0</td>\n",
       "      <td>0</td>\n",
       "      <td>0</td>\n",
       "      <td>1</td>\n",
       "    </tr>\n",
       "    <tr>\n",
       "      <th>2014-05-01 00:30:00</th>\n",
       "      <td>0</td>\n",
       "      <td>0</td>\n",
       "      <td>0</td>\n",
       "      <td>0</td>\n",
       "      <td>0</td>\n",
       "      <td>0</td>\n",
       "      <td>0</td>\n",
       "      <td>0</td>\n",
       "      <td>0</td>\n",
       "      <td>0</td>\n",
       "      <td>...</td>\n",
       "      <td>0</td>\n",
       "      <td>0</td>\n",
       "      <td>0</td>\n",
       "      <td>0</td>\n",
       "      <td>0</td>\n",
       "      <td>0</td>\n",
       "      <td>0</td>\n",
       "      <td>0</td>\n",
       "      <td>0</td>\n",
       "      <td>1</td>\n",
       "    </tr>\n",
       "    <tr>\n",
       "      <th>2014-05-01 00:40:00</th>\n",
       "      <td>0</td>\n",
       "      <td>0</td>\n",
       "      <td>0</td>\n",
       "      <td>0</td>\n",
       "      <td>0</td>\n",
       "      <td>0</td>\n",
       "      <td>0</td>\n",
       "      <td>0</td>\n",
       "      <td>0</td>\n",
       "      <td>0</td>\n",
       "      <td>...</td>\n",
       "      <td>0</td>\n",
       "      <td>0</td>\n",
       "      <td>0</td>\n",
       "      <td>0</td>\n",
       "      <td>0</td>\n",
       "      <td>0</td>\n",
       "      <td>0</td>\n",
       "      <td>0</td>\n",
       "      <td>0</td>\n",
       "      <td>1</td>\n",
       "    </tr>\n",
       "  </tbody>\n",
       "</table>\n",
       "<p>5 rows × 49 columns</p>\n",
       "</div>\n",
       "    <div class=\"colab-df-buttons\">\n",
       "\n",
       "  <div class=\"colab-df-container\">\n",
       "    <button class=\"colab-df-convert\" onclick=\"convertToInteractive('df-bc71845f-85b2-4695-a4a7-f4576d7bdb19')\"\n",
       "            title=\"Convert this dataframe to an interactive table.\"\n",
       "            style=\"display:none;\">\n",
       "\n",
       "  <svg xmlns=\"http://www.w3.org/2000/svg\" height=\"24px\" viewBox=\"0 -960 960 960\">\n",
       "    <path d=\"M120-120v-720h720v720H120Zm60-500h600v-160H180v160Zm220 220h160v-160H400v160Zm0 220h160v-160H400v160ZM180-400h160v-160H180v160Zm440 0h160v-160H620v160ZM180-180h160v-160H180v160Zm440 0h160v-160H620v160Z\"/>\n",
       "  </svg>\n",
       "    </button>\n",
       "\n",
       "  <style>\n",
       "    .colab-df-container {\n",
       "      display:flex;\n",
       "      gap: 12px;\n",
       "    }\n",
       "\n",
       "    .colab-df-convert {\n",
       "      background-color: #E8F0FE;\n",
       "      border: none;\n",
       "      border-radius: 50%;\n",
       "      cursor: pointer;\n",
       "      display: none;\n",
       "      fill: #1967D2;\n",
       "      height: 32px;\n",
       "      padding: 0 0 0 0;\n",
       "      width: 32px;\n",
       "    }\n",
       "\n",
       "    .colab-df-convert:hover {\n",
       "      background-color: #E2EBFA;\n",
       "      box-shadow: 0px 1px 2px rgba(60, 64, 67, 0.3), 0px 1px 3px 1px rgba(60, 64, 67, 0.15);\n",
       "      fill: #174EA6;\n",
       "    }\n",
       "\n",
       "    .colab-df-buttons div {\n",
       "      margin-bottom: 4px;\n",
       "    }\n",
       "\n",
       "    [theme=dark] .colab-df-convert {\n",
       "      background-color: #3B4455;\n",
       "      fill: #D2E3FC;\n",
       "    }\n",
       "\n",
       "    [theme=dark] .colab-df-convert:hover {\n",
       "      background-color: #434B5C;\n",
       "      box-shadow: 0px 1px 3px 1px rgba(0, 0, 0, 0.15);\n",
       "      filter: drop-shadow(0px 1px 2px rgba(0, 0, 0, 0.3));\n",
       "      fill: #FFFFFF;\n",
       "    }\n",
       "  </style>\n",
       "\n",
       "    <script>\n",
       "      const buttonEl =\n",
       "        document.querySelector('#df-bc71845f-85b2-4695-a4a7-f4576d7bdb19 button.colab-df-convert');\n",
       "      buttonEl.style.display =\n",
       "        google.colab.kernel.accessAllowed ? 'block' : 'none';\n",
       "\n",
       "      async function convertToInteractive(key) {\n",
       "        const element = document.querySelector('#df-bc71845f-85b2-4695-a4a7-f4576d7bdb19');\n",
       "        const dataTable =\n",
       "          await google.colab.kernel.invokeFunction('convertToInteractive',\n",
       "                                                    [key], {});\n",
       "        if (!dataTable) return;\n",
       "\n",
       "        const docLinkHtml = 'Like what you see? Visit the ' +\n",
       "          '<a target=\"_blank\" href=https://colab.research.google.com/notebooks/data_table.ipynb>data table notebook</a>'\n",
       "          + ' to learn more about interactive tables.';\n",
       "        element.innerHTML = '';\n",
       "        dataTable['output_type'] = 'display_data';\n",
       "        await google.colab.output.renderOutput(dataTable, element);\n",
       "        const docLink = document.createElement('div');\n",
       "        docLink.innerHTML = docLinkHtml;\n",
       "        element.appendChild(docLink);\n",
       "      }\n",
       "    </script>\n",
       "  </div>\n",
       "\n",
       "\n",
       "<div id=\"df-d805e189-bf0d-4550-a0e5-a3f599b0ce7a\">\n",
       "  <button class=\"colab-df-quickchart\" onclick=\"quickchart('df-d805e189-bf0d-4550-a0e5-a3f599b0ce7a')\"\n",
       "            title=\"Suggest charts\"\n",
       "            style=\"display:none;\">\n",
       "\n",
       "<svg xmlns=\"http://www.w3.org/2000/svg\" height=\"24px\"viewBox=\"0 0 24 24\"\n",
       "     width=\"24px\">\n",
       "    <g>\n",
       "        <path d=\"M19 3H5c-1.1 0-2 .9-2 2v14c0 1.1.9 2 2 2h14c1.1 0 2-.9 2-2V5c0-1.1-.9-2-2-2zM9 17H7v-7h2v7zm4 0h-2V7h2v10zm4 0h-2v-4h2v4z\"/>\n",
       "    </g>\n",
       "</svg>\n",
       "  </button>\n",
       "\n",
       "<style>\n",
       "  .colab-df-quickchart {\n",
       "      --bg-color: #E8F0FE;\n",
       "      --fill-color: #1967D2;\n",
       "      --hover-bg-color: #E2EBFA;\n",
       "      --hover-fill-color: #174EA6;\n",
       "      --disabled-fill-color: #AAA;\n",
       "      --disabled-bg-color: #DDD;\n",
       "  }\n",
       "\n",
       "  [theme=dark] .colab-df-quickchart {\n",
       "      --bg-color: #3B4455;\n",
       "      --fill-color: #D2E3FC;\n",
       "      --hover-bg-color: #434B5C;\n",
       "      --hover-fill-color: #FFFFFF;\n",
       "      --disabled-bg-color: #3B4455;\n",
       "      --disabled-fill-color: #666;\n",
       "  }\n",
       "\n",
       "  .colab-df-quickchart {\n",
       "    background-color: var(--bg-color);\n",
       "    border: none;\n",
       "    border-radius: 50%;\n",
       "    cursor: pointer;\n",
       "    display: none;\n",
       "    fill: var(--fill-color);\n",
       "    height: 32px;\n",
       "    padding: 0;\n",
       "    width: 32px;\n",
       "  }\n",
       "\n",
       "  .colab-df-quickchart:hover {\n",
       "    background-color: var(--hover-bg-color);\n",
       "    box-shadow: 0 1px 2px rgba(60, 64, 67, 0.3), 0 1px 3px 1px rgba(60, 64, 67, 0.15);\n",
       "    fill: var(--button-hover-fill-color);\n",
       "  }\n",
       "\n",
       "  .colab-df-quickchart-complete:disabled,\n",
       "  .colab-df-quickchart-complete:disabled:hover {\n",
       "    background-color: var(--disabled-bg-color);\n",
       "    fill: var(--disabled-fill-color);\n",
       "    box-shadow: none;\n",
       "  }\n",
       "\n",
       "  .colab-df-spinner {\n",
       "    border: 2px solid var(--fill-color);\n",
       "    border-color: transparent;\n",
       "    border-bottom-color: var(--fill-color);\n",
       "    animation:\n",
       "      spin 1s steps(1) infinite;\n",
       "  }\n",
       "\n",
       "  @keyframes spin {\n",
       "    0% {\n",
       "      border-color: transparent;\n",
       "      border-bottom-color: var(--fill-color);\n",
       "      border-left-color: var(--fill-color);\n",
       "    }\n",
       "    20% {\n",
       "      border-color: transparent;\n",
       "      border-left-color: var(--fill-color);\n",
       "      border-top-color: var(--fill-color);\n",
       "    }\n",
       "    30% {\n",
       "      border-color: transparent;\n",
       "      border-left-color: var(--fill-color);\n",
       "      border-top-color: var(--fill-color);\n",
       "      border-right-color: var(--fill-color);\n",
       "    }\n",
       "    40% {\n",
       "      border-color: transparent;\n",
       "      border-right-color: var(--fill-color);\n",
       "      border-top-color: var(--fill-color);\n",
       "    }\n",
       "    60% {\n",
       "      border-color: transparent;\n",
       "      border-right-color: var(--fill-color);\n",
       "    }\n",
       "    80% {\n",
       "      border-color: transparent;\n",
       "      border-right-color: var(--fill-color);\n",
       "      border-bottom-color: var(--fill-color);\n",
       "    }\n",
       "    90% {\n",
       "      border-color: transparent;\n",
       "      border-bottom-color: var(--fill-color);\n",
       "    }\n",
       "  }\n",
       "</style>\n",
       "\n",
       "  <script>\n",
       "    async function quickchart(key) {\n",
       "      const quickchartButtonEl =\n",
       "        document.querySelector('#' + key + ' button');\n",
       "      quickchartButtonEl.disabled = true;  // To prevent multiple clicks.\n",
       "      quickchartButtonEl.classList.add('colab-df-spinner');\n",
       "      try {\n",
       "        const charts = await google.colab.kernel.invokeFunction(\n",
       "            'suggestCharts', [key], {});\n",
       "      } catch (error) {\n",
       "        console.error('Error during call to suggestCharts:', error);\n",
       "      }\n",
       "      quickchartButtonEl.classList.remove('colab-df-spinner');\n",
       "      quickchartButtonEl.classList.add('colab-df-quickchart-complete');\n",
       "    }\n",
       "    (() => {\n",
       "      let quickchartButtonEl =\n",
       "        document.querySelector('#df-d805e189-bf0d-4550-a0e5-a3f599b0ce7a button');\n",
       "      quickchartButtonEl.style.display =\n",
       "        google.colab.kernel.accessAllowed ? 'block' : 'none';\n",
       "    })();\n",
       "  </script>\n",
       "</div>\n",
       "\n",
       "    </div>\n",
       "  </div>\n"
      ],
      "text/plain": [
       "                     (0, 0)  (0, 1)  (0, 2)  (0, 3)  (0, 4)  (0, 5)  (0, 6)  \\\n",
       "2014-05-01 00:00:00       0       0       0       0       0       0       0   \n",
       "2014-05-01 00:10:00       0       0       0       0       0       0       0   \n",
       "2014-05-01 00:20:00       0       0       0       0       0       0       0   \n",
       "2014-05-01 00:30:00       0       0       0       0       0       0       0   \n",
       "2014-05-01 00:40:00       0       0       0       0       0       0       0   \n",
       "\n",
       "                     (1, 0)  (1, 1)  (1, 2)  ...  (5, 4)  (5, 5)  (5, 6)  \\\n",
       "2014-05-01 00:00:00       0       0       0  ...       0       0       0   \n",
       "2014-05-01 00:10:00       0       0       0  ...       0       0       0   \n",
       "2014-05-01 00:20:00       0       0       0  ...       0       0       0   \n",
       "2014-05-01 00:30:00       0       0       0  ...       0       0       0   \n",
       "2014-05-01 00:40:00       0       0       0  ...       0       0       0   \n",
       "\n",
       "                     (6, 0)  (6, 1)  (6, 2)  (6, 3)  (6, 4)  (6, 5)  (6, 6)  \n",
       "2014-05-01 00:00:00       0       0       0       0       0       0       1  \n",
       "2014-05-01 00:10:00       0       0       0       0       0       0       1  \n",
       "2014-05-01 00:20:00       0       0       0       0       0       0       1  \n",
       "2014-05-01 00:30:00       0       0       0       0       0       0       1  \n",
       "2014-05-01 00:40:00       0       0       0       0       0       0       1  \n",
       "\n",
       "[5 rows x 49 columns]"
      ]
     },
     "execution_count": 46,
     "metadata": {},
     "output_type": "execute_result"
    }
   ],
   "source": [
    "agg_porto.head()"
   ]
  },
  {
   "cell_type": "code",
   "execution_count": 47,
   "metadata": {
    "executionInfo": {
     "elapsed": 582,
     "status": "ok",
     "timestamp": 1713448079215,
     "user": {
      "displayName": "toran jung shahi",
      "userId": "05569312742364291561"
     },
     "user_tz": -600
    },
    "id": "aw2piFWoZC05"
   },
   "outputs": [],
   "source": [
    "agg_porto.to_csv('./processed/Porto taxi aggregrated.csv')"
   ]
  },
  {
   "cell_type": "code",
   "execution_count": 48,
   "metadata": {
    "executionInfo": {
     "elapsed": 3,
     "status": "ok",
     "timestamp": 1713448079215,
     "user": {
      "displayName": "toran jung shahi",
      "userId": "05569312742364291561"
     },
     "user_tz": -600
    },
    "id": "UNebaltxZGP-"
   },
   "outputs": [],
   "source": [
    "grid.to_csv('./processed/Porto taxi grid.csv')"
   ]
  },
  {
   "cell_type": "code",
   "execution_count": 49,
   "metadata": {
    "executionInfo": {
     "elapsed": 2,
     "status": "ok",
     "timestamp": 1713448079215,
     "user": {
      "displayName": "toran jung shahi",
      "userId": "05569312742364291561"
     },
     "user_tz": -600
    },
    "id": "SxindybFWCMH"
   },
   "outputs": [],
   "source": [
    "#group by trajectories/taxi for ground truth\n",
    "groupedby_users = ts_data.groupby([ts_data.TAXI_ID])"
   ]
  },
  {
   "cell_type": "code",
   "execution_count": 50,
   "metadata": {
    "executionInfo": {
     "elapsed": 2,
     "status": "ok",
     "timestamp": 1713448079215,
     "user": {
      "displayName": "toran jung shahi",
      "userId": "05569312742364291561"
     },
     "user_tz": -600
    },
    "id": "BuI3tyZTEmpI"
   },
   "outputs": [],
   "source": [
    "#create ground truth dataframe\n",
    "ground_truth =groupedby_users[['TAXI_ID','tower','cell_id']]"
   ]
  },
  {
   "cell_type": "code",
   "execution_count": 51,
   "metadata": {
    "executionInfo": {
     "elapsed": 7357,
     "status": "ok",
     "timestamp": 1713448086570,
     "user": {
      "displayName": "toran jung shahi",
      "userId": "05569312742364291561"
     },
     "user_tz": -600
    },
    "id": "qdT6XHkYKVRp"
   },
   "outputs": [],
   "source": [
    "#write ground truth csv file, appends to the file\n",
    "for user, group in ground_truth:\n",
    "  group.to_csv('./processed/ground_truth.csv',mode = 'a')"
   ]
  }
 ],
 "metadata": {
  "colab": {
   "authorship_tag": "ABX9TyOi1c5i2qZndcJfFC1qPJwC",
   "provenance": []
  },
  "kernelspec": {
   "display_name": "Python 3 (ipykernel)",
   "language": "python",
   "name": "python3"
  },
  "language_info": {
   "codemirror_mode": {
    "name": "ipython",
    "version": 3
   },
   "file_extension": ".py",
   "mimetype": "text/x-python",
   "name": "python",
   "nbconvert_exporter": "python",
   "pygments_lexer": "ipython3",
   "version": "3.10.12"
  }
 },
 "nbformat": 4,
 "nbformat_minor": 4
}
