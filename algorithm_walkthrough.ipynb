{
 "cells": [
  {
   "cell_type": "markdown",
   "metadata": {
    "id": "syJnElI4DeIG"
   },
   "source": [
    "# The Algorithm from *Trajectory Recovery from Ash: User Privacy is NOT Preserved in Aggregated Mobility Data* by Xu et al. (2017)\n",
    "\n",
    "This notebook provides an explanation and implementation of the algorithm presented in the aforementioned research paper by F. Xu, Z. Tu, Y. Li, P. Zhang, X. Fu, and D. Jin. We evaluate the algorithm on two preprocessed open-source datasets: GeoLife and Porto Taxi."
   ]
  },
  {
   "cell_type": "markdown",
   "metadata": {
    "id": "18_C5VZ_l7lz"
   },
   "source": [
    "## 1 Preliminaries\n",
    "\n",
    "This section imports all dependencies and defines functions as required. The functions are direct implementations of the formulae described in Xu et. al's paper."
   ]
  },
  {
   "cell_type": "markdown",
   "metadata": {
    "id": "eKDsSmp2Er9-"
   },
   "source": [
    "### 1.1 Dependencies\n",
    "\n",
    "Set the `PATH` to the directory containing the data. It is assumed to contain two folders each for the two datasets used. Throughout the notebook, change file paths as necessary."
   ]
  },
  {
   "cell_type": "code",
   "execution_count": null,
   "metadata": {
    "id": "W87rSq1rEx64"
   },
   "outputs": [],
   "source": [
    "PATH = \"./data\"\n",
    "\n",
    "import os\n",
    "import ast\n",
    "import math\n",
    "import numpy as np\n",
    "import pandas as pd\n",
    "import scipy\n",
    "import matplotlib.pyplot as plt"
   ]
  },
  {
   "cell_type": "markdown",
   "metadata": {
    "id": "61Pn4M_MmERB"
   },
   "source": [
    "###  1.2 Functions"
   ]
  },
  {
   "cell_type": "code",
   "execution_count": 2,
   "metadata": {
    "id": "usuS1s1QmDuY"
   },
   "outputs": [],
   "source": [
    "def trajectory_entropy(trajectory):\n",
    "    freq = {x:0 for x in trajectory}\n",
    "    for x in trajectory:\n",
    "        freq[x] += 1\n",
    "    result = 0\n",
    "    for f in [v for k, v in freq.items() if v > 0]:\n",
    "        result -= (f/len(trajectory))*math.log2(f/len(trajectory))\n",
    "    return result\n",
    "\n",
    "def trajectory_gain(trajectory_1, trajectory_2):\n",
    "    return trajectory_entropy(trajectory_1 + trajectory_2) - ((\n",
    "                   trajectory_entropy(trajectory_1) +\n",
    "                   trajectory_entropy(trajectory_2)\n",
    "               ) / 2\n",
    "           )\n",
    "\n",
    "def preview_matrix(matrix, rows, cols):\n",
    "    for i in range(rows):\n",
    "        print(matrix[i][:cols])\n",
    "\n",
    "def uniqueness(data, k):\n",
    "    top_k_locs = [set() for _ in range(len(data))]\n",
    "    for u in range(len(data)):\n",
    "        freq = dict()\n",
    "        for l in range(len(data[0])):\n",
    "            if data[u][l] not in freq.keys():\n",
    "                freq[data[u][l]] = 1\n",
    "            else:\n",
    "                freq[data[u][l]] += 1\n",
    "        freq = sorted([(k, v) for k, v in freq.items()], key=lambda x: x[1], reverse=True)\n",
    "        top_k_locs[u] = set([x[0] for x in freq][:k])\n",
    "    return len(set(map(frozenset, top_k_locs))) / len(data)"
   ]
  },
  {
   "cell_type": "markdown",
   "metadata": {
    "id": "vF2N_yNUmLAz"
   },
   "source": [
    "## 2 The Algorithm, in Detailed Stages\n",
    "\n",
    "In this section, we present the algorithm, as outlined in Xu et. al. (2017), step-by-step. We use an example dataset to demonstrate this."
   ]
  },
  {
   "cell_type": "markdown",
   "metadata": {
    "id": "OYHPSDg2-trE"
   },
   "source": [
    "### 2.1 Data Loading\n",
    "\n",
    "We have a small dataset where 37 people are present at each time step, thus giving us 37 trajectories to reconstruct. There are 194 distinct locations. There are 5205 timesteps with a 2-minute interval between each one, meaning there are 720 steps per day. So for each day, indices $[0, 179]$ account for times 00:00 to 05:58, and indices $[180, 719]$ account for times 06:00 to 23:58. The dataset spans for about 7.23 days in total.\n",
    "\n",
    "Throughout the code, $N$ refers to the number of users/trajectories in the dataset, $M$ is the number of locations, $T$ is the number of timesteps, and $D$ is the number of intervals in one day."
   ]
  },
  {
   "cell_type": "code",
   "execution_count": 3,
   "metadata": {
    "id": "DL0A2mjwXoxA"
   },
   "outputs": [],
   "source": [
    "agg = pd.read_csv(os.path.join(PATH, \"GeoLife/processed/GeoLife_aggregrated-37users-14x15.csv\"))\n",
    "truth_data = pd.read_csv(os.path.join(PATH, \"GeoLife/processed/GeoLife_ground_truth-37users-14x15.csv\"))\n",
    "N = 37\n",
    "M = 194\n",
    "T = 5205\n",
    "D = 720"
   ]
  },
  {
   "cell_type": "markdown",
   "metadata": {
    "id": "cyNRnUO9RF1K"
   },
   "source": [
    "We now need to get the data into the correct format:\n",
    "\n",
    "- Input:\n",
    "  - Aggregated dataset as a `pandas.DataFrame`, with $T$ rows and $M$ columns. Rows must appear in chronological order (i.e. by timestep). The order of columns (locations) from left to right will be used throughout the notebook. We require that the dataset begins at 00:00.\n",
    "  - Location information as a `dict`. This should map the $i$, (where $i$ is the $i$-th location) to a tuple representing its real location in terms of **cartesian** lattitude/longitude coordinates.\n",
    "\n",
    "- Truth:\n",
    "  - A 2D ($N$ rows, $T$ columns) `list` or `np.array` of the true trajectories. The order of rows is not important, but each trajectory must contain the locations in chronological order. Each element is a **cartesian** lattitude/longitude tuple.\n",
    "  - Note that this is **not** input into the algorithm, only used for evaluation."
   ]
  },
  {
   "cell_type": "code",
   "execution_count": 4,
   "metadata": {},
   "outputs": [],
   "source": [
    "# Get the data into the right format\n",
    "agg = agg.drop(\"datetime\", axis=1)\n",
    "agg = agg.drop(agg.columns[(agg == 0).all()], axis=1)\n",
    "\n",
    "reverse_grid = dict()\n",
    "for i, name in enumerate(agg.columns):\n",
    "    cell_id = ast.literal_eval(name)\n",
    "    reverse_grid[cell_id] = {'i': i}\n",
    "\n",
    "locations = truth_data[[\"cell_id\", \"tower\"]].drop_duplicates()\n",
    "for v in locations.T.to_dict().values():\n",
    "    reverse_grid[ast.literal_eval(v['cell_id'])]['tower'] = ast.literal_eval(v['tower'])\n",
    "grid = {v['i']: v['tower'] for k, v in reverse_grid.items()}\n",
    "\n",
    "truth_data.reset_index(inplace=True)\n",
    "truth_data[\"ordered_towers\"] = truth_data.apply(lambda x: (x[\"index\"], x[\"tower\"]), axis=1)\n",
    "truth = []\n",
    "for trajectory in truth_data.groupby(\"user\")[\"ordered_towers\"].apply(list):\n",
    "    tmp = sorted(trajectory, key=lambda x: x[0])\n",
    "    truth.append([ast.literal_eval(x[1]) for x in tmp])"
   ]
  },
  {
   "cell_type": "markdown",
   "metadata": {},
   "source": [
    "We also need to set up some auxiliary data structures that are required for executing the algorithm:\n",
    "\n",
    "- `locs` keeps track of which column in the cost matrix refers to what locations at each timestep (because this changes). It stores a `dict` for each timestep in a `list`.\n",
    "\n",
    "- `pred` is an $N \\times T$ list that will store the predicted trajectories. The first timestep for each day is filled in here as well."
   ]
  },
  {
   "cell_type": "code",
   "execution_count": 5,
   "metadata": {
    "id": "iW5ZfAwsmNNb"
   },
   "outputs": [],
   "source": [
    "locs = [dict() for _ in range(T)] # Records which column refers to what location at each timestep\n",
    "pred = [[-1]*T for _ in range(N)] # Stores the predicted trajectories\n",
    "\n",
    "for i in range(T):\n",
    "    a = agg.iloc[[i]].values[0]\n",
    "    tmp = 0\n",
    "    for j, val in enumerate(a):\n",
    "        for k in range(int(val)):\n",
    "            locs[i][tmp+k] = j\n",
    "            if i % D == 0: # insert starting points for each day\n",
    "                pred[tmp+k][i] = j\n",
    "        tmp += int(val)"
   ]
  },
  {
   "cell_type": "markdown",
   "metadata": {
    "id": "wAeJlLSdmcAU"
   },
   "source": [
    "### 2.2 Nighttime Trajectory Recovery\n",
    "\n",
    "Recall that timesteps that are relevant to nighttime are 00:00 - 06:00. This is when $i \\mod D < \\lfloor D/4 \\rfloor $, where $0 \\le i < T$.\n",
    "\n",
    "For these timesteps, we create a cost matrix and run the Linear Sum Assignment algorithm (an optimized version of the Hungarian Algorithm from the `scipy` library) to generate the next set of locations that minimize cost. The costs here are based on the geographical distance. A clearer construction of the cost matrix is shown diagramatically below:\n",
    "\n",
    "Suppose for example that the aggregated dataset is as follows:\n",
    "\n",
    "| Time | Loc. 1 | Loc. 2 | Loc. 3 |\n",
    "| ---- | ------ | ------ | ------ |\n",
    "| 1    | 3      | 2      | 1      |\n",
    "| 2    | 2      | 1      | 3      |\n",
    "| 3    | 2      | 0      | 4      |\n",
    "\n",
    "We can obviously enumerate these people (and locations) and say that for the first timestep, we have the following:\n",
    "\n",
    "| Traj. | Time 1 | Time 2 | Time 3 |\n",
    "| ----- | ------ | ------ | ------ |\n",
    "| **1** | 1      |        |        |\n",
    "| **2** | 1      |        |        |\n",
    "| **3** | 1      |        |        |\n",
    "| **4** | 2      |        |        |\n",
    "| **5** | 2      |        |        |\n",
    "| **6** | 3      |        |        |\n",
    "\n",
    "We need to work out who goes where next for the second timestep. The locations available are those available in the second timestep of the aggregated dataset. The cost of a user being in a particular location is given by the heuristics in *Xu et al.* (2017). The *cost* matrix for transitioning to timestep 2 is as follows:\n",
    "\n",
    "| Traj. | Loc. 1 | Loc. 1 | Loc. 2 | Loc. 3 | Loc. 3 | Loc. 3 |\n",
    "| ----- | ------ | ------ | ------ | ------ | ------ | ------ |\n",
    "| **1** |cost(1,1)|cost(1,1)|cost(1,2)|cost(1,3)|cost(1,3)|cost(1,3)|\n",
    "| **2** |cost(1,1)|cost(1,1)|cost(1,2)|cost(1,3)|cost(1,3)|cost(1,3)|\n",
    "| **3** |cost(1,1)|cost(1,1)|cost(1,2)|cost(1,3)|cost(1,3)|cost(1,3)|\n",
    "| **4** |cost(2,1)|cost(2,1)|cost(2,2)|cost(2,3)|cost(2,3)|cost(2,3)|\n",
    "| **5** |cost(2,1)|cost(2,1)|cost(2,2)|cost(2,3)|cost(2,3)|cost(2,3)|\n",
    "| **6** |cost(3,1)|cost(3,1)|cost(3,2)|cost(3,3)|cost(3,3)|cost(3,3)|\n",
    "\n",
    "This generates an assignment of trajectories to locations, which we can add to our predictions:\n",
    "\n",
    "| Traj. | Time 1 | Time 2 | Time 3 |\n",
    "| ----- | ------ | ------ | ------ |\n",
    "| **1** | 1      | 1      |        |\n",
    "| **2** | 1      | 1      |        |\n",
    "| **3** | 1      | 2      |        |\n",
    "| **4** | 2      | 3      |        |\n",
    "| **5** | 2      | 3      |        |\n",
    "| **6** | 3      | 3      |        |\n",
    "\n",
    "For the third timestep, the cost matrix columns relate to the locations available in the third timestep of the aggregated dataset.\n",
    "\n",
    "| Traj. | Loc. 1 | Loc. 1 | Loc. 3 | Loc. 3 | Loc. 3 | Loc. 3 |\n",
    "| ----- | ------ | ------ | ------ | ------ | ------ | ------ |\n",
    "| 1 |cost(1,1)|cost(1,1)|cost(1,3)|cost(1,3)|cost(1,3)|cost(1,3)|\n",
    "| 2 |cost(1,1)|cost(1,1)|cost(1,3)|cost(1,3)|cost(1,3)|cost(1,3)|\n",
    "| 3 |cost(2,1)|cost(2,1)|cost(2,3)|cost(2,3)|cost(2,3)|cost(2,3)|\n",
    "| 4 |cost(3,1)|cost(3,1)|cost(3,3)|cost(3,3)|cost(3,3)|cost(3,3)|\n",
    "| 5 |cost(3,1)|cost(3,1)|cost(3,3)|cost(3,3)|cost(3,3)|cost(3,3)|\n",
    "| 6 |cost(3,1)|cost(3,1)|cost(3,3)|cost(3,3)|cost(3,3)|cost(3,3)|\n",
    "\n",
    "This generates an assignment of trajectories to locations, which we can add to our predictions:\n",
    "\n",
    "| Traj. | Time 1 | Time 2 | Time 3 |\n",
    "| ----- | ------ | ------ | ------ |\n",
    "| **1** | 1      | 1      | 1      |\n",
    "| **2** | 1      | 1      | 1      |\n",
    "| **3** | 1      | 2      | 3      |\n",
    "| **4** | 2      | 3      | 3      |\n",
    "| **5** | 2      | 3      | 3      |\n",
    "| **6** | 3      | 3      | 3      |\n"
   ]
  },
  {
   "cell_type": "code",
   "execution_count": 6,
   "metadata": {
    "colab": {
     "base_uri": "https://localhost:8080/"
    },
    "id": "TXTGCPqJEyyD",
    "outputId": "e32d0ca7-19ab-4ca1-ea21-9be4c26ea9a1"
   },
   "outputs": [
    {
     "name": "stdout",
     "output_type": "stream",
     "text": [
      "Night 0 processing...\n",
      "Night 1 processing...\n",
      "Night 2 processing...\n",
      "Night 3 processing...\n",
      "Night 4 processing...\n",
      "Night 5 processing...\n",
      "Night 6 processing...\n",
      "Night 7 processing...\n",
      "[2, 2, 2, 2, 2, 2, 2, 3, 3, 4, 4, 5, 5, 5, 5, 5, 5, 5, 5, 5, 5, 5, 5, 5, 5, 5, 5, 5, 5, 5, 5, 5, 5, 6, 6, 6, 6, 6, 6, 6, 6, 6, 6, 6, 6, 6, 6, 6, 6, 7, 7, 7, 7, 7, 7, 7, 7, 7, 7, 8, 8, 8, 8, 8, 8, 8, 8, 8, 8, 8, 8, 8, 8, 8, 8, 8, 8, 8, 8, 8, 8, 8, 8, 8, 8, 8, 8, 8, 8, 8, 8, 8, 8, 8, 8, 8, 8, 8, 8, 8, 8, 8, 8, 8, 8, 8, 8, 8, 8, 8, 8, 8, 8, 8, 8, 8, 8, 8, 8, 8, 8, 8, 8, 8, 8, 8, 8, 8, 8, 8, 8, 8, 8, 8, 8, 8, 8, 8, 8, 8, 8, 8, 8, 8, 8, 8, 8, 8, 8, 8, 8, 8, 8, 8, 8, 8, 8, 8, 8, 8, 8, 8, 8, 8, 8, 8, 8, 8, 8, 8, 8, 8, 8, 8, 8, 8, 8, 8, 7, 7]\n",
      "[5, 5, 6, 6, 6, 6, 20, 20, 20, 20, 20, 20, 20, 20, 20, 20, 20, 20, 20, 20, 20, 20, 20, 20, 20, 20, 20, 20, 20, 20, 20, 20, 20, 20, 20, 20, 20, 20, 20, 20, 20, 20, 20, 20, 20, 20, 20, 20, 20, 20, 20, 20, 20, 20, 20, 20, 20, 20, 20, 20, 20, 20, 20, 20, 20, 20, 20, 20, 20, 20, 20, 20, 20, 20, 20, 20, 20, 20, 20, 20, 20, 20, 20, 20, 20, 20, 20, 20, 32, 32, 32, 32, 32, 32, 32, 32, 32, 32, 32, 32, 32, 32, 20, 6, 6, 6, 6, 5, 5, 5, 4, 4, 4, 4, 4, 4, 4, 4, 4, 4, 4, 4, 4, 4, 4, 4, 4, 4, 4, 4, 4, 4, 4, 4, 4, 4, 4, 4, 4, 4, 4, 4, 4, 4, 4, 4, 4, 4, 4, 4, 4, 4, 4, 4, 4, 4, 4, 4, 4, 4, 4, 4, 4, 4, 4, 4, 4, 4, 4, 4, 4, 4, 4, 4, 4, 4, 4, 4, 4, 4]\n",
      "[6, 6, 8, 21, 21, 22, 22, 35, 35, 35, 35, 35, 35, 35, 35, 35, 35, 35, 35, 35, 35, 35, 35, 35, 35, 35, 35, 35, 35, 35, 35, 35, 35, 35, 35, 35, 35, 35, 35, 35, 35, 35, 35, 35, 35, 35, 35, 35, 35, 35, 35, 35, 35, 35, 35, 35, 35, 35, 35, 35, 35, 35, 35, 35, 35, 35, 35, 35, 35, 35, 35, 35, 35, 35, 35, 35, 35, 35, 35, 35, 35, 35, 35, 35, 35, 35, 35, 35, 35, 35, 35, 35, 35, 35, 35, 35, 35, 35, 35, 35, 35, 35, 35, 35, 35, 35, 35, 35, 35, 35, 35, 35, 35, 35, 35, 35, 35, 35, 35, 35, 35, 35, 35, 35, 35, 35, 35, 35, 35, 35, 35, 35, 35, 35, 35, 35, 35, 35, 35, 35, 35, 35, 35, 35, 35, 35, 35, 35, 35, 35, 35, 35, 35, 35, 35, 35, 35, 35, 35, 35, 35, 35, 35, 35, 35, 35, 35, 35, 35, 35, 35, 35, 35, 35, 35, 35, 35, 35, 35, 35]\n",
      "[14, 14, 14, 14, 14, 14, 14, 14, 14, 14, 14, 14, 14, 14, 14, 14, 14, 14, 14, 14, 14, 14, 14, 14, 14, 14, 14, 14, 14, 14, 14, 14, 14, 14, 14, 14, 14, 14, 14, 14, 14, 14, 14, 14, 14, 14, 14, 14, 14, 14, 14, 14, 14, 14, 14, 14, 14, 14, 14, 14, 14, 14, 14, 14, 14, 14, 14, 14, 14, 14, 14, 14, 14, 14, 14, 14, 14, 14, 14, 14, 14, 14, 14, 14, 14, 14, 14, 14, 14, 14, 14, 14, 14, 14, 14, 14, 14, 14, 14, 14, 14, 14, 14, 14, 14, 14, 14, 14, 14, 14, 14, 14, 14, 14, 14, 14, 14, 14, 14, 14, 14, 14, 14, 14, 14, 14, 14, 14, 14, 14, 14, 14, 14, 14, 14, 14, 14, 14, 14, 14, 14, 14, 14, 14, 14, 14, 14, 14, 14, 14, 14, 14, 14, 14, 14, 14, 14, 14, 14, 14, 14, 14, 14, 14, 14, 14, 14, 14, 14, 14, 14, 14, 14, 14, 14, 14, 14, 14, 14, 14]\n",
      "[47, 47, 47, 47, 47, 47, 47, 47, 47, 47, 47, 47, 47, 47, 47, 47, 47, 47, 47, 47, 47, 47, 47, 47, 47, 47, 47, 47, 47, 47, 47, 47, 47, 47, 47, 47, 47, 47, 47, 47, 47, 47, 47, 47, 47, 47, 47, 47, 47, 47, 47, 47, 47, 47, 47, 47, 62, 48, 48, 48, 48, 48, 48, 48, 48, 48, 48, 48, 48, 48, 48, 48, 48, 48, 48, 48, 48, 48, 48, 48, 48, 48, 48, 48, 48, 48, 48, 48, 48, 48, 48, 48, 48, 48, 48, 48, 48, 48, 48, 48, 48, 48, 48, 48, 48, 48, 48, 48, 48, 48, 48, 48, 48, 48, 48, 48, 48, 48, 48, 48, 48, 48, 48, 48, 48, 48, 48, 48, 48, 48, 48, 48, 48, 48, 48, 48, 48, 48, 48, 48, 48, 48, 48, 48, 48, 48, 48, 48, 48, 48, 48, 48, 48, 48, 48, 48, 48, 48, 48, 48, 48, 48, 48, 48, 48, 48, 48, 48, 48, 48, 48, 48, 48, 48, 48, 48, 48, 48, 48, 48]\n"
     ]
    }
   ],
   "source": [
    "for i in [x for x in range(T) if x % D < D // 4 and x + 1 < T]:\n",
    "    if i % D == 0: print(f\"Night {i//D} processing...\")\n",
    "    cost = np.zeros((N,N))\n",
    "    for u in range(N): # users\n",
    "        for l in range(N): # locations\n",
    "            loc_i = grid[pred[u][i]]\n",
    "            loc_j = grid[locs[i+1][l]]\n",
    "            cost[u][l] = math.dist(loc_i, loc_j)\n",
    "    row_assn, col_assn = scipy.optimize.linear_sum_assignment(cost, maximize=False)\n",
    "    for u, l in zip(row_assn, col_assn):\n",
    "        pred[u][i+1] = locs[i+1][l]\n",
    "\n",
    "preview_matrix(pred, 5, D // 4)"
   ]
  },
  {
   "cell_type": "markdown",
   "metadata": {
    "id": "9E3qz0OFGElu"
   },
   "source": [
    "### 2.3 Daytime Trajectory Recovery\n",
    "\n",
    "Recall that timesteps that are relevant to daytime are 06:00 - 24:00 (end of day). This is when $i \\mod D \\ge \\lfloor D/4 \\rfloor$, where $0 \\le i < T$.\n",
    "\n",
    "For these timesteps, we create a cost matrix and run the Linear Sum Assignment algorithm to generate the next set of locations that minimize cost. The costs here are based on geographical distance from the next estimated location. The next estimated location is provided by a velocity equation in Xu et. al.'s paper: \"$l_i^{t+1} = q_i^t + (q_i^t - q_i^{t-1})$, where $l_i^{t+1}$ is the next estimated location for the $i$-th trajectory, and $q_i^t$ is the location at timestamp $t$ for the same trajectory.\""
   ]
  },
  {
   "cell_type": "code",
   "execution_count": 7,
   "metadata": {
    "colab": {
     "base_uri": "https://localhost:8080/"
    },
    "id": "pyFwcCPEGN2-",
    "outputId": "520a7999-2711-44e9-c118-e18b34003ab4"
   },
   "outputs": [
    {
     "name": "stdout",
     "output_type": "stream",
     "text": [
      "Day 0 processing...\n",
      "Day 1 processing...\n",
      "Day 2 processing...\n",
      "Day 3 processing...\n",
      "Day 4 processing...\n",
      "Day 5 processing...\n",
      "Day 6 processing...\n",
      "[2, 2, 2, 2, 2, 2, 2, 3, 3, 4, 4, 5, 5, 5, 5, 5, 5, 5, 5, 5, 5, 5, 5, 5, 5, 5, 5, 5, 5, 5, 5, 5, 5, 6, 6, 6, 6, 6, 6, 6, 6, 6, 6, 6, 6, 6, 6, 6, 6, 7, 7, 7, 7, 7, 7, 7, 7, 7, 7, 8, 8, 8, 8, 8, 8, 8, 8, 8, 8, 8, 8, 8, 8, 8, 8, 8, 8, 8, 8, 8, 8, 8, 8, 8, 8, 8, 8, 8, 8, 8, 8, 8, 8, 8, 8, 8, 8, 8, 8, 8, 8, 8, 8, 8, 8, 8, 8, 8, 8, 8, 8, 8, 8, 8, 8, 8, 8, 8, 8, 8, 8, 8, 8, 8, 8, 8, 8, 8, 8, 8, 8, 8, 8, 8, 8, 8, 8, 8, 8, 8, 8, 8, 8, 8, 8, 8, 8, 8, 8, 8, 8, 8, 8, 8, 8, 8, 8, 8, 8, 8, 8, 8, 8, 8, 8, 8, 8, 8, 8, 8, 8, 8, 8, 8, 8, 8, 8, 8, 7, 7, 7, 7, 7, 7, 7, 7, 7, 7, 7, 6, 5, 5, 5, 5, 5, 5, 5, 5, 5, 5, 5, 5, 5, 5, 5, 5, 5, 5, 5, 5, 5, 5, 5, 5, 5, 5, 5, 5, 5, 5, 5, 5, 5, 5, 5, 5, 5, 5, 5, 5, 5, 5, 5, 5, 5, 5, 5, 5, 5, 5, 5, 5, 5, 5, 5, 5, 5, 5, 5, 5, 5, 5, 5, 5, 5, 5, 5, 5, 5, 5, 5, 5, 5, 5, 5, 5, 5, 5, 5, 5, 5, 5, 5, 5, 5, 5, 5, 5, 5, 5, 5, 5, 5, 5, 5, 5, 5, 5, 5, 5, 5, 5, 5, 5, 5, 5, 5, 5, 5, 5, 5, 5, 5, 5, 5, 5, 5, 5, 5, 5, 5, 5, 5, 5, 5, 5, 5, 5, 5, 5, 5, 5, 5, 5, 5, 5, 5, 5, 5, 5, 5, 5, 5, 5, 5, 5, 5, 5, 5, 5, 5, 5, 5, 5, 5, 5, 5, 5, 5, 5, 5, 5, 5, 5, 5, 5, 5, 5, 5, 5, 5, 5, 5, 5, 5, 5, 5, 5, 5, 5, 5, 5, 5, 5, 5, 5, 5, 5, 5, 5, 5, 5, 5, 5, 5, 5, 5, 5, 5, 5, 5, 5, 5, 5, 5, 5, 5, 5, 5, 5, 5, 5, 5, 5, 5, 5, 5, 5, 5, 5, 5, 5, 5, 5, 5, 5, 5, 5, 5, 5, 5, 5, 5, 5, 5, 5, 5, 5, 5, 5, 5, 5, 5, 5, 5, 5, 5, 5, 5, 5, 5, 5, 5, 5, 5, 5, 5, 5, 5, 5, 5, 5, 5, 5, 5, 5, 5, 5, 5, 5, 5, 5, 5, 5, 5, 5, 5, 5, 5, 5, 5, 5, 5, 5, 5, 5, 5, 5, 5, 5, 5, 5, 5, 5, 5, 5, 5, 5, 5, 5, 5, 5, 5, 5, 5, 5, 5, 5, 5, 5, 5, 5, 5, 5, 5, 5, 5, 5, 5, 5, 5, 5, 5, 5, 5, 5, 5, 5, 5, 5, 5, 5, 5, 5, 5, 5, 5, 5, 5, 5, 5, 5, 5, 5, 5, 5, 5, 5, 5, 5, 5, 5, 5, 5, 5, 5, 5, 5, 5, 5, 5, 5, 5, 5, 5, 5, 5, 5, 5, 5, 5, 5, 5, 5, 5, 5, 5, 5, 5, 5, 5, 5, 5, 5, 5, 5, 5, 5, 5, 5, 5, 5, 5, 5, 5, 5, 5, 5, 5, 5, 5, 5, 5, 5, 5, 5, 5, 5, 5, 5, 5, 5, 5, 5, 5, 5, 5, 5, 5, 5, 5, 5, 5, 5, 5, 5, 5, 5, 5, 5, 5, 5, 5, 5, 5, 5, 5, 5, 5, 5, 5, 5, 5, 5, 5, 5, 5, 5, 5, 5, 5, 5, 5, 4, 4, 4, 3, 3, 2, 3, 3, 3, 3, 2, 2, 2, 1, 1, 0, 0, 0, 0, 0, 0, 0, 0, 0, 0, 0, 0, 0, 0, 0, 0, 0, 0, 0, 0, 0, 0, 0, 0, 0, 0, 0, 0, 0, 0, 0, 0, 0, 0, 0, 0, 0, 0, 0, 0, 0, 0, 0, 0, 0, 0, 0, 0, 0, 0, 0, 0, 0, 0, 0, 0, 0, 0, 0, 0, 0, 0]\n",
      "[5, 5, 6, 6, 6, 6, 20, 20, 20, 20, 20, 20, 20, 20, 20, 20, 20, 20, 20, 20, 20, 20, 20, 20, 20, 20, 20, 20, 20, 20, 20, 20, 20, 20, 20, 20, 20, 20, 20, 20, 20, 20, 20, 20, 20, 20, 20, 20, 20, 20, 20, 20, 20, 20, 20, 20, 20, 20, 20, 20, 20, 20, 20, 20, 20, 20, 20, 20, 20, 20, 20, 20, 20, 20, 20, 20, 20, 20, 20, 20, 20, 20, 20, 20, 20, 20, 20, 20, 32, 32, 32, 32, 32, 32, 32, 32, 32, 32, 32, 32, 32, 32, 20, 6, 6, 6, 6, 5, 5, 5, 4, 4, 4, 4, 4, 4, 4, 4, 4, 4, 4, 4, 4, 4, 4, 4, 4, 4, 4, 4, 4, 4, 4, 4, 4, 4, 4, 4, 4, 4, 4, 4, 4, 4, 4, 4, 4, 4, 4, 4, 4, 4, 4, 4, 4, 4, 4, 4, 4, 4, 4, 4, 4, 4, 4, 4, 4, 4, 4, 4, 4, 4, 4, 4, 4, 4, 4, 4, 4, 4, 4, 4, 4, 4, 4, 5, 5, 5, 5, 5, 6, 6, 6, 6, 6, 6, 6, 6, 6, 6, 6, 6, 6, 6, 6, 5, 5, 4, 3, 3, 3, 3, 2, 2, 2, 2, 2, 2, 2, 2, 2, 2, 2, 2, 2, 2, 2, 2, 2, 2, 2, 2, 2, 2, 2, 2, 2, 2, 2, 2, 2, 2, 2, 2, 2, 2, 2, 2, 2, 2, 2, 93, 93, 93, 93, 93, 93, 93, 93, 93, 93, 93, 93, 93, 93, 93, 93, 93, 93, 93, 93, 93, 93, 93, 93, 93, 93, 93, 93, 93, 93, 93, 93, 93, 93, 93, 93, 93, 93, 93, 93, 92, 92, 92, 92, 92, 92, 92, 92, 92, 92, 92, 92, 92, 92, 92, 93, 93, 93, 93, 93, 93, 93, 93, 93, 93, 93, 93, 93, 93, 78, 78, 78, 78, 78, 78, 78, 78, 78, 78, 78, 78, 78, 78, 78, 78, 78, 78, 78, 78, 78, 78, 78, 78, 78, 78, 78, 78, 78, 78, 78, 78, 78, 78, 78, 78, 78, 78, 78, 78, 78, 78, 78, 78, 78, 78, 78, 78, 78, 78, 78, 78, 78, 78, 78, 78, 78, 78, 78, 78, 78, 78, 78, 78, 78, 78, 78, 78, 78, 78, 78, 78, 78, 78, 78, 78, 78, 78, 78, 78, 78, 78, 78, 78, 78, 78, 78, 78, 78, 78, 78, 78, 78, 78, 78, 78, 78, 78, 78, 78, 78, 78, 78, 78, 78, 78, 78, 78, 78, 78, 78, 78, 78, 78, 78, 78, 78, 78, 78, 78, 78, 78, 78, 78, 78, 78, 78, 78, 78, 78, 78, 78, 78, 78, 78, 78, 78, 78, 78, 78, 78, 78, 78, 78, 78, 78, 78, 78, 78, 78, 78, 78, 78, 78, 78, 78, 78, 78, 78, 78, 78, 78, 78, 78, 78, 78, 78, 78, 78, 78, 78, 78, 78, 78, 78, 78, 78, 78, 78, 78, 78, 78, 78, 78, 78, 78, 78, 78, 78, 78, 78, 78, 78, 78, 78, 78, 78, 78, 78, 78, 78, 78, 78, 78, 78, 78, 78, 78, 78, 78, 78, 78, 78, 78, 78, 78, 78, 78, 78, 78, 78, 78, 78, 78, 78, 78, 78, 78, 78, 78, 78, 78, 78, 78, 78, 78, 78, 78, 78, 78, 78, 78, 78, 78, 78, 78, 78, 78, 78, 78, 78, 78, 78, 78, 78, 78, 78, 78, 78, 78, 78, 78, 78, 78, 78, 78, 78, 78, 78, 78, 78, 78, 78, 78, 78, 78, 78, 78, 78, 78, 78, 78, 78, 78, 78, 78, 78, 78, 78, 78, 78, 78, 78, 78, 78, 78, 78, 78, 78, 78, 78, 78, 78, 78, 78, 78, 78, 78, 78, 78, 78, 78, 78, 78, 78, 78, 78, 78, 78, 78, 78, 78, 78, 78, 78, 78, 78, 78, 78, 78, 78, 78, 78, 78, 78, 78, 78, 78, 78, 78, 78, 78, 78, 78, 78, 78, 78, 78, 78, 78, 78, 78, 78, 78, 78, 78, 78, 78, 78, 78, 78, 78, 78, 78, 78, 78, 78, 78, 78, 78, 78, 78, 78, 78, 78, 78, 78, 78, 78, 78, 78, 78, 78, 78, 78, 78, 78, 78, 78, 78, 78, 78, 78, 78, 78, 78, 78, 78, 78, 78]\n",
      "[6, 6, 8, 21, 21, 22, 22, 35, 35, 35, 35, 35, 35, 35, 35, 35, 35, 35, 35, 35, 35, 35, 35, 35, 35, 35, 35, 35, 35, 35, 35, 35, 35, 35, 35, 35, 35, 35, 35, 35, 35, 35, 35, 35, 35, 35, 35, 35, 35, 35, 35, 35, 35, 35, 35, 35, 35, 35, 35, 35, 35, 35, 35, 35, 35, 35, 35, 35, 35, 35, 35, 35, 35, 35, 35, 35, 35, 35, 35, 35, 35, 35, 35, 35, 35, 35, 35, 35, 35, 35, 35, 35, 35, 35, 35, 35, 35, 35, 35, 35, 35, 35, 35, 35, 35, 35, 35, 35, 35, 35, 35, 35, 35, 35, 35, 35, 35, 35, 35, 35, 35, 35, 35, 35, 35, 35, 35, 35, 35, 35, 35, 35, 35, 35, 35, 35, 35, 35, 35, 35, 35, 35, 35, 35, 35, 35, 35, 35, 35, 35, 35, 35, 35, 35, 35, 35, 35, 35, 35, 35, 35, 35, 35, 35, 35, 35, 35, 35, 35, 35, 35, 35, 35, 35, 35, 35, 35, 35, 35, 35, 35, 35, 35, 35, 35, 35, 35, 35, 35, 35, 35, 35, 35, 35, 35, 35, 35, 35, 35, 35, 35, 35, 35, 35, 35, 35, 35, 35, 35, 35, 35, 35, 35, 35, 35, 35, 35, 35, 35, 35, 35, 35, 35, 35, 35, 35, 35, 35, 35, 35, 35, 35, 35, 35, 35, 35, 35, 35, 35, 35, 35, 35, 35, 35, 35, 35, 35, 35, 35, 35, 35, 35, 35, 35, 35, 35, 35, 35, 35, 35, 35, 35, 35, 35, 36, 36, 36, 36, 36, 36, 36, 36, 36, 36, 36, 36, 36, 36, 36, 36, 36, 36, 36, 36, 36, 36, 36, 36, 36, 36, 36, 36, 36, 36, 36, 36, 36, 36, 36, 36, 36, 36, 36, 36, 36, 36, 36, 36, 36, 36, 36, 36, 36, 36, 36, 36, 36, 36, 36, 36, 36, 36, 36, 36, 36, 36, 36, 36, 36, 36, 36, 36, 36, 36, 36, 36, 36, 36, 36, 36, 36, 36, 36, 36, 36, 36, 36, 36, 36, 36, 36, 36, 36, 36, 36, 36, 36, 36, 36, 36, 36, 36, 36, 36, 36, 36, 36, 36, 36, 36, 36, 36, 36, 36, 36, 36, 36, 36, 36, 36, 36, 36, 36, 36, 36, 36, 36, 36, 36, 36, 36, 36, 36, 36, 36, 36, 36, 36, 36, 36, 36, 36, 36, 36, 36, 36, 36, 36, 36, 36, 36, 36, 36, 36, 36, 36, 36, 36, 36, 36, 36, 36, 36, 36, 36, 36, 36, 36, 36, 36, 36, 36, 36, 36, 36, 36, 36, 36, 36, 36, 36, 36, 36, 36, 36, 36, 36, 36, 36, 36, 36, 36, 36, 36, 36, 36, 36, 36, 36, 36, 36, 36, 36, 36, 36, 36, 36, 36, 36, 36, 36, 36, 36, 36, 36, 36, 36, 36, 36, 36, 36, 36, 36, 36, 36, 36, 36, 36, 36, 36, 36, 36, 36, 36, 36, 36, 36, 36, 36, 36, 36, 36, 36, 36, 36, 36, 36, 36, 36, 36, 36, 36, 36, 36, 36, 36, 36, 36, 36, 36, 36, 36, 36, 36, 36, 36, 36, 36, 36, 36, 36, 36, 36, 36, 36, 36, 36, 36, 36, 36, 36, 36, 36, 36, 36, 36, 36, 36, 36, 36, 36, 36, 36, 36, 36, 36, 36, 36, 36, 36, 36, 36, 36, 36, 36, 36, 36, 36, 36, 36, 36, 36, 36, 36, 36, 36, 36, 36, 36, 36, 36, 36, 36, 36, 36, 36, 36, 36, 36, 36, 36, 36, 36, 36, 36, 36, 36, 36, 36, 36, 36, 36, 36, 36, 36, 36, 36, 36, 36, 36, 36, 36, 36, 36, 36, 36, 36, 36, 36, 36, 36, 36, 36, 36, 36, 36, 36, 36, 36, 36, 36, 36, 36, 36, 36, 36, 36, 36, 36, 36, 36, 36, 36, 36, 36, 36, 36, 36, 36, 36, 36, 36, 36, 36, 36, 36, 36, 36, 36, 36, 36, 36, 36, 36, 36, 36, 36, 36, 36, 36, 36, 36, 36, 36, 36, 36, 36, 36, 36, 36, 36, 36, 36, 36, 36, 36, 36, 36, 36, 36, 36, 36, 36, 36, 36, 36, 36, 36, 36, 36, 36, 36, 36, 36, 36, 36, 36, 36, 36, 36, 36, 36, 36, 36, 36, 36, 36, 36, 36, 36]\n",
      "[14, 14, 14, 14, 14, 14, 14, 14, 14, 14, 14, 14, 14, 14, 14, 14, 14, 14, 14, 14, 14, 14, 14, 14, 14, 14, 14, 14, 14, 14, 14, 14, 14, 14, 14, 14, 14, 14, 14, 14, 14, 14, 14, 14, 14, 14, 14, 14, 14, 14, 14, 14, 14, 14, 14, 14, 14, 14, 14, 14, 14, 14, 14, 14, 14, 14, 14, 14, 14, 14, 14, 14, 14, 14, 14, 14, 14, 14, 14, 14, 14, 14, 14, 14, 14, 14, 14, 14, 14, 14, 14, 14, 14, 14, 14, 14, 14, 14, 14, 14, 14, 14, 14, 14, 14, 14, 14, 14, 14, 14, 14, 14, 14, 14, 14, 14, 14, 14, 14, 14, 14, 14, 14, 14, 14, 14, 14, 14, 14, 14, 14, 14, 14, 14, 14, 14, 14, 14, 14, 14, 14, 14, 14, 14, 14, 14, 14, 14, 14, 14, 14, 14, 14, 14, 14, 14, 14, 14, 14, 14, 14, 14, 14, 14, 14, 14, 14, 14, 14, 14, 14, 14, 14, 14, 14, 14, 14, 14, 14, 14, 14, 14, 14, 14, 14, 14, 14, 14, 14, 14, 14, 14, 14, 14, 14, 14, 14, 14, 14, 14, 14, 14, 14, 14, 14, 14, 14, 14, 14, 14, 14, 14, 14, 14, 14, 14, 14, 14, 14, 14, 14, 14, 14, 14, 14, 14, 14, 14, 14, 14, 14, 14, 14, 14, 14, 14, 14, 14, 14, 14, 14, 14, 14, 14, 14, 14, 14, 14, 14, 14, 14, 14, 14, 14, 14, 14, 14, 14, 14, 14, 14, 14, 14, 14, 14, 14, 14, 14, 14, 14, 14, 14, 14, 14, 14, 14, 14, 14, 14, 14, 14, 14, 14, 14, 14, 14, 14, 14, 14, 14, 14, 14, 14, 14, 14, 14, 14, 14, 14, 14, 14, 14, 14, 14, 14, 14, 14, 14, 14, 14, 14, 14, 14, 14, 14, 14, 14, 14, 14, 14, 14, 14, 14, 14, 14, 14, 14, 14, 14, 14, 14, 14, 14, 14, 14, 14, 14, 14, 14, 14, 14, 14, 14, 14, 14, 14, 14, 14, 14, 14, 14, 14, 14, 14, 14, 14, 14, 14, 14, 14, 14, 14, 14, 14, 14, 14, 14, 14, 14, 14, 14, 14, 14, 14, 14, 14, 14, 14, 14, 14, 14, 14, 14, 14, 14, 14, 14, 14, 14, 14, 14, 14, 14, 14, 14, 14, 14, 14, 14, 14, 14, 14, 14, 14, 14, 14, 14, 14, 14, 14, 14, 14, 14, 14, 14, 14, 14, 14, 14, 14, 14, 14, 14, 14, 14, 14, 14, 14, 14, 14, 14, 14, 14, 14, 14, 14, 14, 14, 14, 14, 14, 14, 14, 14, 14, 14, 14, 14, 14, 14, 14, 14, 14, 14, 14, 14, 14, 14, 14, 14, 14, 14, 14, 14, 14, 14, 14, 14, 14, 14, 14, 14, 14, 14, 14, 14, 14, 14, 14, 14, 14, 14, 14, 14, 14, 14, 14, 14, 14, 14, 14, 14, 14, 14, 14, 14, 14, 14, 14, 14, 14, 14, 14, 14, 14, 14, 14, 14, 14, 14, 14, 14, 14, 14, 14, 14, 14, 14, 14, 14, 14, 14, 14, 14, 14, 14, 14, 14, 14, 14, 14, 14, 14, 14, 14, 14, 14, 14, 14, 14, 14, 14, 14, 14, 14, 14, 14, 14, 14, 14, 14, 14, 14, 14, 14, 14, 14, 14, 14, 14, 14, 14, 14, 14, 14, 14, 14, 14, 14, 14, 14, 14, 14, 14, 14, 14, 14, 14, 14, 14, 14, 14, 14, 14, 14, 14, 14, 14, 14, 14, 14, 14, 14, 14, 14, 14, 14, 14, 14, 14, 14, 14, 14, 14, 14, 14, 14, 14, 14, 14, 14, 14, 14, 14, 14, 14, 14, 14, 14, 14, 14, 14, 14, 14, 14, 14, 14, 14, 14, 14, 14, 14, 14, 14, 14, 14, 14, 14, 14, 14, 14, 14, 14, 14, 14, 14, 14, 14, 14, 14, 14, 14, 14, 14, 14, 14, 14, 14, 14, 14, 14, 14, 14, 14, 14, 14, 14, 14, 14, 14, 14, 14, 14, 14, 14, 14, 14, 14, 14, 14, 14, 14, 14, 14, 14, 14, 14, 14, 14, 14, 14, 14, 14, 14, 14, 14, 14, 14, 14, 14, 14, 14, 14, 14, 14, 14, 14, 14, 14, 14, 14, 14, 14, 14, 14, 14, 14, 14, 14, 14]\n",
      "[47, 47, 47, 47, 47, 47, 47, 47, 47, 47, 47, 47, 47, 47, 47, 47, 47, 47, 47, 47, 47, 47, 47, 47, 47, 47, 47, 47, 47, 47, 47, 47, 47, 47, 47, 47, 47, 47, 47, 47, 47, 47, 47, 47, 47, 47, 47, 47, 47, 47, 47, 47, 47, 47, 47, 47, 62, 48, 48, 48, 48, 48, 48, 48, 48, 48, 48, 48, 48, 48, 48, 48, 48, 48, 48, 48, 48, 48, 48, 48, 48, 48, 48, 48, 48, 48, 48, 48, 48, 48, 48, 48, 48, 48, 48, 48, 48, 48, 48, 48, 48, 48, 48, 48, 48, 48, 48, 48, 48, 48, 48, 48, 48, 48, 48, 48, 48, 48, 48, 48, 48, 48, 48, 48, 48, 48, 48, 48, 48, 48, 48, 48, 48, 48, 48, 48, 48, 48, 48, 48, 48, 48, 48, 48, 48, 48, 48, 48, 48, 48, 48, 48, 48, 48, 48, 48, 48, 48, 48, 48, 48, 48, 48, 48, 48, 48, 48, 48, 48, 48, 48, 48, 48, 48, 48, 48, 48, 48, 48, 48, 48, 48, 48, 48, 48, 48, 48, 48, 48, 48, 48, 48, 48, 48, 48, 48, 48, 48, 48, 48, 48, 48, 48, 48, 48, 48, 48, 48, 48, 48, 48, 48, 48, 48, 48, 48, 48, 48, 48, 48, 48, 48, 48, 48, 48, 48, 48, 48, 48, 48, 48, 48, 48, 48, 48, 48, 48, 48, 48, 48, 48, 48, 48, 48, 48, 48, 48, 48, 48, 48, 48, 48, 48, 48, 48, 48, 48, 48, 48, 48, 48, 48, 48, 48, 48, 48, 48, 48, 48, 48, 48, 48, 48, 48, 48, 48, 48, 48, 48, 48, 48, 48, 48, 48, 48, 48, 48, 48, 48, 48, 48, 48, 48, 48, 48, 48, 48, 48, 48, 48, 48, 48, 48, 48, 48, 48, 48, 48, 48, 48, 48, 48, 48, 48, 48, 48, 48, 48, 48, 48, 48, 48, 48, 48, 48, 48, 48, 48, 48, 48, 48, 48, 48, 48, 48, 48, 48, 48, 48, 48, 48, 48, 48, 48, 48, 48, 48, 48, 48, 48, 48, 48, 48, 48, 48, 48, 48, 48, 48, 48, 48, 48, 48, 48, 48, 48, 48, 48, 48, 48, 48, 48, 48, 48, 48, 48, 48, 48, 48, 48, 48, 48, 48, 48, 48, 48, 48, 48, 48, 48, 48, 48, 48, 48, 48, 48, 48, 48, 48, 48, 48, 48, 48, 48, 48, 48, 48, 48, 48, 48, 48, 48, 48, 48, 48, 48, 48, 48, 48, 48, 48, 48, 48, 48, 48, 48, 48, 48, 48, 48, 48, 48, 48, 48, 48, 48, 48, 48, 48, 48, 48, 48, 48, 48, 48, 48, 48, 48, 48, 48, 48, 48, 48, 48, 48, 48, 48, 48, 48, 48, 48, 48, 48, 48, 48, 48, 48, 48, 48, 48, 48, 48, 48, 48, 48, 48, 48, 48, 48, 48, 48, 48, 48, 48, 48, 48, 48, 48, 48, 48, 48, 48, 48, 48, 48, 48, 48, 48, 48, 48, 48, 48, 48, 48, 48, 48, 48, 48, 48, 48, 48, 48, 48, 48, 48, 48, 48, 48, 48, 48, 48, 48, 48, 48, 48, 48, 48, 48, 48, 48, 48, 48, 48, 48, 48, 48, 48, 48, 48, 48, 48, 48, 48, 48, 48, 48, 48, 48, 48, 48, 48, 48, 48, 48, 48, 48, 48, 48, 48, 48, 48, 48, 48, 48, 48, 48, 48, 48, 48, 48, 48, 48, 48, 48, 48, 48, 48, 48, 48, 48, 48, 48, 48, 48, 48, 48, 48, 48, 48, 48, 48, 48, 48, 48, 48, 48, 48, 48, 48, 48, 48, 48, 48, 48, 48, 48, 48, 48, 48, 48, 48, 48, 48, 48, 48, 48, 48, 48, 48, 48, 48, 48, 48, 48, 48, 48, 48, 48, 48, 48, 48, 48, 48, 48, 48, 48, 48, 48, 48, 48, 48, 48, 48, 48, 48, 48, 48, 48, 48, 48, 48, 48, 48, 48, 48, 48, 48, 48, 48, 48, 48, 48, 48, 48, 48, 48, 48, 48, 48, 48, 48, 48, 48, 48, 48, 48, 48, 48, 48, 48, 48, 48, 48, 48, 48, 48, 48, 48, 48, 48, 48, 48, 48, 48, 48, 48, 48, 48, 48, 48, 48, 48, 48, 48, 48, 48, 48, 48, 48, 48, 48, 48, 48, 48, 48, 48, 48, 48, 48, 48]\n"
     ]
    }
   ],
   "source": [
    "for i in [x for x in range(T) if D // 4 <= x % D < D - 1]:\n",
    "    if i % D == D // 4: print(f\"Day {i // D} processing...\")\n",
    "    cost = np.zeros((N,N))\n",
    "    for u in range(N): # users\n",
    "        for l in range(N): # locations\n",
    "            q_t = grid[pred[u][i]]\n",
    "            q_t1 = grid[pred[u][i-1]]\n",
    "            loc_i = (q_t[0]+(q_t[0]-q_t1[0]), q_t[1]+(q_t[1]-q_t1[1]))\n",
    "            loc_j = grid[locs[i+1][l]]\n",
    "            cost[u][l] = math.dist(loc_i, loc_j)\n",
    "    row_assn, col_assn = scipy.optimize.linear_sum_assignment(cost, maximize=False)\n",
    "    for u, l in zip(row_assn, col_assn):\n",
    "        pred[u][i+1] = locs[i+1][l]\n",
    "\n",
    "preview_matrix(pred, 5, D)"
   ]
  },
  {
   "cell_type": "markdown",
   "metadata": {
    "id": "EEy0rlVQGOmw"
   },
   "source": [
    "### 2.4 Across Days Trajectory Recovery\n",
    "\n",
    "We now have several ($T/D$) subtrajectories for $N$ people, each lasting 1 day. We cannot say that we have their full trajectories as we have not yet linked the end of one day (e.g. 23:59) to the start of the next day (00:00). We must link the $i$-th trajectory of one day to the $j$-th trajectory of the next day until with have complete trajectories.\n",
    "\n",
    "We first \"paginate\" the predictions such that each page lasts for 1 day. For each day except the last, we fill in a cost matrix using the entropy and information gain formulations given by *Xu et al.* and run it again through the linear sum assignment algorithm. We record the linkage at each step.\n"
   ]
  },
  {
   "cell_type": "code",
   "execution_count": 8,
   "metadata": {
    "colab": {
     "base_uri": "https://localhost:8080/"
    },
    "id": "5mKMC8comHmm",
    "outputId": "00f12069-7bf6-4081-9e1d-4f893d3ffa6e"
   },
   "outputs": [
    {
     "name": "stdout",
     "output_type": "stream",
     "text": [
      "Day 0 processing...\n",
      "Day 1 processing...\n",
      "Day 2 processing...\n",
      "Day 3 processing...\n",
      "Day 4 processing...\n",
      "Day 5 processing...\n",
      "Day 6 processing...\n"
     ]
    }
   ],
   "source": [
    "for i in range(N):\n",
    "    pred[i] = [pred[i][j:j+D] for j in range(0,T,D)]\n",
    "\n",
    "days = [[x[i] for x in pred] for i in range(math.ceil(T/D))]\n",
    "links = [None for _ in range(len(days)-1)]\n",
    "\n",
    "for i in range(len(days)-1):\n",
    "    print(f\"Day {i} processing...\")\n",
    "    cost = np.zeros((N,N))\n",
    "    for a in range(N): # trajectory i\n",
    "        for b in range(N): # trajectory j\n",
    "            cost[a][b] = trajectory_gain(days[i][a], days[i+1][b])\n",
    "    row_assn, col_assn = scipy.optimize.linear_sum_assignment(cost, maximize=False)\n",
    "    links[i] = col_assn"
   ]
  },
  {
   "cell_type": "markdown",
   "metadata": {
    "id": "MDyq4mlfe1yL"
   },
   "source": [
    "We recover the full trajectories by traversing the linkages."
   ]
  },
  {
   "cell_type": "code",
   "execution_count": 9,
   "metadata": {
    "colab": {
     "base_uri": "https://localhost:8080/"
    },
    "id": "Z0jr5MRi8a9T",
    "outputId": "ee28bebe-4f85-46e9-ef6e-789e8723d32d"
   },
   "outputs": [
    {
     "name": "stdout",
     "output_type": "stream",
     "text": [
      "[2, 2, 2, 2, 2, 2, 2, 3, 3, 4, 4, 5, 5, 5, 5, 5, 5, 5, 5, 5, 5, 5, 5, 5, 5, 5, 5, 5, 5, 5, 5, 5, 5, 6, 6, 6, 6, 6, 6, 6, 6, 6, 6, 6, 6, 6, 6, 6, 6, 7, 7, 7, 7, 7, 7, 7, 7, 7, 7, 8, 8, 8, 8, 8, 8, 8, 8, 8, 8, 8, 8, 8, 8, 8, 8, 8, 8, 8, 8, 8, 8, 8, 8, 8, 8, 8, 8, 8, 8, 8, 8, 8, 8, 8, 8, 8, 8, 8, 8, 8, 8, 8, 8, 8, 8, 8, 8, 8, 8, 8, 8, 8, 8, 8, 8, 8, 8, 8, 8, 8, 8, 8, 8, 8, 8, 8, 8, 8, 8, 8, 8, 8, 8, 8, 8, 8, 8, 8, 8, 8, 8, 8, 8, 8, 8, 8, 8, 8, 8, 8, 8, 8, 8, 8, 8, 8, 8, 8, 8, 8, 8, 8, 8, 8, 8, 8, 8, 8, 8, 8, 8, 8, 8, 8, 8, 8, 8, 8, 7, 7, 7, 7, 7, 7, 7, 7, 7, 7, 7, 6, 5, 5, 5, 5, 5, 5, 5, 5, 5, 5, 5, 5, 5, 5, 5, 5, 5, 5, 5, 5, 5, 5, 5, 5, 5, 5, 5, 5, 5, 5, 5, 5, 5, 5, 5, 5, 5, 5, 5, 5, 5, 5, 5, 5, 5, 5, 5, 5, 5, 5, 5, 5, 5, 5, 5, 5, 5, 5, 5, 5, 5, 5, 5, 5, 5, 5, 5, 5, 5, 5, 5, 5, 5, 5, 5, 5, 5, 5, 5, 5, 5, 5, 5, 5, 5, 5, 5, 5, 5, 5, 5, 5, 5, 5, 5, 5, 5, 5, 5, 5, 5, 5, 5, 5, 5, 5, 5, 5, 5, 5, 5, 5, 5, 5, 5, 5, 5, 5, 5, 5, 5, 5, 5, 5, 5, 5, 5, 5, 5, 5, 5, 5, 5, 5, 5, 5, 5, 5, 5, 5, 5, 5, 5, 5, 5, 5, 5, 5, 5, 5, 5, 5, 5, 5, 5, 5, 5, 5, 5, 5, 5, 5, 5, 5, 5, 5, 5, 5, 5, 5, 5, 5, 5, 5, 5, 5, 5, 5, 5, 5, 5, 5, 5, 5, 5, 5, 5, 5, 5, 5, 5, 5, 5, 5, 5, 5, 5, 5, 5, 5, 5, 5, 5, 5, 5, 5, 5, 5, 5, 5, 5, 5, 5, 5, 5, 5, 5, 5, 5, 5, 5, 5, 5, 5, 5, 5, 5, 5, 5, 5, 5, 5, 5, 5, 5, 5, 5, 5, 5, 5, 5, 5, 5, 5, 5, 5, 5, 5, 5, 5, 5, 5, 5, 5, 5, 5, 5, 5, 5, 5, 5, 5, 5, 5, 5, 5, 5, 5, 5, 5, 5, 5, 5, 5, 5, 5, 5, 5, 5, 5, 5, 5, 5, 5, 5, 5, 5, 5, 5, 5, 5, 5, 5, 5, 5, 5, 5, 5, 5, 5, 5, 5, 5, 5, 5, 5, 5, 5, 5, 5, 5, 5, 5, 5, 5, 5, 5, 5, 5, 5, 5, 5, 5, 5, 5, 5, 5, 5, 5, 5, 5, 5, 5, 5, 5, 5, 5, 5, 5, 5, 5, 5, 5, 5, 5, 5, 5, 5, 5, 5, 5, 5, 5, 5, 5, 5, 5, 5, 5, 5, 5, 5, 5, 5, 5, 5, 5, 5, 5, 5, 5, 5, 5, 5, 5, 5, 5, 5, 5, 5, 5, 5, 5, 5, 5, 5, 5, 5, 5, 5, 5, 5, 5, 5, 5, 5, 5, 5, 5, 5, 5, 5, 5, 5, 5, 5, 5, 5, 5, 5, 5, 5, 5, 5, 5, 5, 5, 5, 5, 5, 5, 5, 5, 5, 5, 5, 5, 5, 5, 5, 5, 5, 5, 5, 5, 5, 5, 5, 5, 5, 5, 5, 5, 5, 5, 5, 5, 5, 5, 5, 5, 5, 5, 4, 4, 4, 3, 3, 2, 3, 3, 3, 3, 2, 2, 2, 1, 1, 0, 0, 0, 0, 0, 0, 0, 0, 0, 0, 0, 0, 0, 0, 0, 0, 0, 0, 0, 0, 0, 0, 0, 0, 0, 0, 0, 0, 0, 0, 0, 0, 0, 0, 0, 0, 0, 0, 0, 0, 0, 0, 0, 0, 0, 0, 0, 0, 0, 0, 0, 0, 0, 0, 0, 0, 0, 0, 0, 0, 0, 0, 81, 81, 81, 81, 81, 81, 81, 81, 81, 81, 81, 81, 81, 81, 81, 81, 81, 81, 81, 81, 81, 81, 81, 81, 81, 81, 81, 81, 81, 81, 81, 81, 81, 81, 81, 81, 81, 81, 81, 81, 81, 81, 81, 81, 81, 81, 81, 81, 81, 81, 81, 81, 81, 81, 81, 81, 81, 81, 81, 81, 81, 81, 81, 81, 81, 81, 81, 81, 81, 81, 81, 81, 81, 81, 81, 81, 81, 81, 81, 81, 81, 81, 81, 81, 81, 81, 81, 81, 81, 81, 81, 81, 81, 81, 81, 81, 81, 81, 81, 81, 81, 81, 81, 81, 81, 81, 81, 81, 81, 81, 81, 81, 81, 81, 81, 81, 81, 81, 81, 81, 81, 81, 81, 81, 81, 81, 81, 81, 81, 81, 81, 81, 81, 81, 81, 81, 81, 81, 81, 81, 81, 81, 81, 81, 81, 81, 81, 81, 81, 81, 81, 81, 81, 81, 81, 81, 81, 81, 81, 81, 81, 81, 81, 81, 81, 81, 81, 81, 65, 65, 65, 65, 65, 65, 65, 65, 65, 65, 65, 65, 81, 81, 81, 81, 81, 81, 81, 81, 81, 81, 81, 81, 66, 66, 66, 65, 64, 49, 49, 49, 49, 49, 35, 21, 6, 5, 5, 5, 5, 5, 5, 5, 5, 5, 5, 5, 5, 5, 5, 5, 5, 5, 5, 5, 5, 5, 5, 5, 5, 5, 5, 5, 5, 5, 5, 5, 5, 5, 5, 5, 5, 5, 5, 5, 5, 5, 5, 5, 5, 5, 5, 5, 5, 5, 5, 5, 5, 5, 5, 5, 5, 5, 5, 5, 5, 5, 5, 5, 5, 5, 5, 5, 5, 5, 5, 5, 5, 5, 5, 5, 5, 5, 5, 5, 5, 5, 5, 5, 5, 5, 5, 5, 5, 5, 5, 5, 5, 5, 5, 5, 5, 5, 5, 5, 5, 5, 5, 5, 5, 5, 5, 5, 5, 5, 5, 5, 5, 5, 5, 5, 5, 5, 5, 5, 5, 5, 5, 5, 5, 5, 5, 5, 5, 5, 5, 5, 5, 5, 5, 5, 5, 5, 5, 5, 5, 5, 5, 5, 5, 5, 5, 5, 5, 5, 5, 5, 5, 5, 5, 5, 5, 5, 5, 5, 5, 5, 5, 5, 5, 5, 5, 5, 5, 5, 5, 5, 5, 5, 5, 5, 5, 5, 5, 5, 5, 5, 5, 5, 5, 5, 5, 5, 5, 5, 5, 5, 5, 5, 5, 5, 5, 5, 5, 5, 5, 5, 5, 5, 5, 5, 5, 5, 5, 5, 5, 5, 5, 5, 5, 5, 5, 5, 5, 5, 5, 5, 5, 5, 5, 5, 5, 5, 5, 5, 5, 5, 5, 5, 5, 5, 5, 5, 5, 5, 5, 5, 5, 5, 5, 5, 5, 5, 5, 5, 5, 5, 5, 5, 5, 5, 5, 5, 5, 5, 5, 5, 5, 5, 5, 5, 5, 5, 5, 5, 5, 5, 5, 5, 5, 5, 5, 5, 5, 5, 5, 5, 5, 5, 5, 5, 5, 5, 5, 5, 5, 5, 5, 5, 5, 5, 5, 5, 5, 5, 5, 5, 5, 5, 5, 5, 5, 5, 5, 5, 5, 5, 5, 5, 5, 5, 5, 5, 5, 5, 5, 5, 5, 5, 5, 5, 5, 5, 5, 5, 5, 5, 5, 5, 5, 5, 5, 5, 5, 5, 5, 5, 5, 5, 5, 5, 5, 5, 5, 5, 5, 5, 5, 5, 5, 5, 5, 5, 5, 5, 5, 5, 5, 5, 5, 5, 5, 5, 5, 5, 5, 5, 5, 5, 5, 5, 5, 5, 5, 5, 5, 5, 5, 5, 5, 5, 5, 5, 5, 5, 5, 5, 5, 5, 5, 5, 5, 5, 5, 5, 5, 5, 5, 5, 5, 5, 5, 5, 5, 5, 5, 5, 5, 5, 5, 5, 5, 5, 6, 20, 32, 32, 46, 62, 78, 78, 78, 78, 78, 78, 78, 78, 78, 78, 78, 78, 78, 78, 78, 78, 78, 78, 78, 78, 78, 78, 78, 78, 78, 78, 78, 78, 78, 78, 78, 78, 78, 78, 78, 78, 78, 78, 78, 78, 78, 78, 78, 78, 78, 78, 78, 78, 78, 78, 78, 78, 78, 78, 78, 78, 78, 78, 78, 78, 78, 78, 78, 78, 78, 78, 78, 78, 78, 78, 78, 78, 78, 78, 78, 78, 78, 78, 78, 78, 78, 78, 78, 78, 78, 78, 78, 78, 78, 78, 78, 78, 0, 0, 0, 0, 0, 0, 0, 0, 0, 0, 0, 0, 0, 0, 0, 0, 0, 0, 0, 0, 0, 0, 0, 0, 0, 0, 0, 0, 0, 0, 0, 0, 0, 0, 0, 0, 0, 0, 0, 0, 0, 0, 0, 0, 0, 0, 0, 0, 0, 0, 0, 0, 0, 0, 0, 0, 0, 0, 0, 0, 0, 0, 0, 0, 0, 0, 0, 0, 0, 0, 0, 0, 0, 0, 0, 0, 0, 0, 0, 0, 0, 0, 0, 0, 0, 0, 0, 0, 0, 0, 0, 0, 0, 0, 0, 0, 0, 0, 0, 0, 0, 0, 0, 0, 0, 0, 0, 0, 0, 0, 0, 0, 0, 0, 0, 0, 0, 0, 0, 0, 0, 0, 0, 0, 0, 0, 0, 0, 0, 0, 0, 0, 0, 0, 0, 0, 0, 0, 0, 0, 0, 0, 0, 0, 0, 0, 0, 0, 0, 0, 0, 0, 0, 0, 0, 0, 0, 0, 0, 0, 0, 0, 0, 0, 0, 0, 0, 0, 0, 0, 0, 0, 0, 0, 0, 0, 0, 0, 0, 0, 0, 0, 0, 0, 0, 0, 0, 0, 0, 0, 0, 0, 0, 0, 0, 0, 0, 0, 0, 0, 0, 0, 0, 0, 0, 0, 0, 0, 0, 0, 0, 0, 0, 0, 0, 0, 0, 0, 0, 0, 0, 0, 0, 0, 0, 0, 0, 0, 0, 0, 0, 0, 0, 0, 0, 0, 0, 0, 0, 0, 0, 0, 0, 0, 0, 0, 0, 0, 0, 0, 0, 0, 0, 0, 0, 0, 0, 0, 0, 0, 0, 0, 0, 0, 0, 0, 0, 0, 0, 0, 0, 0, 0, 0, 0, 0, 0, 0, 0, 0, 0, 0, 0, 0, 0, 0, 0, 0, 0, 0, 0, 0, 0, 0, 0, 0, 0, 0, 0, 0, 0, 0, 0, 0, 0, 0, 0, 0, 0, 0, 0, 0, 0, 0, 0, 0, 0, 0, 0, 0, 0, 0, 0, 0, 0, 0, 0, 0, 0, 0, 0, 0, 0, 0, 0, 0, 0, 0, 0, 0, 0, 0, 0, 0, 0, 0, 0, 0, 0, 0, 0, 0, 0, 0, 0, 0, 0, 0, 0, 0, 0, 0, 0, 0, 0, 0, 0, 0, 0, 0, 0, 0, 0, 0, 0, 0, 0, 0, 0, 0, 0, 0, 0, 0, 0, 0, 0, 0, 0, 0, 0, 0, 0, 0, 0, 0, 0, 0, 0, 0, 0, 0, 0, 0, 0, 0, 0, 0, 0, 0, 0, 0, 0, 0, 0, 0, 0, 0, 0, 0, 0, 0, 0, 0, 0, 0, 1, 3, 5, 5, 5, 5, 5, 5, 5, 5, 5, 5, 5, 5, 5, 5, 5, 5, 5, 5, 5, 5, 5, 5, 5, 5, 5, 5, 5, 5, 5, 5, 5, 5, 5, 5, 5, 5, 5, 5, 5, 5, 5, 5, 5, 5, 5, 5, 5, 5, 5, 5, 5, 5, 5, 5, 5, 5, 5, 5, 5, 5, 5, 5, 5, 5, 5, 5, 5, 5, 5, 5, 5, 5, 5, 5, 5, 5, 5, 5, 5, 5, 5, 5, 5, 5, 5, 5, 5, 5, 5, 5, 5, 5, 5, 5, 5, 5, 5, 5, 5, 5, 5, 5, 5, 5, 5, 5, 5, 5, 5, 5, 5, 5, 5, 5, 5, 5, 5, 5, 5, 5, 5, 5, 5, 5, 5, 5, 5, 5, 5, 5, 5, 5, 5, 5, 5, 5, 5, 5, 5, 5, 5, 5, 5, 5, 5, 5, 5, 5, 5, 5, 5, 5, 5, 5, 5, 5, 5, 5, 5, 5, 5, 5, 5, 5, 5, 5, 5, 5, 5, 5, 5, 5, 5, 5, 5, 5, 5, 5, 5, 5, 5, 5, 5, 5, 5, 5, 5, 5, 5, 5, 5, 5, 5, 5, 5, 5, 5, 5, 5, 5, 5, 5, 5, 5, 5, 5, 5, 5, 5, 5, 5, 5, 5, 5, 5, 5, 5, 5, 5, 5, 5, 5, 5, 5, 5, 5, 5, 5, 5, 5, 5, 5, 5, 5, 5, 5, 5, 5, 5, 5, 5, 5, 5, 5, 5, 5, 5, 5, 5, 5, 5, 5, 5, 5, 5, 5, 5, 5, 5, 5, 5, 5, 5, 5, 5, 5, 5, 5, 5, 5, 5, 5, 5, 5, 5, 5, 5, 5, 5, 5, 5, 5, 5, 5, 5, 5, 5, 5, 6, 20, 20, 20, 0, 0, 0, 0, 0, 0, 0, 0, 0, 0, 0, 0, 0, 0, 0, 0, 0, 0, 0, 0, 0, 0, 0, 0, 0, 0, 0, 0, 0, 0, 0, 0, 0, 0, 0, 0, 0, 0, 0, 0, 0, 0, 0, 0, 0, 0, 0, 0, 0, 0, 0, 0, 0, 0, 0, 0, 0, 0, 0, 0, 0, 0, 0, 0, 0, 0, 0, 0, 0, 0, 0, 0, 0, 0, 0, 0, 0, 0, 0, 0, 0, 0, 0, 0, 0, 0, 0, 0, 0, 0, 0, 0, 0, 0, 0, 0, 0, 0, 0, 0, 0, 0, 0, 0, 0, 0, 0, 0, 0, 0, 0, 0, 0, 0, 0, 0, 0, 0, 0, 0, 0, 0, 0, 0, 0, 0, 0, 0, 0, 0, 0, 0, 0, 0, 0, 0, 0, 0, 0, 0, 0, 0, 0, 0, 0, 0, 0, 0, 0, 0, 0, 0, 0, 0, 0, 0, 0, 0, 0, 0, 0, 0, 0, 0, 0, 0, 0, 0, 0, 0, 0, 0, 0, 0, 0, 0, 0, 0, 0, 0, 0, 0, 0, 0, 0, 0, 0, 0, 0, 0, 0, 0, 0, 0, 0, 0, 0, 0, 0, 0, 0, 0, 0, 0, 0, 0, 0, 0, 0, 0, 0, 0, 0, 0, 0, 0, 0, 0, 0, 0, 0, 0, 0, 0, 0, 0, 0, 0, 0, 0, 0, 0, 0, 0, 0, 0, 0, 0, 0, 0, 0, 0, 0, 0, 0, 0, 0, 0, 0, 0, 0, 0, 0, 0, 0, 0, 0, 0, 0, 0, 0, 0, 0, 0, 0, 0, 0, 0, 0, 0, 0, 0, 0, 0, 0, 0, 0, 0, 0, 0, 0, 0, 0, 0, 0, 0, 0, 0, 0, 0, 0, 0, 0, 0, 0, 0, 0, 0, 0, 0, 0, 0, 0, 0, 0, 0, 0, 0, 0, 0, 0, 0, 0, 0, 0, 0, 0, 0, 0, 0, 0, 0, 0, 0, 0, 0, 0, 0, 0, 0, 0, 0, 0, 0, 0, 0, 0, 0, 0, 0, 0, 0, 0, 0, 0, 0, 0, 0, 0, 0, 0, 0, 0, 0, 0, 0, 0, 0, 0, 0, 0, 0, 0, 0, 0, 0, 0, 0, 0, 0, 0, 0, 0, 0, 0, 0, 0, 0, 0, 0, 0, 0, 0, 0, 0, 0, 0, 0, 0, 0, 0, 0, 0, 0, 0, 0, 0, 0, 0, 0, 0, 0, 0, 0, 0, 0, 0, 0, 0, 0, 0, 0, 0, 0, 0, 0, 0, 0, 0, 0, 0, 0, 0, 0, 0, 0, 0, 0, 0, 0, 0, 0, 0, 0, 0, 0, 0, 0, 0, 0, 0, 0, 0, 0, 0, 0, 0, 0, 0, 0, 0, 0, 0, 0, 0, 0, 0, 0, 0, 0, 0, 0, 0, 0, 0, 0, 0, 0, 0, 0, 0, 0, 0, 0, 0, 0, 0, 0, 0, 0, 0, 0, 0, 0, 0, 0, 0, 0, 0, 0, 0, 0, 0, 0, 0, 0, 0, 0, 0, 0, 0, 0, 0, 0, 0, 0, 0, 0, 0, 0, 0, 0, 0, 0, 0, 0, 0, 0, 0, 0, 0, 0, 0, 0, 0, 0, 0, 0, 0, 0, 0, 0, 0, 0, 0, 0, 0, 0, 0, 0, 0, 0, 0, 0, 0, 0, 0, 0, 0, 0, 0, 0, 0, 0, 0, 0, 0, 0, 0, 0, 0, 0, 0, 0, 0, 0, 0, 0, 0, 0, 0, 0, 0, 0, 0, 0, 0, 0, 0, 0, 0, 0, 0, 0, 0, 0, 0, 0, 0, 0, 0, 0, 0, 0, 0, 0, 0, 0, 0, 0, 0, 0, 0, 0, 0, 0, 0, 0, 0, 0, 0, 0, 0, 0, 0, 0, 0, 0, 0, 0, 0, 0, 0, 0, 0, 0, 0, 0, 0, 0, 0, 0, 0, 0, 0, 0, 0, 0, 0, 0, 0, 0, 0, 0, 0, 0, 0, 0, 0, 0, 0, 0, 0, 0, 0, 0, 0, 0, 0, 0, 0, 0, 0, 0, 0, 0, 0, 0, 0, 0, 0, 0, 0, 0, 0, 0, 0, 0, 0, 0, 0, 0, 0, 0, 0, 0, 0, 0, 0, 0, 0, 0, 0, 0, 0, 0, 0, 0, 0, 0, 0, 0, 0, 0, 0, 0, 0, 0, 0, 0, 0, 0, 0, 0, 0, 0, 0, 0, 0, 0, 64, 64, 64, 64, 64, 64, 64, 64, 64, 64, 64, 64, 64, 64, 64, 64, 64, 64, 64, 64, 64, 64, 64, 64, 64, 64, 64, 64, 64, 64, 64, 64, 64, 64, 64, 64, 64, 64, 64, 64, 64, 64, 64, 64, 64, 64, 64, 64, 64, 64, 64, 64, 64, 64, 64, 64, 64, 64, 64, 64, 64, 63, 63, 48, 48, 34, 34, 34, 34, 34, 34, 34, 34, 34, 36, 24, 25, 26, 26, 38, 27, 27, 26, 26, 13, 13, 24, 36, 35, 7, 5, 3, 1, 0, 0, 0, 0, 0, 0, 0, 0, 0, 0, 0, 0, 0, 0, 0, 0, 0, 0, 0, 0, 0, 0, 0, 0, 0, 0, 0, 0, 0, 0, 0, 0, 0, 0, 0, 0, 0, 0, 0, 0, 0, 0, 0, 0, 0, 0, 0, 0, 0, 0, 0, 0, 0, 0, 0, 0, 0, 0, 0, 0, 0, 0, 0, 0, 0, 0, 0, 0, 0, 0, 0, 0, 0, 0, 0, 0, 0, 0, 0, 0, 0, 0, 0, 0, 0, 0, 0, 0, 0, 0, 0, 0, 0, 0, 0, 0, 0, 0, 0, 0, 0, 0, 0, 0, 0, 0, 0, 0, 0, 0, 0, 0, 0, 0, 0, 0, 0, 0, 0, 0, 0, 0, 0, 0, 0, 0, 0, 0, 0, 0, 0, 0, 0, 0, 0, 0, 0, 0, 0, 0, 0, 0, 0, 0, 0, 0, 0, 0, 0, 0, 0, 0, 0, 0, 0, 0, 0, 0, 0, 0, 0, 0, 0, 0, 0, 0, 0, 0, 0, 0, 0, 0, 0, 0, 0, 0, 0, 0, 0, 0, 0, 0, 0, 0, 0, 0, 0, 0, 0, 0, 0, 0, 0, 0, 0, 0, 0, 0, 0, 0, 0, 0, 0, 0, 0, 0, 0, 0, 0, 0, 0, 0, 0, 0, 0, 0, 0, 0, 0, 0, 0, 0, 0, 0, 0, 0, 0, 0, 0, 0, 0, 0, 0, 0, 0, 0, 0, 0, 0, 0, 0, 0, 0, 0, 0, 0, 0, 0, 0, 0, 0, 0, 0, 0, 0, 0, 0, 0, 0, 0, 0, 0, 0, 0, 0, 0, 0, 0, 0, 0, 0, 0, 0, 0, 0, 0, 0, 0, 0, 0, 0, 0, 0, 0, 0, 0, 0, 0, 0, 0, 0, 0, 0, 0, 0, 0, 0, 0, 0, 0, 0, 0, 0, 0, 0, 0, 0, 0, 0, 0, 0, 0, 0, 0, 0, 0, 0, 0, 0, 0, 0, 0, 0, 0, 0, 0, 0, 0, 0, 0, 0, 0, 0, 0, 0, 0, 0, 0, 15, 40, 40, 42, 43, 45, 33, 35, 24, 26, 26, 27, 27, 27, 27, 27, 27, 26, 26, 26, 13, 26, 25, 23, 35, 48, 48, 48, 48, 48, 48, 48, 48, 48, 48, 48, 48, 48, 48, 48, 48, 48, 48, 48, 48, 48, 48, 48, 48, 48, 48, 48, 48, 48, 48, 48, 48, 48, 48, 48, 48, 48, 48, 48, 48, 48, 48, 48, 48, 48, 48, 48, 48, 48, 48, 48, 48, 48, 48, 48, 48, 48, 48, 48, 48, 48, 48, 48, 48, 48, 48, 48, 48, 48, 48, 48, 48, 48, 48, 48, 48, 48, 48, 48, 48, 48, 48, 48, 48, 48, 48, 48, 48, 48, 48, 48, 48, 48, 48, 48, 48, 48, 48, 48, 48, 48, 48, 48, 48, 48, 48, 48, 48, 48, 48, 48, 48, 48, 48, 48, 48, 48, 48, 48, 48, 48, 48, 48, 48, 48, 48, 48, 48, 48, 48, 48, 48, 48, 48, 48, 48, 48, 48, 48, 48, 48, 48, 48, 48, 48, 48, 48, 48, 48, 48, 48, 48, 48, 48, 48, 48, 48, 48, 48, 48, 48, 48, 48, 48, 48, 48, 48, 48, 48, 48, 48, 48, 48, 48, 48, 48, 48, 48, 48, 48, 48, 48, 48, 48, 48, 48, 48, 48, 48, 48, 48, 48, 48, 48, 48, 48, 48, 48, 48, 48, 48, 48, 48, 48, 48, 48, 48, 48, 48, 48, 48, 48, 48, 48, 48, 48, 48, 48, 48, 48, 48, 48, 48, 48, 48, 48, 48, 48, 48, 48, 48, 48, 48, 48, 48, 48, 48, 48, 48, 48, 48, 48, 48, 48, 48, 48, 48, 48, 48, 48, 48, 48, 48, 48, 48, 48, 48, 48, 48, 48, 48, 48, 48, 48, 0, 0, 0, 0, 0, 0, 0, 0, 0, 0, 0, 0, 0, 0, 0, 0, 0, 0, 0, 0, 0, 0, 0, 0, 0, 0, 0, 0, 0, 0, 0, 0, 0, 0, 0, 0, 0, 0, 0, 0, 0, 0, 0, 0, 0, 0, 0, 0, 0, 0, 0, 0, 0, 0, 0, 0, 0, 0, 0, 0, 0, 0, 0, 0, 0, 0, 0, 0, 0, 0, 0, 2, 3, 17, 17, 30, 30, 30, 30, 30, 30, 30, 30, 30, 30, 30, 30, 30, 30, 30, 30, 30, 30, 30, 30, 30, 30, 30, 30, 30, 30, 30, 30, 30, 30, 30, 30, 30, 30, 30, 30, 30, 30, 30, 30, 30, 30, 30, 30, 30, 30, 30, 30, 30, 30, 30, 30, 30, 30, 30, 30, 30, 30, 30, 30, 30, 30, 30, 30, 30, 73, 73, 73, 73, 73, 73, 73, 73, 73, 73, 73, 73, 73, 73, 73, 73, 73, 73, 73, 73, 73, 73, 73, 73, 73, 73, 73, 73, 73, 73, 73, 73, 73, 73, 73, 73, 73, 73, 73, 73, 73, 73, 73, 73, 73, 73, 73, 73, 73, 73, 73, 73, 73, 73, 58, 58, 58, 58, 58, 58, 58, 58, 58, 58, 58, 58, 58, 58, 58, 58, 58, 58, 58, 58, 58, 58, 58, 58, 58, 58, 58, 58, 58, 58, 58, 58, 58, 58, 58, 58, 58, 58, 58, 58, 58, 58, 58, 58, 58, 58, 58, 58, 58, 58, 58, 58, 58, 58, 58, 58, 58, 58, 58, 58, 58, 58, 58, 58, 58, 58, 58, 58, 58, 58, 58, 58, 58, 58, 58, 58, 58, 58, 58, 58, 58, 58, 58, 58, 58, 58, 58, 58, 58, 58, 58, 58, 58, 58, 58, 58, 58, 58, 58, 58, 58, 58, 58, 58, 58, 58, 58, 58, 58, 58, 58, 58, 58, 58, 58, 58, 58, 58, 58, 58, 58, 58, 58, 58, 58, 58, 58, 58, 58, 58, 58, 58, 58, 58, 58, 58, 58, 58, 58, 58, 48, 48, 48, 48, 48, 48, 48, 48, 48, 48, 48, 48, 48, 48, 48, 48, 48, 48, 48, 48, 48, 48, 48, 48, 48, 48, 48, 48, 48, 48, 48, 48, 48, 48, 48, 48, 48, 48, 48, 48, 48, 48, 48, 48, 48, 48, 48, 48, 48, 48, 48, 48, 48, 48, 48, 48, 48, 48, 48, 48, 48, 48, 48, 48, 48, 48, 48, 48, 48, 48, 48, 48, 48, 48, 48, 48, 48, 48, 48, 48, 48, 48, 48, 48, 48, 48, 48, 48, 48, 48, 48, 48, 48, 48, 48, 48, 48, 48, 48, 48, 48, 48, 48, 48, 48, 48, 48, 48, 48, 48, 48, 48, 48, 48, 48, 48, 48, 48, 48, 48, 48, 48, 48, 48, 48, 48, 48, 48, 48, 48, 48, 48, 48, 48, 48, 48, 48, 48, 48, 48, 48, 48, 48, 48, 48, 48, 48, 48, 48, 48, 48, 48, 48, 48, 48, 48, 48, 48, 48, 48, 48, 48, 48, 48, 48, 48, 48, 48, 48, 48, 48, 48, 48, 48, 48, 48, 48, 48, 48, 48, 48, 48, 48, 48, 48, 48, 48, 48, 48, 48, 48, 48, 48, 48, 48, 48, 48, 48, 48, 48, 48, 48, 48, 48, 48, 48, 48, 48, 48, 48, 48, 48, 48, 48, 48, 48, 48, 48, 48, 48, 48, 48, 48, 48, 48, 48, 48, 48, 48, 48, 48, 48, 48, 48, 48, 48, 48, 48, 48, 48, 48, 48, 48, 48, 48, 48, 48, 48, 48, 48, 48, 48, 48, 48, 48, 48, 48, 48, 48, 48, 48, 48, 48, 48, 48, 48, 48, 48, 48, 48, 48, 48, 48, 48, 48, 48, 48, 48, 48, 48, 48, 48, 48, 48, 48, 48, 48, 48, 48, 48, 48, 48, 48, 48, 48, 48, 48, 48, 48, 48, 48, 48, 48, 48, 48, 48, 48, 48, 48, 48, 48, 48, 48, 48, 48, 48, 48, 48, 48, 48, 48, 48, 48, 48, 48, 48, 48, 48, 48, 48, 48, 48, 48, 48, 48, 48, 48, 48, 48, 48, 48, 48, 48, 48, 48, 48, 48, 48, 48, 48, 48, 48, 48, 48, 48, 48, 48, 48, 48, 48, 48, 48, 48, 48, 48, 48, 48, 48, 48, 48, 48, 48, 48, 48, 48, 48, 48, 48, 48, 48, 48, 48, 48, 48, 48, 48, 48, 48, 48, 48, 48, 48, 48, 48, 48, 48, 48, 48, 48, 48, 48, 48, 48, 48, 48, 48, 48, 48, 48, 48, 48, 48, 48, 48, 48, 48, 48, 48, 48, 48, 48, 48, 48, 48, 48, 48, 48, 48, 48, 48, 48, 48, 48, 48, 48, 48, 48, 48, 48, 48, 48, 48, 48, 48, 48, 48, 48, 48, 48, 48, 48, 48, 48, 48, 48, 48, 48, 48, 48, 48, 48, 48, 48, 48, 48, 48, 48, 48, 48, 48, 48, 48, 48, 48, 48, 48, 48, 48, 48, 48, 48, 48, 48, 48, 48, 48, 48, 48, 48, 48, 48, 48, 48, 48, 48, 48, 48, 48, 48, 48, 48, 48, 48, 48, 48, 48, 48, 48, 48, 48, 48, 48, 48, 48, 48, 48, 48, 48, 48, 48, 48, 48, 48, 48, 48, 48, 48, 48, 48, 48, 48, 48, 48, 48, 48, 48, 48, 48, 48, 48, 48, 48, 48, 48, 48, 48, 48, 48, 48, 48, 48, 48, 48, 48, 48, 48, 48, 48, 48, 48, 48, 48, 48, 48, 48, 48, 48, 48, 48, 48, 48, 48, 48, 48, 48, 48, 48, 48, 48, 48, 48, 48, 48, 48, 48, 48, 48, 48, 48, 48, 48, 48, 48, 48, 48, 48, 48, 48, 48, 48, 48, 48, 48, 48, 48, 48, 48, 48, 48, 48, 48, 48, 48, 48, 48, 48, 48, 48, 48, 48, 48, 48, 48, 48, 48, 48, 48, 48, 48, 48, 48, 48, 48, 48, 48, 48, 48, 48, 48, 48, 48, 48, 48, 48, 48, 48, 48, 48, 48, 48, 48, 48, 48, 48, 48, 48, 48, 48, 48, 48, 48, 48, 48, 48, 48, 48, 48, 48, 48, 48, 48, 48, 48, 48, 48, 48, 48, 48, 48, 48, 48, 48, 48, 48, 48, 48, 48, 48, 48, 48, 48, 48, 48, 48, 48, 48, 48, 48, 48, 48, 48, 48, 48, 48, 48, 48, 48, 48, 48, 48, 48, 48, 48, 48, 48, 48, 48, 48, 48, 48, 48, 48, 48, 48, 48, 48, 48, 48, 48, 48, 48, 48, 48, 48, 48, 48, 48, 48, 48, 48, 48, 48, 48, 48, 48, 48, 48, 48, 48, 48, 48, 48, 48, 48, 48, 48, 48, 48, 48, 48, 48, 48, 48, 48, 48, 48, 48, 48, 48, 48, 48, 48, 48, 48, 48, 48, 48, 48, 48, 48, 48, 48, 48, 48, 48, 48, 48, 48, 48, 48, 48, 48, 48, 48, 48, 48, 48, 48, 48, 48, 48, 48, 48, 48, 48, 48, 48, 48, 48, 48, 48, 48, 48, 48, 48, 48, 48, 48, 48, 48, 48, 48, 48, 48, 48, 48, 48, 48, 48, 48, 48, 48, 48, 48, 48, 48, 48, 48, 48, 48, 48, 48, 48, 48, 48, 48, 48, 48, 48, 48, 48, 48, 48, 48, 48, 48, 48, 48, 48, 48, 48, 48, 48, 48, 48, 48, 48, 48, 48, 48, 48, 48, 48, 48, 48, 48, 48, 48, 48, 48, 78, 78, 78, 78, 78, 78, 78, 78, 78, 78, 78, 78, 78, 78, 78, 78, 78, 78, 78, 78, 78, 78, 78, 78, 78, 78, 78, 78, 78, 78, 78, 78, 78, 78, 78, 78, 78, 78, 78, 78, 78, 78, 78, 78, 78, 78, 78, 78, 78, 78, 78, 78, 78, 78, 78, 78, 78, 78, 78, 78, 78, 78, 78, 78, 78, 78, 78, 78, 78, 78, 78, 78, 78, 78, 78, 78, 78, 78, 78, 78, 78, 78, 78, 78, 78, 78, 78, 78, 78, 78, 78, 78, 78, 78, 78, 78, 78, 78, 78, 78, 78, 78, 78, 78, 78, 78, 78, 78, 78, 78, 78, 78, 78, 78, 78, 78, 78, 78, 78, 78, 78, 78, 78, 78, 78, 78, 78, 78, 78, 78, 78, 78, 78, 78, 78, 78, 78, 78, 78, 78, 78, 78, 78, 78, 78, 78, 78, 78, 78, 78, 78, 78, 78, 78, 78, 78, 78, 78, 78, 78, 78, 78, 78, 78, 78, 78, 78, 78, 78, 78, 78, 78, 78, 78, 78, 78, 78, 78, 78, 78, 78, 78, 78, 78, 78, 78, 78, 78, 78, 78, 78, 78, 78, 78, 78, 78, 78, 78, 78, 78, 78, 78, 78, 78, 78, 78, 78, 78, 78, 78, 78, 78, 78, 78, 78, 78, 78, 78, 78, 78, 78, 78, 78, 78, 78, 78, 78, 78, 78, 78, 78, 78, 78, 78, 78, 78, 78, 78, 78, 78, 78, 78, 78, 78, 78, 78, 78, 78, 78, 78, 78, 78, 78, 78, 78, 78, 78, 78, 78, 78, 78, 78, 78, 78, 78, 78, 78, 78, 78, 78, 78, 78, 78, 78, 78, 78, 78, 78, 78, 78, 78, 78, 78, 78, 78, 78, 78, 78, 78, 78, 78, 78, 78, 78, 78, 78, 78, 78, 78, 78, 78, 78, 78, 78, 78, 78, 78, 78, 78, 78, 78, 78, 78, 78, 78, 78, 78, 78, 78, 78, 78, 78, 78, 78, 78, 78, 48, 48, 48, 48, 48, 48, 48, 48, 48, 48, 48, 48, 48, 48, 48, 48, 48, 48, 48, 48, 48, 48, 48, 48, 48, 48, 48, 48, 48, 48, 48, 48, 48, 48, 49, 49, 49, 49, 65, 65, 80, 80, 80, 80, 80, 81, 67, 52, 37, 37, 37, 37, 37, 37, 37, 37, 37, 37, 37, 37, 37, 37, 37, 37, 37]\n"
     ]
    }
   ],
   "source": [
    "pred = [days[0][i] for i in range(N)]\n",
    "for i in range(N): # users\n",
    "    curr_row = i\n",
    "    for j in range(len(days)-1): # days\n",
    "        next_row = links[j][curr_row]\n",
    "        pred[i] = pred[i] + days[j+1][next_row]\n",
    "        curr_row = next_row\n",
    "\n",
    "preview_matrix(pred, 1, T)"
   ]
  },
  {
   "cell_type": "markdown",
   "metadata": {
    "id": "ZRXZUgA_DFKK"
   },
   "source": [
    "### 2.5 Evaluation\n",
    "\n",
    "Recall that:\n",
    "  - `truth` is a list of lists $[[1..T]..N]$ where each element is a cartesian lattitude/longitude tuple.\n",
    "  - `pred` is a list of lists $[[1..T]..N]$ where each element contains a location-ID (that can be mapped back to the location tuple using `grid`).\n",
    "\n",
    "---\n",
    "\n",
    "We now must associate a predicted trajectory to a true trajectory - we do so by pairing trajectories that have the least recovery error. Each trajectory must be uniquely linked, so the linear sum assignment algorithm is run once again to link trajectories with the least recovery error. The `compare` list records the associations as: `compare[i] = j` means that the $i$-th predicted trajectory is associated with the $j$-th true trajectory.\n",
    "\n",
    "\n",
    "The three metrics in the paper are:\n",
    "  - Accuracy: The ratio of points that are correct.\n",
    "  - Recovery Error: The euclidean distance of error.\n",
    "  - Uniqueness: Percentage of trajectories that can be uniquely distinguished by their most frequent $k$ locations. We mirror the paper and restrict $k$ to be $1 \\le k \\le 5$. (It is noted that commonly, $k=2$)."
   ]
  },
  {
   "cell_type": "code",
   "execution_count": 10,
   "metadata": {
    "colab": {
     "base_uri": "https://localhost:8080/"
    },
    "id": "4s7vhStEDPg7",
    "outputId": "4cf5a3b3-0bfd-44b4-ff33-5911eec34bdc"
   },
   "outputs": [
    {
     "name": "stdout",
     "output_type": "stream",
     "text": [
      "Evaluating trajectory 0...\n",
      "Evaluating trajectory 1...\n",
      "Evaluating trajectory 2...\n",
      "Evaluating trajectory 3...\n",
      "Evaluating trajectory 4...\n",
      "Evaluating trajectory 5...\n",
      "Evaluating trajectory 6...\n",
      "Evaluating trajectory 7...\n",
      "Evaluating trajectory 8...\n",
      "Evaluating trajectory 9...\n",
      "Evaluating trajectory 10...\n",
      "Evaluating trajectory 11...\n",
      "Evaluating trajectory 12...\n",
      "Evaluating trajectory 13...\n",
      "Evaluating trajectory 14...\n",
      "Evaluating trajectory 15...\n",
      "Evaluating trajectory 16...\n",
      "Evaluating trajectory 17...\n",
      "Evaluating trajectory 18...\n",
      "Evaluating trajectory 19...\n",
      "Evaluating trajectory 20...\n",
      "Evaluating trajectory 21...\n",
      "Evaluating trajectory 22...\n",
      "Evaluating trajectory 23...\n",
      "Evaluating trajectory 24...\n",
      "Evaluating trajectory 25...\n",
      "Evaluating trajectory 26...\n",
      "Evaluating trajectory 27...\n",
      "Evaluating trajectory 28...\n",
      "Evaluating trajectory 29...\n",
      "Evaluating trajectory 30...\n",
      "Evaluating trajectory 31...\n",
      "Evaluating trajectory 32...\n",
      "Evaluating trajectory 33...\n",
      "Evaluating trajectory 34...\n",
      "Evaluating trajectory 35...\n",
      "Evaluating trajectory 36...\n",
      "Accuracy: 0.3806319287587299\n",
      "Recovery Error: 490097808.23076546\n",
      "Uniqueness (k=1), Predicted: 0.5945945945945946\n",
      "Uniqueness (k=1), Truth: 0.6216216216216216\n",
      "Uniqueness (k=2), Predicted: 0.972972972972973\n",
      "Uniqueness (k=2), Truth: 0.7837837837837838\n",
      "Uniqueness (k=3), Predicted: 1.0\n",
      "Uniqueness (k=3), Truth: 0.918918918918919\n",
      "Uniqueness (k=4), Predicted: 1.0\n",
      "Uniqueness (k=4), Truth: 1.0\n",
      "Uniqueness (k=5), Predicted: 1.0\n",
      "Uniqueness (k=5), Truth: 1.0\n",
      "[21 33 36 10 12 19 25  3  9 29  5 31 32  0 30 26 17 22  6  7 16 14  8 18\n",
      " 27 23  4 34 15 35  2 24 28 13 20 11  1]\n"
     ]
    }
   ],
   "source": [
    "accuracy = 0\n",
    "recovery_error = 0\n",
    "\n",
    "accuracy_matrix = np.zeros((N,N))\n",
    "error_matrix = np.zeros((N,N))\n",
    "\n",
    "for i in range(N): # predicted trajectories\n",
    "    print(f\"Evaluating trajectory {i}...\")\n",
    "    for j in range(N): # truth trajectories\n",
    "        error = 0\n",
    "        acc = 0\n",
    "        for k in range(T): # timesteps\n",
    "            pred_loc = grid[pred[i][k]]\n",
    "            x = math.dist(pred_loc, truth[j][k])\n",
    "            error += x # location error\n",
    "            if x == 0: # accuracy\n",
    "                acc += 1\n",
    "        error_matrix[i][j] = error\n",
    "        accuracy_matrix[i][j] = acc / T\n",
    "\n",
    "# here, compare[i] = j means the i-th predicted trajectory matches the j-th true trajectory.\n",
    "pred_traj, true_traj = scipy.optimize.linear_sum_assignment(error_matrix, maximize=False)\n",
    "for i, j in zip(pred_traj, true_traj):\n",
    "    accuracy += accuracy_matrix[i][j] / N\n",
    "    recovery_error += error_matrix[i][j]\n",
    "\n",
    "print(f\"Accuracy: {accuracy}\")\n",
    "print(f\"Recovery Error: {recovery_error}\")\n",
    "for i in range(1,6):\n",
    "    print(f\"Uniqueness (k={i}), Predicted: {uniqueness(pred, i)}\")\n",
    "    print(f\"Uniqueness (k={i}), Truth: {uniqueness(truth, i)}\")\n",
    "print(true_traj)"
   ]
  },
  {
   "cell_type": "markdown",
   "metadata": {
    "id": "gY13b89s1p_b"
   },
   "source": [
    "### 2.6 Visualisation\n",
    "\n",
    "The following cell allows us to visualise and compare the recovered trajectories to their associated true trajectories. You may change the `trajectory_choice` and `length_choice` variables to any value within $[0, N)$ and $[0, T)$ respectively to show specific results.\n",
    "\n",
    "Note that a blank plot indicates that the user did not move at all in the trajectory."
   ]
  },
  {
   "cell_type": "code",
   "execution_count": 11,
   "metadata": {
    "colab": {
     "base_uri": "https://localhost:8080/",
     "height": 407
    },
    "id": "Dv_yLACK1pXU",
    "outputId": "03245633-576d-4398-b4e8-35a0c5daace3"
   },
   "outputs": [
    {
     "data": {
      "image/png": "[encoded data removed]",
      "text/plain": [
       "<Figure size 800x400 with 2 Axes>"
      ]
     },
     "metadata": {},
     "output_type": "display_data"
    }
   ],
   "source": [
    "import random\n",
    "\n",
    "trajectory_choice = random.randint(0,N-1)\n",
    "length_choice = D\n",
    "\n",
    "pred_line = pred[trajectory_choice][:length_choice]\n",
    "pred_line = [grid[x] for x in pred_line]\n",
    "true_line = truth[true_traj[trajectory_choice]][:length_choice]\n",
    "\n",
    "x1, y1 = zip(*pred_line)\n",
    "x2, y2 = zip(*true_line)\n",
    "fig, axs = plt.subplots(1, 2, figsize=(8, 4), sharex=True, sharey=True)\n",
    "\n",
    "axs[0].plot(x1, y1, color='red')\n",
    "axs[0].set_title(f'Predicted Trajectory (No. {trajectory_choice})')\n",
    "axs[0].set_xlabel('Longitude')\n",
    "axs[0].set_ylabel('Lattitude')\n",
    "axs[0].grid()\n",
    "\n",
    "axs[1].plot(x2, y2, color='blue')\n",
    "axs[1].set_title(f'True Trajectory (No. {true_traj[trajectory_choice]})')\n",
    "axs[1].set_xlabel('Longitude')\n",
    "axs[1].set_ylabel('Lattitude')\n",
    "axs[1].grid()\n",
    "\n",
    "plt.tight_layout()\n",
    "plt.show()"
   ]
  },
  {
   "cell_type": "markdown",
   "metadata": {
    "id": "7PsyxnHPt_td"
   },
   "source": [
    "## 3 Example Usage and Evaluation on Other Datasets"
   ]
  },
  {
   "cell_type": "markdown",
   "metadata": {
    "id": "D9zJ8H_HNzqP"
   },
   "source": [
    "### 3.1 The Class\n",
    "\n",
    "The above has been refined and restructured into a class for ease of use. The class constructor accepts correctly-formatted datasets (as described in Section 2.1), which can then be fed into the algorithm for evaluating. Some example usage is shown in this section. The dependencies outside of the Python standard library are: `numpy`, `pandas`, `matplotlib`, `scipy`, `geopy`, and `tqdm`."
   ]
  },
  {
   "cell_type": "code",
   "execution_count": 12,
   "metadata": {
    "id": "1HXPbjAGuHFm"
   },
   "outputs": [],
   "source": [
    "from trajectory_recovery import TrajectoryRecovery"
   ]
  },
  {
   "cell_type": "markdown",
   "metadata": {
    "id": "lTN5ZkoEOS_f"
   },
   "source": [
    "### 3.2 GeoLife Dataset\n",
    "\n",
    "GeoLife is a human mobility dataset containing people's trajectories over spans of time. Data preprocessing was tricky due to the irregularity and sparsity of the dataset, but nevertheless we arrived at 3 different options for use as a dataset:\n",
    "\n",
    "Option 1 (this was used in the walkthrough earlier in the notebook):\n",
    "  - 37 trajectories\n",
    "  - 194 locations\n",
    "  - 5205 timesteps\n",
    "  - 2-minute time interval\n",
    "  - About 7.23 days overall duration\n",
    "\n",
    "Option 2:\n",
    "  - 38 trajectories\n",
    "  - 492 locations\n",
    "  - 10407 timesteps\n",
    "  - 1-minute time interval\n",
    "  - About 7.23 days overall duration\n",
    "\n",
    "Option 3:\n",
    "  - 43 trajectories\n",
    "  - 120 locations\n",
    "  - 10103 timesteps\n",
    "  - 1-minute time interval\n",
    "  - About 7.02 days overall duration"
   ]
  },
  {
   "cell_type": "code",
   "execution_count": 13,
   "metadata": {
    "colab": {
     "base_uri": "https://localhost:8080/"
    },
    "id": "QFDFiTGZOajF",
    "outputId": "2c35b3f1-ac9c-4a56-bba7-7b56ee98ff89"
   },
   "outputs": [
    {
     "name": "stderr",
     "output_type": "stream",
     "text": [
      "Recovering Night Trajectories: 100%|███████████████████████████████| 8/8 [00:01<00:00,  4.56night/s]\n",
      "Recovering Day Trajectories: 100%|███████████████████████████████████| 7/7 [00:07<00:00,  1.02s/day]\n",
      "Linking Sub-trajectories: 100%|██████████████████████████████████████| 7/7 [00:05<00:00,  1.38day/s]\n",
      "Evaluating Trajectories: 100%|███████████████████████████████████| 38/38 [00:03<00:00, 10.92traj./s]\n"
     ]
    },
    {
     "data": {
      "text/plain": [
       "{'accuracy': 0.4132896380472657,\n",
       " 'recovery_error': 753602966.4598236,\n",
       " 'uniqueness': {'predicted': {1: 0.5789473684210527,\n",
       "   2: 0.868421052631579,\n",
       "   3: 0.9473684210526315,\n",
       "   4: 1.0,\n",
       "   5: 1.0},\n",
       "  'truth': {1: 0.6052631578947368,\n",
       "   2: 0.7894736842105263,\n",
       "   3: 0.868421052631579,\n",
       "   4: 0.9210526315789473,\n",
       "   5: 1.0}},\n",
       " 'compare': [(0, 10),\n",
       "  (1, 20),\n",
       "  (2, 18),\n",
       "  (3, 26),\n",
       "  (4, 22),\n",
       "  (5, 34),\n",
       "  (6, 37),\n",
       "  (7, 28),\n",
       "  (8, 25),\n",
       "  (9, 19),\n",
       "  (10, 1),\n",
       "  (11, 0),\n",
       "  (12, 32),\n",
       "  (13, 29),\n",
       "  (14, 21),\n",
       "  (15, 33),\n",
       "  (16, 5),\n",
       "  (17, 27),\n",
       "  (18, 8),\n",
       "  (19, 15),\n",
       "  (20, 11),\n",
       "  (21, 35),\n",
       "  (22, 3),\n",
       "  (23, 2),\n",
       "  (24, 31),\n",
       "  (25, 13),\n",
       "  (26, 16),\n",
       "  (27, 6),\n",
       "  (28, 12),\n",
       "  (29, 23),\n",
       "  (30, 36),\n",
       "  (31, 7),\n",
       "  (32, 24),\n",
       "  (33, 17),\n",
       "  (34, 4),\n",
       "  (35, 9),\n",
       "  (36, 30),\n",
       "  (37, 14)]}"
      ]
     },
     "execution_count": 13,
     "metadata": {},
     "output_type": "execute_result"
    }
   ],
   "source": [
    "# 37 User dataset\n",
    "\"\"\"\n",
    "agg = pd.read_csv(os.path.join(PATH, \"GeoLife/processed/GeoLife_aggregrated-37users-14x15.csv\"))\n",
    "truth_data = pd.read_csv(os.path.join(PATH, \"GeoLife/processed/GeoLife_ground_truth-37users-14x15.csv\"))\n",
    "N = 37\n",
    "M = 194\n",
    "T = 5205\n",
    "D = 720\n",
    "\"\"\"\n",
    "\n",
    "# 38 User Dataset\n",
    "#\"\"\"\n",
    "agg = pd.read_csv(os.path.join(PATH, \"GeoLife/processed/GeoLife_aggregrated-38u-3m-35x29-60s.csv\"))\n",
    "truth_data = pd.read_csv(os.path.join(PATH, \"GeoLife/processed/GeoLife_ground_truth-38u-3m-35x29-60s.csv\"))\n",
    "N = 38\n",
    "M = 492\n",
    "T = 10407\n",
    "D = 1440\n",
    "#\"\"\"\n",
    "\n",
    "# 43 User dataset\n",
    "\"\"\"\n",
    "agg = pd.read_csv(os.path.join(PATH, \"GeoLife/processed/GeoLife_aggregrated-43u-5m-11x11-60s.csv\"))\n",
    "truth_data = pd.read_csv(os.path.join(PATH, \"GeoLife/processed/GeoLife_ground_truth-43u-5m-11x11-60s.csv\"))\n",
    "N = 43\n",
    "M = 120\n",
    "T = 10103\n",
    "D = 1440\n",
    "\"\"\"\n",
    "\n",
    "# Get the data into the right format\n",
    "agg = agg.drop(\"datetime\", axis=1)\n",
    "agg = agg.drop(agg.columns[(agg == 0).all()], axis=1)\n",
    "\n",
    "reverse_grid = dict()\n",
    "for i, name in enumerate(agg.columns):\n",
    "    cell_id = ast.literal_eval(name)\n",
    "    reverse_grid[cell_id] = {'i': i}\n",
    "\n",
    "locations = truth_data[[\"cell_id\", \"tower\"]].drop_duplicates()\n",
    "for v in locations.T.to_dict().values():\n",
    "    reverse_grid[ast.literal_eval(v['cell_id'])]['tower'] = ast.literal_eval(v['tower'])\n",
    "grid = {v['i']: v['tower'] for k, v in reverse_grid.items()}\n",
    "\n",
    "truth_data.reset_index(inplace=True)\n",
    "truth_data[\"ordered_towers\"] = truth_data.apply(lambda x: (x[\"index\"], x[\"tower\"]), axis=1)\n",
    "truth = []\n",
    "for trajectory in truth_data.groupby(\"user\")[\"ordered_towers\"].apply(list):\n",
    "    tmp = sorted(trajectory, key=lambda x: x[0])\n",
    "    truth.append([ast.literal_eval(x[1]) for x in tmp])\n",
    "\n",
    "\n",
    "geo_life = TrajectoryRecovery(agg, grid, N, M, T, D)\n",
    "geo_life.run_algorithm()\n",
    "geo_life.evaluate(truth)\n",
    "geo_life.get_results()"
   ]
  },
  {
   "cell_type": "markdown",
   "metadata": {
    "id": "RlE6lBctNHpQ"
   },
   "source": [
    "### 3.3 Porto Taxi Dataset\n",
    "\n",
    "Porto Taxi is a taxi dataset containing the trajectories of taxis in the city of Porto, Portugal. We expect the algorithm to perform less accurately here, because this is no longer human mobility, but vehicular. We have two different subsets of the Porto Taxi dataset, each of which we can evaluate separately on the algorithm.\n",
    "\n",
    "Option 1 places discrete locations in a $3 \\times 3$ grid, creating 9 locations:\n",
    "- 197 trajectories\n",
    "- 9 locations\n",
    "- 4321 timesteps\n",
    "- 10-minute time interval\n",
    "- 30 days overall duration\n",
    "\n",
    "Option 2 places locations on a $7 \\times 7$ grid (the diameter of each cell is still the same as the first option), creating 49 locations:\n",
    "- 197 trajectories\n",
    "- 49 locations\n",
    "- 4321 timesteps\n",
    "- 10-minute time interval\n",
    "- 30 days overall duration"
   ]
  },
  {
   "cell_type": "code",
   "execution_count": 14,
   "metadata": {
    "colab": {
     "base_uri": "https://localhost:8080/"
    },
    "id": "eCaATRmHzgJo",
    "outputId": "c4d2b576-e6ec-4f36-a47e-376c5d735436"
   },
   "outputs": [
    {
     "name": "stderr",
     "output_type": "stream",
     "text": [
      "Recovering Night Trajectories: 100%|█████████████████████████████| 30/30 [00:15<00:00,  1.89night/s]\n",
      "Recovering Day Trajectories: 100%|█████████████████████████████████| 30/30 [01:09<00:00,  2.32s/day]\n",
      "Linking Sub-trajectories: 100%|████████████████████████████████████| 30/30 [00:53<00:00,  1.80s/day]\n",
      "Evaluating Trajectories: 100%|█████████████████████████████████| 197/197 [00:36<00:00,  5.46traj./s]\n"
     ]
    },
    {
     "data": {
      "text/plain": [
       "{'accuracy': 0.2557431126701495,\n",
       " 'recovery_error': 2328102.3138824995,\n",
       " 'uniqueness': {'predicted': {1: 0.04060913705583756,\n",
       "   2: 0.19289340101522842,\n",
       "   3: 0.36548223350253806,\n",
       "   4: 0.5126903553299492,\n",
       "   5: 0.5685279187817259},\n",
       "  'truth': {1: 0.04060913705583756,\n",
       "   2: 0.1116751269035533,\n",
       "   3: 0.14720812182741116,\n",
       "   4: 0.19289340101522842,\n",
       "   5: 0.20812182741116753}},\n",
       " 'compare': [(0, 87),\n",
       "  (1, 115),\n",
       "  (2, 169),\n",
       "  (3, 32),\n",
       "  (4, 55),\n",
       "  (5, 131),\n",
       "  (6, 180),\n",
       "  (7, 92),\n",
       "  (8, 23),\n",
       "  (9, 18),\n",
       "  (10, 164),\n",
       "  (11, 33),\n",
       "  (12, 16),\n",
       "  (13, 28),\n",
       "  (14, 107),\n",
       "  (15, 137),\n",
       "  (16, 111),\n",
       "  (17, 20),\n",
       "  (18, 91),\n",
       "  (19, 143),\n",
       "  (20, 145),\n",
       "  (21, 105),\n",
       "  (22, 98),\n",
       "  (23, 150),\n",
       "  (24, 66),\n",
       "  (25, 138),\n",
       "  (26, 94),\n",
       "  (27, 6),\n",
       "  (28, 41),\n",
       "  (29, 52),\n",
       "  (30, 77),\n",
       "  (31, 48),\n",
       "  (32, 0),\n",
       "  (33, 58),\n",
       "  (34, 119),\n",
       "  (35, 109),\n",
       "  (36, 19),\n",
       "  (37, 34),\n",
       "  (38, 43),\n",
       "  (39, 186),\n",
       "  (40, 79),\n",
       "  (41, 166),\n",
       "  (42, 72),\n",
       "  (43, 125),\n",
       "  (44, 37),\n",
       "  (45, 174),\n",
       "  (46, 96),\n",
       "  (47, 53),\n",
       "  (48, 153),\n",
       "  (49, 182),\n",
       "  (50, 133),\n",
       "  (51, 130),\n",
       "  (52, 127),\n",
       "  (53, 70),\n",
       "  (54, 121),\n",
       "  (55, 27),\n",
       "  (56, 104),\n",
       "  (57, 3),\n",
       "  (58, 195),\n",
       "  (59, 154),\n",
       "  (60, 134),\n",
       "  (61, 176),\n",
       "  (62, 132),\n",
       "  (63, 75),\n",
       "  (64, 170),\n",
       "  (65, 36),\n",
       "  (66, 24),\n",
       "  (67, 183),\n",
       "  (68, 102),\n",
       "  (69, 161),\n",
       "  (70, 93),\n",
       "  (71, 146),\n",
       "  (72, 108),\n",
       "  (73, 126),\n",
       "  (74, 46),\n",
       "  (75, 54),\n",
       "  (76, 177),\n",
       "  (77, 45),\n",
       "  (78, 129),\n",
       "  (79, 113),\n",
       "  (80, 89),\n",
       "  (81, 101),\n",
       "  (82, 61),\n",
       "  (83, 90),\n",
       "  (84, 44),\n",
       "  (85, 1),\n",
       "  (86, 110),\n",
       "  (87, 192),\n",
       "  (88, 88),\n",
       "  (89, 193),\n",
       "  (90, 97),\n",
       "  (91, 185),\n",
       "  (92, 184),\n",
       "  (93, 117),\n",
       "  (94, 85),\n",
       "  (95, 158),\n",
       "  (96, 189),\n",
       "  (97, 65),\n",
       "  (98, 135),\n",
       "  (99, 114),\n",
       "  (100, 149),\n",
       "  (101, 60),\n",
       "  (102, 128),\n",
       "  (103, 84),\n",
       "  (104, 50),\n",
       "  (105, 139),\n",
       "  (106, 142),\n",
       "  (107, 196),\n",
       "  (108, 191),\n",
       "  (109, 42),\n",
       "  (110, 74),\n",
       "  (111, 7),\n",
       "  (112, 106),\n",
       "  (113, 99),\n",
       "  (114, 175),\n",
       "  (115, 194),\n",
       "  (116, 2),\n",
       "  (117, 25),\n",
       "  (118, 160),\n",
       "  (119, 190),\n",
       "  (120, 141),\n",
       "  (121, 57),\n",
       "  (122, 15),\n",
       "  (123, 172),\n",
       "  (124, 39),\n",
       "  (125, 83),\n",
       "  (126, 22),\n",
       "  (127, 13),\n",
       "  (128, 71),\n",
       "  (129, 144),\n",
       "  (130, 31),\n",
       "  (131, 82),\n",
       "  (132, 81),\n",
       "  (133, 167),\n",
       "  (134, 56),\n",
       "  (135, 147),\n",
       "  (136, 188),\n",
       "  (137, 122),\n",
       "  (138, 9),\n",
       "  (139, 73),\n",
       "  (140, 171),\n",
       "  (141, 26),\n",
       "  (142, 159),\n",
       "  (143, 86),\n",
       "  (144, 38),\n",
       "  (145, 163),\n",
       "  (146, 21),\n",
       "  (147, 64),\n",
       "  (148, 10),\n",
       "  (149, 162),\n",
       "  (150, 140),\n",
       "  (151, 78),\n",
       "  (152, 63),\n",
       "  (153, 68),\n",
       "  (154, 49),\n",
       "  (155, 124),\n",
       "  (156, 187),\n",
       "  (157, 136),\n",
       "  (158, 80),\n",
       "  (159, 4),\n",
       "  (160, 62),\n",
       "  (161, 8),\n",
       "  (162, 47),\n",
       "  (163, 155),\n",
       "  (164, 40),\n",
       "  (165, 69),\n",
       "  (166, 30),\n",
       "  (167, 14),\n",
       "  (168, 29),\n",
       "  (169, 51),\n",
       "  (170, 35),\n",
       "  (171, 112),\n",
       "  (172, 95),\n",
       "  (173, 5),\n",
       "  (174, 152),\n",
       "  (175, 123),\n",
       "  (176, 67),\n",
       "  (177, 12),\n",
       "  (178, 17),\n",
       "  (179, 59),\n",
       "  (180, 116),\n",
       "  (181, 179),\n",
       "  (182, 76),\n",
       "  (183, 11),\n",
       "  (184, 156),\n",
       "  (185, 100),\n",
       "  (186, 178),\n",
       "  (187, 103),\n",
       "  (188, 165),\n",
       "  (189, 151),\n",
       "  (190, 120),\n",
       "  (191, 118),\n",
       "  (192, 181),\n",
       "  (193, 168),\n",
       "  (194, 157),\n",
       "  (195, 148),\n",
       "  (196, 173)]}"
      ]
     },
     "execution_count": 14,
     "metadata": {},
     "output_type": "execute_result"
    }
   ],
   "source": [
    "# 3x3 version\n",
    "\"\"\"\n",
    "agg = pd.read_csv(os.path.join(PATH, \"Porto Taxi/processed/Porto taxi aggregated 3x3.csv\"))\n",
    "grid = pd.read_csv(os.path.join(PATH, \"Porto Taxi/processed/Porto taxi grid 3x3.csv\"))\n",
    "truth_data = pd.read_csv(os.path.join(PATH, \"Porto Taxi/processed/ground_truth 3x3.csv\"))\n",
    "N = 197 # number of users\n",
    "M = 9 # number of locations\n",
    "T = 4321 # number of timesteps\n",
    "D = 144 # number of intervals in one day\n",
    "\"\"\"\n",
    "#\"\"\"\n",
    "# 7x7 version\n",
    "agg = pd.read_csv(os.path.join(PATH, \"Porto Taxi/processed/Porto taxi aggregated 7x7.csv\"))\n",
    "grid = pd.read_csv(os.path.join(PATH, \"Porto Taxi/processed/Porto taxi grid 7x7.csv\"))\n",
    "truth_data = pd.read_csv(os.path.join(PATH, \"Porto Taxi/processed/ground_truth 7x7.csv\"))\n",
    "N = 197\n",
    "M = 49\n",
    "T = 4321\n",
    "D = 144\n",
    "#\"\"\"\n",
    "\n",
    "agg = agg.drop(\"datetime\", axis=1)\n",
    "grid = grid.drop([\"index\", \"bottomleft\", \"topright\"], axis=1)\n",
    "grid = grid.T.to_dict()\n",
    "for k, v in grid.items():\n",
    "    grid[k] = ast.literal_eval(v[\"towerlocation\"])\n",
    "\n",
    "truth_data.reset_index(inplace=True)\n",
    "truth_data[\"ordered_towers\"] = truth_data.apply(lambda x: (x[\"index\"], x[\"tower\"]), axis=1)\n",
    "truth = []\n",
    "for trajectory in truth_data.groupby(\"TAXI_ID\")[\"ordered_towers\"].apply(list):\n",
    "    tmp = sorted(trajectory, key=lambda x: x[0])\n",
    "    truth.append([ast.literal_eval(x[1]) for x in tmp])\n",
    "\n",
    "porto_taxi = TrajectoryRecovery(agg, grid, N, M, T, D)\n",
    "porto_taxi.run_algorithm()\n",
    "porto_taxi.evaluate(truth)\n",
    "porto_taxi.get_results()"
   ]
  },
  {
   "cell_type": "markdown",
   "metadata": {},
   "source": [
    "# 4 References"
   ]
  },
  {
   "cell_type": "markdown",
   "metadata": {},
   "source": [
    "1. F. Xu, Z. Tu, Y. Li, P. Zhang, X. Fu, and D. Jin, “Trajectory recovery from ash:\n",
    "User privacy is not preserved in aggregated mobility data,” in Proceedings of the\n",
    "26th International Conference on World Wide Web, ser. WWW ’17. International\n",
    "World Wide Web Conferences Steering Committee, Apr. 2017. [Online]. Available:\n",
    "http://dx.doi.org/10.1145/3038912.3052620\n",
    "\n",
    "2. Y. Zheng, H. Fu, X. Xie, W.-Y. Ma, and Q. Li, Geolife GPS trajectory dataset - User Guide, geolife gps trajectories 1.1 ed., July 2011. [Online]. Available: https://www.microsoft.com/en-us/research/publication/geolife-gps-trajectory-dataset-user-guide/\n",
    "\n",
    "3. M. O’Connell, L. Moreira-Matias, and W. Kan, “Ecml/pkdd 15: Taxi trajectory prediction (i),” 2015.  [Online]. Available: https://kaggle.com/competitions/pkdd-15-predict-taxi-service-trajectory-i\n"
   ]
  }
 ],
 "metadata": {
  "colab": {
   "provenance": []
  },
  "kernelspec": {
   "display_name": "Python 3 (ipykernel)",
   "language": "python",
   "name": "python3"
  },
  "language_info": {
   "codemirror_mode": {
    "name": "ipython",
    "version": 3
   },
   "file_extension": ".py",
   "mimetype": "text/x-python",
   "name": "python",
   "nbconvert_exporter": "python",
   "pygments_lexer": "ipython3",
   "version": "3.10.12"
  }
 },
 "nbformat": 4,
 "nbformat_minor": 4
}
